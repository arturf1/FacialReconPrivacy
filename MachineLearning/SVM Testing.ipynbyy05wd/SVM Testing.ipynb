{
 "cells": [
  {
   "cell_type": "code",
   "execution_count": 1,
   "metadata": {
    "collapsed": false
   },
   "outputs": [],
   "source": [
    "import scipy.io\n",
    "import numpy as np\n",
    "import matplotlib.pyplot as plt\n",
    "import random\n",
    "from random import sample\n",
    "import numpy as np\n",
    "import time\n",
    "from sklearn import svm\n",
    "from sklearn import preprocessing\n",
    "from sklearn import metrics\n",
    "from sklearn import cross_validation\n",
    "from sklearn import grid_search"
   ]
  },
  {
   "cell_type": "code",
   "execution_count": 2,
   "metadata": {
    "collapsed": false
   },
   "outputs": [],
   "source": [
    "# SVM CLASSIFICATION FUNCTIONS\n",
    "def randomSplit(X,y):\n",
    "    accuracy = np.array([])\n",
    "    # do 20 random splits\n",
    "    for i in range(2):\n",
    "        # leave 20% out for testing\n",
    "        skf = cross_validation.StratifiedKFold(y,n_folds=10,shuffle=True) \n",
    "        \n",
    "        for cv_i,test_i in skf:\n",
    "            print \"Train index: \" , cv_i\n",
    "            print \"Test index: \" , test_i\n",
    "            train_X = X[cv_i]\n",
    "            train_y = y[cv_i]\n",
    "            # do training here\n",
    "            clf = gridSearchSVM(train_X,train_y)\n",
    "\n",
    "            # do testing here\n",
    "            test_X = X[test_i]\n",
    "            test_y = y[test_i]\n",
    "            prediction = clf.predict(test_X)\n",
    "            print clf.best_params_\n",
    "            # record performance\n",
    "            foo = performance(prediction, test_y)\n",
    "            print \"Accuracy: \" , foo\n",
    "            accuracy = np.append(accuracy, foo)\n",
    "            break\n",
    "        \n",
    "    mean_acc = np.mean(accuracy)\n",
    "    return mean_acc\n",
    "\n",
    "\n",
    "def gridSearchSVM(X,y):\n",
    "    #parameters = {'kernel':('linear','rbf'), 'C':[1, 2, 3, 5, 10, 13, 15,20]}\n",
    "    parameters = {'kernel':('linear','rbf'), 'C':[1, 2, 3, 5]}\n",
    "    svr  = svm.SVC()\n",
    "    clf = grid_search.GridSearchCV(svr, parameters, cv = 5, n_jobs = 4, verbose=1)\n",
    "    clf.fit(X,y)\n",
    "    return clf\n",
    "\n",
    "def performance(prediction, target):\n",
    "    acc = metrics.accuracy_score(target, prediction, normalize=True)\n",
    "    return acc"
   ]
  },
  {
   "cell_type": "code",
   "execution_count": 3,
   "metadata": {
    "collapsed": true
   },
   "outputs": [],
   "source": [
    "# DATA LOADING FUNCTIONS\n",
    "def loadYaleData():\n",
    "    X = np.matrix(scipy.io.loadmat('yalefacesFFT.mat')['DATA'])\n",
    "    individuals = 15; \n",
    "    picsPerInd = 11;\n",
    "    Y = np.zeros((individuals*picsPerInd))\n",
    "    for i in range(0,individuals):\n",
    "        Y[(i)*picsPerInd:(i+1)*picsPerInd] = i;\n",
    "    return (X,Y)\n",
    "\n",
    "def loadOlivettiData():\n",
    "    X = np.matrix(scipy.io.loadmat('olivettifacesFFT.mat')['DATA'])\n",
    "    individuals = 40; \n",
    "    picsPerInd = 10;\n",
    "    Y = np.zeros((individuals*picsPerInd))\n",
    "    for i in range(0,individuals):\n",
    "        Y[(i)*picsPerInd:(i+1)*picsPerInd] = i;\n",
    "    return (X,Y)"
   ]
  },
  {
   "cell_type": "code",
   "execution_count": 27,
   "metadata": {
    "collapsed": false
   },
   "outputs": [],
   "source": [
    "# TRANFORMATION FUNCTIONS\n",
    "\n",
    "def removePhase(V):\n",
    "    return V[0:V.shape[0]/2].reshape(V.shape[0]/2);\n",
    "\n",
    "def recFilter(w,h,fw,fh):\n",
    "    h = h + 1\n",
    "    F = np.zeros((h,w));\n",
    "    for i in range((w-1)/2+1 - fw/2, (w-1)/2+1 + fw/2 - 1):\n",
    "        for j in range(h - fh - 1, h):\n",
    "            F[j,i] = 1\n",
    "    return np.reshape(F,(w*h),order='F')\n",
    "\n",
    "def triFilter(w,h,fw,fh):\n",
    "    h = h + 1\n",
    "    F = np.zeros((h,w));\n",
    "    for j in range(h - fh -1, h):\n",
    "        span = (j - (h - fh)) * (fw/2)/fh;\n",
    "        for i in range((w-1)/2+1 - span, (w-1)/2+1 + span - 1):\n",
    "            F[j,i] = 1\n",
    "    return np.reshape(F,(w*h),order='F')"
   ]
  },
  {
   "cell_type": "code",
   "execution_count": null,
   "metadata": {
    "collapsed": false
   },
   "outputs": [],
   "source": []
  },
  {
   "cell_type": "code",
   "execution_count": 5,
   "metadata": {
    "collapsed": false
   },
   "outputs": [],
   "source": [
    "# RECONSTRUCTION FUNCTIONS\n",
    "\n",
    "# Reconstruct an image from the Yale database \n",
    "# based on the all frequecies and phases\n",
    "def getYaleface(V):\n",
    "    R = V[0:63*32];\n",
    "    theta = V[63*32:];\n",
    "\n",
    "    # set reshape to FORTRAN order since that is what matlab uses\n",
    "    R = np.reshape(R, (32,63),order='F')\n",
    "    theta = np.reshape(theta, (32,63),order='F')\n",
    "\n",
    "    FFTimg = np.multiply(R,np.exp(np.sqrt(-1+0j)*theta));\n",
    "    FFTimg = np.concatenate((FFTimg, np.conj(np.rot90(FFTimg[0:31,:],2))), axis=0);       \n",
    "    img = np.fft.ifft2(np.fft.ifftshift(FFTimg));\n",
    "    \n",
    "    return np.real(img)\n",
    "\n",
    "def getYaleFFTImg(V):\n",
    "    R = V[0:63*32];\n",
    "    theta = V[63*32:];\n",
    "\n",
    "    # set reshape to FORTRAN order since that is what matlab uses\n",
    "    R = np.reshape(R, (32,63),order='F')\n",
    "    theta = np.reshape(theta, (32,63),order='F')\n",
    "\n",
    "    FFTimg = np.multiply(R,np.exp(np.sqrt(-1+0j)*theta));\n",
    "    FFTimg = np.concatenate((FFTimg, np.conj(np.rot90(FFTimg[0:31,:],2))), axis=0); \n",
    "    return np.log(FFTimg + 1);\n",
    "\n",
    "# Reconstruct an image from the Olivetti database \n",
    "# based on the all frequecies and phases\n",
    "def getOlivettiface(V):\n",
    "    R = V[0:63*32];\n",
    "    theta = V[63*32:];\n",
    "\n",
    "    # set reshape to FORTRAN order since that is what matlab uses\n",
    "    R = np.reshape(R, (32,63),order='F')\n",
    "    theta = np.reshape(theta, (32,63),order='F')\n",
    "\n",
    "    FFTimg = np.multiply(R,np.exp(np.sqrt(-1+0j)*theta));\n",
    "    FFTimg = np.concatenate((FFTimg, np.conj(np.rot90(FFTimg[0:31,:],2))), axis=0);       \n",
    "    img = np.fft.ifft2(np.fft.ifftshift(FFTimg));\n",
    "    \n",
    "    return np.real(img)\n",
    "\n",
    "def getOlivettiFFTImg(V):\n",
    "    R = V[0:63*32];\n",
    "    theta = V[63*32:];\n",
    "\n",
    "    # set reshape to FORTRAN order since that is what matlab uses\n",
    "    R = np.reshape(R, (32,63),order='F')\n",
    "    theta = np.reshape(theta, (32,63),order='F')\n",
    "\n",
    "    FFTimg = np.multiply(R,np.exp(np.sqrt(-1+0j)*theta));\n",
    "    FFTimg = np.concatenate((FFTimg, np.conj(np.rot90(FFTimg[0:31,:],2))), axis=0); \n",
    "    return np.log(FFTimg + 1);\n",
    "\n",
    "def addZeroPhase(V,):\n",
    "    F = np.zeros((V.shape[0]*2))\n",
    "    # add magnitude \n",
    "    F[0:V.shape[0]] = V[0:V.shape[0]].reshape(V.shape[0]);\n",
    "    # add original phase\n",
    "    #F[V.shape[0]:] = X[V.shape[0]:, i].reshape(V.shape[0]);\n",
    "    # add zero phase\n",
    "    F[V.shape[0]:] = 0;\n",
    "    return F.reshape(F.shape[0]);"
   ]
  },
  {
   "cell_type": "code",
   "execution_count": 22,
   "metadata": {
    "collapsed": false
   },
   "outputs": [],
   "source": [
    "# DISPLAY FUNCTIONS\n",
    "# h,w are height and width of the individual images, nh,nw are the dimensions of the \n",
    "# collage interms of images \n",
    "def makeCollage(h, w, nh, nw, DATA, randImg, getImage):\n",
    "    \n",
    "    border = 10\n",
    "    collage = np.zeros((h*nh+border*(nh+1),w*nw+border*(nw+1)));\n",
    "    #randImg = sample(xrange(DATA.shape[1]), nw*nh)\n",
    "\n",
    "    for i in range(0,nw):\n",
    "        for j in range(0,nh):\n",
    "            img = getImage(DATA[:,randImg[nw*i + j]])\n",
    "            collage[(i+1)*border-1+i*h:(i+1)*h+(i+1)*border-1, (j+1)*border+j*w-1:(j+1)*border-1+(j+1)*w] = img\n",
    "    \n",
    "    return collage\n",
    "    "
   ]
  },
  {
   "cell_type": "code",
   "execution_count": null,
   "metadata": {
    "collapsed": false
   },
   "outputs": [],
   "source": []
  },
  {
   "cell_type": "code",
   "execution_count": 111,
   "metadata": {
    "collapsed": false
   },
   "outputs": [],
   "source": [
    "# BASELINE CLASSIFICATION\n",
    "(X,Y) = loadOlivettiData()\n",
    "print randomSplit(np.transpose(X),Y)"
   ]
  },
  {
   "cell_type": "code",
   "execution_count": 25,
   "metadata": {
    "collapsed": false
   },
   "outputs": [],
   "source": [
    "(X,Y) = loadYaleData() \n",
    "plt.imshow(makeCollage(63, 63, 10, 10, X, random.sample(range(Y.shape[0]), 100), getYaleface));\n",
    "plt.gray()\n",
    "plt.show()\n",
    "\n",
    "(X,Y) = loadOlivettiData()\n",
    "plt.imshow(makeCollage(63, 63, 10, 10, X, random.sample(range(Y.shape[0]), 100), getYaleface));\n",
    "plt.gray()\n",
    "plt.show()"
   ]
  },
  {
   "cell_type": "code",
   "execution_count": 7,
   "metadata": {
    "collapsed": false
   },
   "outputs": [
    {
     "name": "stdout",
     "output_type": "stream",
     "text": [
      "(4032, 400)\n",
      "(2016, 400)\n",
      "(4032, 400)\n"
     ]
    },
    {
     "data": {
      "text/plain": [
       "array([[ 0.,  0.,  0., ...,  0.,  0.,  0.],\n",
       "       [ 0.,  0.,  0., ...,  0.,  0.,  0.],\n",
       "       [ 0.,  0.,  0., ...,  0.,  0.,  0.],\n",
       "       ..., \n",
       "       [ 0.,  0.,  0., ...,  0.,  0.,  0.],\n",
       "       [ 0.,  0.,  0., ...,  0.,  0.,  0.],\n",
       "       [ 0.,  0.,  0., ...,  0.,  0.,  0.]])"
      ]
     },
     "execution_count": 7,
     "metadata": {},
     "output_type": "execute_result"
    }
   ],
   "source": [
    "# NO PHASE CLASSIFICATION\n",
    "yaleHeight = 243\n",
    "yaleWidth = 319\n",
    "olivettHeight = 63\n",
    "olivettWidth = 63\n",
    "\n",
    "(X,Y) = loadOlivettiData()\n",
    "\n",
    "\n",
    "xNoPhase = np.zeros([X.shape[0]/2, X.shape[1]])\n",
    "\n",
    "for i in range(0,X.shape[1]):\n",
    "    xNoPhase[:,i] = removePhase(X[:,i])[:]\n",
    "\n",
    "xZeroPhase = np.zeros([X.shape[0], X.shape[1]])\n",
    "for i in range(0,X.shape[1]):\n",
    "    xZeroPhase[:,i] = addZeroPhase(xNoPhase[:,i])[:]\n",
    "\n",
    "print X.shape\n",
    "print xNoPhase.shape\n",
    "print xZeroPhase.shape\n",
    "\n",
    "randImgs = sample(xrange(X.shape[1]), 4)\n",
    "makeCollage(olivettHeight, olivettWidth, 1, 1, X, randImgs, getOlivettiface)\n",
    "makeCollage(olivettHeight, olivettWidth, 1, 1, xZeroPhase, randImgs, getOlivettiface)\n",
    "\n",
    "#print randomSplit(np.transpose(xNoPhase),Y)"
   ]
  },
  {
   "cell_type": "code",
   "execution_count": 31,
   "metadata": {
    "collapsed": false
   },
   "outputs": [
    {
     "name": "stderr",
     "output_type": "stream",
     "text": [
      "C:\\Users\\AI\\Anaconda\\lib\\site-packages\\IPython\\kernel\\__main__.py:13: ComplexWarning: Casting complex values to real discards the imaginary part\n"
     ]
    }
   ],
   "source": [
    "# Make Filtered Datasets\n",
    "height = 63\n",
    "width = 63\n",
    "\n",
    "for w in range(5, 40, 5):\n",
    "    (X,Y) = loadOlivettiData()\n",
    "    F = triFilter(width, (height-1)/2, w, w)\n",
    "    randImgs = [0, 72, 84, 9, 111]\n",
    "\n",
    "    for i in range(0, X.shape[1]):\n",
    "        for j in range(0, F.shape[0]):\n",
    "            X[j,i] = X[j,i] * F[j]\n",
    "\n",
    "    #print np.count_nonzero(X[0:F.shape[0]+1,0])\n",
    "    np.save(\"olivettiF_R_\" + str(w) + \"_\" + str(w), X)\n",
    "    c = makeCollage(height, width, 1, 1, X, randImgs, getOlivettiFFTImg)\n",
    "    scipy.misc.imsave('oFFT_R_' + str(w) + \"_\" + str(w) + '.jpg', c)\n",
    "    c = makeCollage(height, width, 1, 1, X, randImgs, getOlivettiface)\n",
    "    scipy.misc.imsave('oRecon_R_' + str(w) + \"_\" + str(w) + '.jpg', c)"
   ]
  },
  {
   "cell_type": "code",
   "execution_count": 112,
   "metadata": {
    "collapsed": false,
    "scrolled": true
   },
   "outputs": [],
   "source": [
    "# Run Classification on Filtered Data (Rectangle)\n",
    "accuracy_phase = np.array([])\n",
    "dim_phase = np.array([]) \n",
    "accuracy_nophase = np.array([])\n",
    "dim_nophase = np.array([]) \n",
    "\n",
    "# load the labels \n",
    "(X,Y) = loadYaleData()\n",
    "\n",
    "for w in range(10, 130, 10):\n",
    "    # load filtered data \n",
    "    X = np.load(\"./Filters/FilteredData/yaleF_R_\" + str(w) + \"_\" + str(w) + \".npy\")\n",
    "        \n",
    "    X_nophase = np.zeros([X.shape[0]/2, X.shape[1]])\n",
    "    for i in range(0,X.shape[1]):\n",
    "        X_nophase[:,i] = removePhase(X[:,i])[:]\n",
    "    \n",
    "    \n",
    "    accuracy_phase = np.append(accuracy_phase, randomSplit(np.transpose(X),Y))\n",
    "    print accuracy_phase[-1]\n",
    "    \n",
    "    dim_phase = np.append(dim_phase, w*w + X.shape[0]/2) \n",
    "    print dim_phase[-1]\n",
    "    \n",
    "    accuracy_nophase = np.append(accuracy_nophase, randomSplit(np.transpose(X_nophase),Y))\n",
    "    print accuracy_nophase[-1]\n",
    "    \n",
    "    dim_nophase = np.append(dim_nophase, w*w)\n",
    "    print dim_nophase[-1]\n",
    "\n",
    "np.savetxt(\"Y_R_acc_phase\", accuracy_phase)\n",
    "np.savetxt(\"Y_R_dim_phase\", dim_phase)\n",
    "np.savetxt(\"Y_R_acc_nophase\", accuracy_nophase)\n",
    "np.savetxt(\"Y_R_dim_phase\", dim_nophase)\n"
   ]
  },
  {
   "cell_type": "code",
   "execution_count": 8,
   "metadata": {
    "collapsed": false,
    "scrolled": true
   },
   "outputs": [
    {
     "name": "stdout",
     "output_type": "stream",
     "text": [
      "Train index:  [  0   1   2   3   4   5   6   8   9  10  11  12  13  14  15  16  17  18\n",
      "  20  21  22  23  24  26  27  28  29  30  31  32  34  35  36  37  38  39\n",
      "  40  41  42  44  45  46  47  48  49  51  52  53  54  55  56  57  58  59\n",
      "  60  61  62  63  64  65  66  67  68  70  71  72  73  74  75  77  78  79\n",
      "  80  81  82  83  84  86  87  88  89  90  91  92  93  94  95  96  97  98\n",
      " 100 101 102 103 104 105 106 107 108 110 111 112 113 114 115 116 117 119\n",
      " 121 122 123 124 125 126 127 128 129 130 131 132 133 134 135 136 137 139\n",
      " 141 142 143 144 145 146 147 148 149 151 152 153 154 155 156 157 158 159\n",
      " 160 162 163 164 165 166 167 168 169 170 172 173 174 175 176 177 178 179\n",
      " 180 181 182 183 184 185 187 188 189 190 191 192 193 194 196 197 198 199\n",
      " 200 201 202 204 205 206 207 208 209 210 211 213 214 215 216 217 218 219\n",
      " 220 222 223 224 225 226 227 228 229 230 231 233 234 235 236 237 238 239\n",
      " 240 241 242 243 244 245 247 248 249 250 251 252 253 254 256 257 258 259\n",
      " 260 261 262 263 264 265 267 268 269 270 272 273 274 275 276 277 278 279\n",
      " 280 281 282 283 284 285 286 288 289 290 291 292 293 295 296 297 298 299\n",
      " 300 301 302 303 304 305 306 307 308 310 311 312 313 314 315 317 318 319\n",
      " 320 321 322 323 324 325 327 328 329 330 331 332 333 334 335 336 338 339\n",
      " 340 341 342 343 344 345 346 347 348 350 351 352 353 354 355 357 358 359\n",
      " 360 362 363 364 365 366 367 368 369 370 371 372 373 375 376 377 378 379\n",
      " 381 382 383 384 385 386 387 388 389 390 391 393 394 395 396 397 398 399]\n",
      "Test index:  [  7  19  25  33  43  50  69  76  85  99 109 118 120 138 140 150 161 171\n",
      " 186 195 203 212 221 232 246 255 266 271 287 294 309 316 326 337 349 356\n",
      " 361 374 380 392]\n",
      "Fitting 5 folds for each of 8 candidates, totalling 40 fits\n"
     ]
    },
    {
     "name": "stderr",
     "output_type": "stream",
     "text": [
      "[Parallel(n_jobs=4)]: Done   1 jobs       | elapsed:    1.5s\n",
      "[Parallel(n_jobs=4)]: Done  34 out of  40 | elapsed:   16.0s remaining:    2.8s\n",
      "[Parallel(n_jobs=4)]: Done  40 out of  40 | elapsed:   19.3s finished\n"
     ]
    },
    {
     "name": "stdout",
     "output_type": "stream",
     "text": [
      "{'kernel': 'linear', 'C': 1}\n",
      "Accuracy:  0.925\n",
      "Train index:  [  0   1   2   3   4   5   6   7   8  10  11  12  13  14  15  17  18  19\n",
      "  20  21  22  23  24  25  26  27  28  30  31  32  34  35  36  37  38  39\n",
      "  40  42  43  44  45  46  47  48  49  50  51  53  54  55  56  57  58  59\n",
      "  60  61  62  64  65  66  67  68  69  71  72  73  74  75  76  77  78  79\n",
      "  80  81  82  83  84  85  86  87  88  91  92  93  94  95  96  97  98  99\n",
      " 100 101 102 103 104 105 107 108 109 110 111 112 114 115 116 117 118 119\n",
      " 120 121 122 123 124 125 126 128 129 130 131 132 133 134 135 136 137 139\n",
      " 140 141 142 143 144 145 147 148 149 150 151 152 153 154 155 156 158 159\n",
      " 160 162 163 164 165 166 167 168 169 170 171 172 173 174 175 176 178 179\n",
      " 180 181 183 184 185 186 187 188 189 190 191 192 193 194 195 196 198 199\n",
      " 200 201 202 203 204 205 206 207 209 210 211 212 213 214 215 216 217 218\n",
      " 221 222 223 224 225 226 227 228 229 230 231 233 234 235 236 237 238 239\n",
      " 241 242 243 244 245 246 247 248 249 250 251 252 253 254 255 256 257 258\n",
      " 260 261 262 264 265 266 267 268 269 270 271 272 273 274 275 277 278 279\n",
      " 281 282 283 284 285 286 287 288 289 291 292 293 294 295 296 297 298 299\n",
      " 300 301 302 303 304 306 307 308 309 310 311 312 314 315 316 317 318 319\n",
      " 320 322 323 324 325 326 327 328 329 330 332 333 334 335 336 337 338 339\n",
      " 340 341 342 343 344 346 347 348 349 350 351 352 353 354 355 356 358 359\n",
      " 360 361 362 363 364 365 366 367 368 370 371 372 374 375 376 377 378 379\n",
      " 381 382 383 384 385 386 387 388 389 390 391 392 393 395 396 397 398 399]\n",
      "Test index:  [  9  16  29  33  41  52  63  70  89  90 106 113 127 138 146 157 161 177\n",
      " 182 197 208 219 220 232 240 259 263 276 280 290 305 313 321 331 345 357\n",
      " 369 373 380 394]\n",
      "Fitting 5 folds for each of 8 candidates, totalling 40 fits\n"
     ]
    },
    {
     "name": "stderr",
     "output_type": "stream",
     "text": [
      "[Parallel(n_jobs=4)]: Done   1 jobs       | elapsed:    1.2s\n",
      "[Parallel(n_jobs=4)]: Done  34 out of  40 | elapsed:   15.9s remaining:    2.8s\n",
      "[Parallel(n_jobs=4)]: Done  40 out of  40 | elapsed:   19.2s finished\n"
     ]
    },
    {
     "name": "stdout",
     "output_type": "stream",
     "text": [
      "{'kernel': 'linear', 'C': 1}\n",
      "Accuracy:  0.95\n",
      "0.9375\n",
      "2048.0\n",
      "Train index:  [  1   2   3   4   5   6   7   8   9  10  11  12  13  14  15  17  18  19\n",
      "  20  21  22  23  24  25  26  27  29  30  31  32  33  34  35  36  37  38\n",
      "  40  41  42  43  45  46  47  48  49  50  51  52  53  54  55  57  58  59\n",
      "  60  61  62  63  65  66  67  68  69  70  71  72  74  75  76  77  78  79\n",
      "  80  81  82  83  84  85  87  88  89  90  92  93  94  95  96  97  98  99\n",
      " 100 101 102 103 104 105 106 107 109 111 112 113 114 115 116 117 118 119\n",
      " 120 121 122 124 125 126 127 128 129 130 131 132 133 134 135 137 138 139\n",
      " 141 142 143 144 145 146 147 148 149 150 151 153 154 155 156 157 158 159\n",
      " 160 161 163 164 165 166 167 168 169 170 171 172 174 175 176 177 178 179\n",
      " 180 181 182 183 184 186 187 188 189 190 191 192 193 194 195 196 197 198\n",
      " 201 202 203 204 205 206 207 208 209 210 211 212 213 214 215 216 217 219\n",
      " 220 221 223 224 225 226 227 228 229 230 231 232 233 234 235 236 237 238\n",
      " 240 241 242 244 245 246 247 248 249 250 251 253 254 255 256 257 258 259\n",
      " 260 262 263 264 265 266 267 268 269 270 271 272 273 274 275 276 277 278\n",
      " 280 281 282 283 285 286 287 288 289 290 291 292 293 294 295 296 297 298\n",
      " 301 302 303 304 305 306 307 308 309 310 311 312 313 314 316 317 318 319\n",
      " 320 321 322 324 325 326 327 328 329 330 331 332 333 334 335 336 337 339\n",
      " 340 342 343 344 345 346 347 348 349 350 351 352 353 354 355 356 358 359\n",
      " 360 362 363 364 365 366 367 368 369 371 372 373 374 375 376 377 378 379\n",
      " 381 382 383 384 385 386 387 388 389 390 391 392 393 394 396 397 398 399]\n",
      "Test index:  [  0  16  28  39  44  56  64  73  86  91 108 110 123 136 140 152 162 173\n",
      " 185 199 200 218 222 239 243 252 261 279 284 299 300 315 323 338 341 357\n",
      " 361 370 380 395]\n",
      "Fitting 5 folds for each of 8 candidates, totalling 40 fits\n"
     ]
    },
    {
     "name": "stderr",
     "output_type": "stream",
     "text": [
      "[Parallel(n_jobs=4)]: Done   1 jobs       | elapsed:    0.7s\n",
      "[Parallel(n_jobs=4)]: Done  34 out of  40 | elapsed:    8.2s remaining:    1.5s\n",
      "[Parallel(n_jobs=4)]: Done  40 out of  40 | elapsed:    9.8s finished\n"
     ]
    },
    {
     "name": "stdout",
     "output_type": "stream",
     "text": [
      "{'kernel': 'linear', 'C': 1}\n",
      "Accuracy:  0.975\n",
      "Train index:  [  0   1   2   3   4   5   7   8   9  10  11  12  13  14  15  16  18  19\n",
      "  20  21  22  23  24  26  27  28  29  30  31  32  34  35  36  37  38  39\n",
      "  40  41  43  44  45  46  47  48  49  50  51  52  53  54  55  56  57  58\n",
      "  60  61  62  63  64  65  66  68  69  70  71  72  73  74  75  76  78  79\n",
      "  80  81  82  83  84  85  86  88  89  90  92  93  94  95  96  97  98  99\n",
      " 100 101 102 103 105 106 107 108 109 110 112 113 114 115 116 117 118 119\n",
      " 120 121 122 123 125 126 127 128 129 130 131 133 134 135 136 137 138 139\n",
      " 140 141 142 143 144 145 147 148 149 151 152 153 154 155 156 157 158 159\n",
      " 160 161 162 164 165 166 167 168 169 170 171 172 173 175 176 177 178 179\n",
      " 180 181 182 184 185 186 187 188 189 190 192 193 194 195 196 197 198 199\n",
      " 200 201 202 203 204 205 207 208 209 210 211 212 213 214 215 216 217 218\n",
      " 220 221 222 224 225 226 227 228 229 230 231 233 234 235 236 237 238 239\n",
      " 240 241 242 243 245 246 247 248 249 250 251 252 253 254 256 257 258 259\n",
      " 260 261 263 264 265 266 267 268 269 270 271 272 273 275 276 277 278 279\n",
      " 280 281 282 284 285 286 287 288 289 290 292 293 294 295 296 297 298 299\n",
      " 300 301 302 303 304 306 307 308 309 310 311 313 314 315 316 317 318 319\n",
      " 320 322 323 324 325 326 327 328 329 330 331 332 333 334 335 337 338 339\n",
      " 340 341 342 343 344 345 346 348 349 350 351 352 353 354 355 356 357 358\n",
      " 360 361 362 363 364 366 367 368 369 370 371 372 374 375 376 377 378 379\n",
      " 380 381 382 383 384 385 386 387 389 390 391 392 393 394 395 396 397 398]\n",
      "Test index:  [  6  17  25  33  42  59  67  77  87  91 104 111 124 132 146 150 163 174\n",
      " 183 191 206 219 223 232 244 255 262 274 283 291 305 312 321 336 347 359\n",
      " 365 373 388 399]\n",
      "Fitting 5 folds for each of 8 candidates, totalling 40 fits\n"
     ]
    },
    {
     "name": "stderr",
     "output_type": "stream",
     "text": [
      "[Parallel(n_jobs=4)]: Done   1 jobs       | elapsed:    0.6s\n",
      "[Parallel(n_jobs=4)]: Done  34 out of  40 | elapsed:    8.2s remaining:    1.5s\n",
      "[Parallel(n_jobs=4)]: Done  40 out of  40 | elapsed:    9.8s finished\n"
     ]
    },
    {
     "name": "stdout",
     "output_type": "stream",
     "text": [
      "{'kernel': 'linear', 'C': 1}\n",
      "Accuracy:  0.975\n",
      "0.975\n",
      "32.0\n",
      "Train index:  [  0   1   2   4   5   6   7   8   9  10  11  12  13  14  16  17  18  19\n",
      "  20  21  22  23  24  25  26  27  28  30  31  32  33  34  35  37  38  39\n",
      "  40  41  43  44  45  46  47  48  49  51  52  53  54  55  56  57  58  59\n",
      "  60  61  62  64  65  66  67  68  69  70  71  72  73  74  76  77  78  79\n",
      "  80  81  82  83  85  86  87  88  89  90  91  92  93  94  96  97  98  99\n",
      " 100 102 103 104 105 106 107 108 109 110 111 112 113 114 116 117 118 119\n",
      " 120 121 123 124 125 126 127 128 129 130 132 133 134 135 136 137 138 139\n",
      " 140 141 142 143 144 145 146 147 148 150 151 153 154 155 156 157 158 159\n",
      " 160 161 162 163 164 165 166 167 169 170 171 172 173 174 175 176 178 179\n",
      " 181 182 183 184 185 186 187 188 189 190 191 192 193 194 195 196 198 199\n",
      " 200 201 202 203 204 205 206 207 209 210 212 213 214 215 216 217 218 219\n",
      " 220 221 222 223 224 225 226 227 229 230 231 232 233 235 236 237 238 239\n",
      " 240 241 242 243 244 245 246 247 248 250 251 252 254 255 256 257 258 259\n",
      " 260 261 262 263 265 266 267 268 269 271 272 273 274 275 276 277 278 279\n",
      " 280 281 283 284 285 286 287 288 289 290 291 293 294 295 296 297 298 299\n",
      " 300 301 302 303 305 306 307 308 309 310 311 312 313 314 315 316 317 318\n",
      " 320 322 323 324 325 326 327 328 329 330 331 332 333 334 335 337 338 339\n",
      " 340 341 342 343 345 346 347 348 349 350 351 352 353 355 356 357 358 359\n",
      " 360 362 363 364 365 366 367 368 369 370 371 373 374 375 376 377 378 379\n",
      " 381 382 383 384 385 386 387 388 389 391 392 393 394 395 396 397 398 399]\n",
      "Test index:  [  3  15  29  36  42  50  63  75  84  95 101 115 122 131 149 152 168 177\n",
      " 180 197 208 211 228 234 249 253 264 270 282 292 304 319 321 336 344 354\n",
      " 361 372 380 390]\n",
      "Fitting 5 folds for each of 8 candidates, totalling 40 fits\n"
     ]
    },
    {
     "name": "stderr",
     "output_type": "stream",
     "text": [
      "[Parallel(n_jobs=4)]: Done   1 jobs       | elapsed:    1.4s\n",
      "[Parallel(n_jobs=4)]: Done  34 out of  40 | elapsed:   17.1s remaining:    3.0s\n",
      "[Parallel(n_jobs=4)]: Done  40 out of  40 | elapsed:   20.2s finished\n"
     ]
    },
    {
     "name": "stdout",
     "output_type": "stream",
     "text": [
      "{'kernel': 'linear', 'C': 1}\n",
      "Accuracy:  0.95\n",
      "Train index:  [  0   1   2   3   5   6   7   8   9  10  11  12  13  14  15  16  17  19\n",
      "  20  21  22  23  24  25  26  27  28  30  31  32  33  34  35  36  37  39\n",
      "  40  41  42  43  44  45  46  47  49  50  51  53  54  55  56  57  58  59\n",
      "  60  62  63  64  65  66  67  68  69  71  72  73  74  75  76  77  78  79\n",
      "  80  81  82  83  84  85  86  87  88  91  92  93  94  95  96  97  98  99\n",
      " 100 101 102 104 105 106 107 108 109 111 112 113 114 115 116 117 118 119\n",
      " 120 121 122 123 124 126 127 128 129 130 131 132 133 135 136 137 138 139\n",
      " 140 141 142 143 144 146 147 148 149 150 151 152 153 154 155 156 158 159\n",
      " 160 161 162 163 164 165 166 167 168 170 171 172 173 174 175 176 177 178\n",
      " 180 181 182 183 184 185 186 187 188 191 192 193 194 195 196 197 198 199\n",
      " 200 201 203 204 205 206 207 208 209 210 211 212 213 214 215 216 218 219\n",
      " 220 221 223 224 225 226 227 228 229 230 231 232 233 234 236 237 238 239\n",
      " 240 241 242 243 245 246 247 248 249 250 251 252 253 254 255 256 258 259\n",
      " 260 261 262 263 265 266 267 268 269 270 271 272 273 274 275 276 277 279\n",
      " 280 281 282 283 284 285 286 287 288 290 292 293 294 295 296 297 298 299\n",
      " 300 301 302 303 304 305 306 307 309 310 312 313 314 315 316 317 318 319\n",
      " 320 321 322 323 324 325 326 327 329 330 331 332 333 334 335 336 338 339\n",
      " 340 341 342 343 345 346 347 348 349 350 352 353 354 355 356 357 358 359\n",
      " 360 361 362 363 364 365 366 367 368 370 371 372 373 374 375 376 377 379\n",
      " 380 381 382 383 384 385 386 387 389 390 391 392 393 394 395 396 397 398]\n",
      "Test index:  [  4  18  29  38  48  52  61  70  89  90 103 110 125 134 145 157 169 179\n",
      " 189 190 202 217 222 235 244 257 264 278 289 291 308 311 328 337 344 351\n",
      " 369 378 388 399]\n",
      "Fitting 5 folds for each of 8 candidates, totalling 40 fits\n"
     ]
    },
    {
     "name": "stderr",
     "output_type": "stream",
     "text": [
      "[Parallel(n_jobs=4)]: Done   1 jobs       | elapsed:    1.4s\n",
      "[Parallel(n_jobs=4)]: Done  34 out of  40 | elapsed:   17.5s remaining:    3.1s\n",
      "[Parallel(n_jobs=4)]: Done  40 out of  40 | elapsed:   20.6s finished\n"
     ]
    },
    {
     "name": "stdout",
     "output_type": "stream",
     "text": [
      "{'kernel': 'linear', 'C': 1}\n",
      "Accuracy:  0.975\n",
      "0.9625\n",
      "2178.0\n",
      "Train index:  [  0   2   3   4   5   6   7   8   9  10  11  12  13  14  15  16  18  19\n",
      "  20  21  23  24  25  26  27  28  29  30  31  32  33  34  35  37  38  39\n",
      "  41  42  43  44  45  46  47  48  49  50  51  52  53  54  55  56  57  58\n",
      "  60  61  62  63  64  65  66  67  68  70  71  72  73  74  75  76  77  78\n",
      "  80  81  82  83  84  86  87  88  89  90  91  92  93  94  95  96  98  99\n",
      " 100 101 102 103 104 106 107 108 109 110 111 113 114 115 116 117 118 119\n",
      " 120 121 122 124 125 126 127 128 129 130 131 132 133 134 135 136 137 139\n",
      " 140 141 142 143 144 145 147 148 149 150 152 153 154 155 156 157 158 159\n",
      " 160 161 162 163 164 165 167 168 169 170 172 173 174 175 176 177 178 179\n",
      " 180 181 182 183 184 185 187 188 189 190 191 192 194 195 196 197 198 199\n",
      " 200 201 202 204 205 206 207 208 209 210 211 212 213 214 215 216 217 218\n",
      " 220 221 222 223 225 226 227 228 229 230 231 232 234 235 236 237 238 239\n",
      " 240 241 242 244 245 246 247 248 249 250 252 253 254 255 256 257 258 259\n",
      " 260 261 263 264 265 266 267 268 269 270 271 273 274 275 276 277 278 279\n",
      " 280 281 282 283 284 286 287 288 289 290 291 292 293 295 296 297 298 299\n",
      " 300 301 302 303 304 306 307 308 309 310 311 312 313 314 315 316 318 319\n",
      " 320 321 322 323 324 325 326 327 328 330 331 332 333 334 335 336 337 339\n",
      " 340 341 342 343 345 346 347 348 349 350 351 352 353 354 355 356 357 359\n",
      " 360 361 362 363 364 365 366 368 369 370 371 372 373 374 376 377 378 379\n",
      " 380 381 382 383 384 385 387 388 389 390 391 392 393 394 395 396 398 399]\n",
      "Test index:  [  1  17  22  36  40  59  69  79  85  97 105 112 123 138 146 151 166 171\n",
      " 186 193 203 219 224 233 243 251 262 272 285 294 305 317 329 338 344 358\n",
      " 367 375 386 397]\n",
      "Fitting 5 folds for each of 8 candidates, totalling 40 fits\n"
     ]
    },
    {
     "name": "stderr",
     "output_type": "stream",
     "text": [
      "[Parallel(n_jobs=4)]: Done   1 jobs       | elapsed:    0.8s\n",
      "[Parallel(n_jobs=4)]: Done  34 out of  40 | elapsed:    8.6s remaining:    1.5s\n",
      "[Parallel(n_jobs=4)]: Done  40 out of  40 | elapsed:   10.3s finished\n"
     ]
    },
    {
     "name": "stdout",
     "output_type": "stream",
     "text": [
      "{'kernel': 'linear', 'C': 1}\n",
      "Accuracy:  1.0\n",
      "Train index:  [  0   1   2   3   5   6   7   8   9  10  11  12  13  15  16  17  18  19\n",
      "  20  21  22  23  24  26  27  28  29  30  31  32  33  34  35  36  38  39\n",
      "  40  41  42  43  44  45  46  48  49  50  52  53  54  55  56  57  58  59\n",
      "  60  61  62  63  64  65  66  68  69  70  71  72  73  74  75  76  77  78\n",
      "  80  82  83  84  85  86  87  88  89  90  91  92  93  94  95  96  97  98\n",
      " 100 102 103 104 105 106 107 108 109 110 111 113 114 115 116 117 118 119\n",
      " 120 121 123 124 125 126 127 128 129 130 131 132 134 135 136 137 138 139\n",
      " 140 141 142 143 144 145 147 148 149 150 151 152 153 154 155 156 157 159\n",
      " 160 161 162 163 164 165 166 167 168 170 171 172 173 174 175 176 177 178\n",
      " 180 181 182 183 184 185 186 188 189 190 191 192 193 194 195 196 197 199\n",
      " 200 201 202 203 205 206 207 208 209 210 211 212 213 215 216 217 218 219\n",
      " 220 221 222 223 224 225 226 228 229 230 232 233 234 235 236 237 238 239\n",
      " 240 241 242 243 244 245 246 247 248 250 251 252 253 254 255 256 257 259\n",
      " 260 261 262 263 265 266 267 268 269 270 271 272 273 274 275 276 277 279\n",
      " 280 281 283 284 285 286 287 288 289 290 291 292 293 294 295 296 297 298\n",
      " 300 301 302 304 305 306 307 308 309 310 311 312 314 315 316 317 318 319\n",
      " 320 321 322 323 324 325 327 328 329 330 332 333 334 335 336 337 338 339\n",
      " 340 341 342 343 344 345 347 348 349 350 351 352 353 355 356 357 358 359\n",
      " 360 361 362 363 364 365 367 368 369 370 371 372 373 374 375 377 378 379\n",
      " 380 381 382 383 384 385 386 388 389 390 391 392 393 395 396 397 398 399]\n",
      "Test index:  [  4  14  25  37  47  51  67  79  81  99 101 112 122 133 146 158 169 179\n",
      " 187 198 204 214 227 231 249 258 264 278 282 299 303 313 326 331 346 354\n",
      " 366 376 387 394]\n",
      "Fitting 5 folds for each of 8 candidates, totalling 40 fits\n"
     ]
    },
    {
     "name": "stderr",
     "output_type": "stream",
     "text": [
      "[Parallel(n_jobs=4)]: Done   1 jobs       | elapsed:    0.8s\n",
      "[Parallel(n_jobs=4)]: Done  34 out of  40 | elapsed:    8.5s remaining:    1.5s\n",
      "[Parallel(n_jobs=4)]: Done  40 out of  40 | elapsed:   10.1s finished\n"
     ]
    },
    {
     "name": "stdout",
     "output_type": "stream",
     "text": [
      "{'kernel': 'linear', 'C': 1}\n",
      "Accuracy:  0.95\n",
      "0.975\n",
      "162.0\n",
      "Train index:  [  0   1   2   3   4   5   6   8   9  10  11  12  14  15  16  17  18  19\n",
      "  20  21  22  23  24  25  26  27  28  30  31  32  33  34  35  36  37  39\n",
      "  40  41  42  43  44  45  46  47  49  50  51  52  53  54  55  57  58  59\n",
      "  60  61  62  63  64  65  67  68  69  70  71  72  74  75  76  77  78  79\n",
      "  80  81  82  84  85  86  87  88  89  91  92  93  94  95  96  97  98  99\n",
      " 100 101 103 104 105 106 107 108 109 110 111 112 113 114 115 116 117 118\n",
      " 120 121 122 123 124 125 126 128 129 131 132 133 134 135 136 137 138 139\n",
      " 140 141 142 143 144 145 147 148 149 150 151 153 154 155 156 157 158 159\n",
      " 160 161 162 163 164 165 166 168 169 170 171 172 173 174 176 177 178 179\n",
      " 180 182 183 184 185 186 187 188 189 190 192 193 194 195 196 197 198 199\n",
      " 200 201 202 203 204 205 207 208 209 210 211 212 213 214 215 216 217 219\n",
      " 221 222 223 224 225 226 227 228 229 230 231 232 233 234 235 236 237 239\n",
      " 241 242 243 244 245 246 247 248 249 251 252 253 254 255 256 257 258 259\n",
      " 260 261 262 263 264 265 267 268 269 270 271 272 273 274 275 276 277 278\n",
      " 280 281 282 284 285 286 287 288 289 290 291 292 293 294 295 296 297 299\n",
      " 300 301 302 303 304 306 307 308 309 310 311 312 313 314 316 317 318 319\n",
      " 320 321 322 323 324 325 326 327 329 330 331 332 333 334 335 337 338 339\n",
      " 340 341 342 343 345 346 347 348 349 350 351 352 353 354 355 356 357 358\n",
      " 360 361 362 363 364 366 367 368 369 370 371 372 373 374 376 377 378 379\n",
      " 380 382 383 384 385 386 387 388 389 390 391 392 393 395 396 397 398 399]\n",
      "Test index:  [  7  13  29  38  48  56  66  73  83  90 102 119 127 130 146 152 167 175\n",
      " 181 191 206 218 220 238 240 250 266 279 283 298 305 315 328 336 344 359\n",
      " 365 375 381 394]\n",
      "Fitting 5 folds for each of 8 candidates, totalling 40 fits\n"
     ]
    },
    {
     "name": "stderr",
     "output_type": "stream",
     "text": [
      "[Parallel(n_jobs=4)]: Done   1 jobs       | elapsed:    1.5s\n",
      "[Parallel(n_jobs=4)]: Done  34 out of  40 | elapsed:   17.3s remaining:    3.1s\n",
      "[Parallel(n_jobs=4)]: Done  40 out of  40 | elapsed:   20.6s finished\n"
     ]
    },
    {
     "name": "stdout",
     "output_type": "stream",
     "text": [
      "{'kernel': 'linear', 'C': 1}\n",
      "Accuracy:  1.0\n",
      "Train index:  [  0   1   2   3   4   5   6   8   9  10  11  12  13  15  16  17  18  19\n",
      "  20  21  22  23  24  25  26  27  29  30  31  32  33  34  35  37  38  39\n",
      "  40  41  42  43  44  45  46  47  48  50  51  52  53  54  55  56  57  58\n",
      "  60  61  62  63  65  66  67  68  69  70  71  72  73  74  75  76  78  79\n",
      "  80  81  82  83  84  85  86  87  88  90  91  92  93  95  96  97  98  99\n",
      " 100 101 103 104 105 106 107 108 109 111 112 113 114 115 116 117 118 119\n",
      " 120 121 122 123 125 126 127 128 129 130 131 132 133 134 135 136 137 138\n",
      " 140 141 142 143 144 145 146 147 148 150 151 152 153 154 155 156 157 158\n",
      " 160 161 162 163 165 166 167 168 169 171 172 173 174 175 176 177 178 179\n",
      " 180 181 182 183 184 185 187 188 189 190 191 193 194 195 196 197 198 199\n",
      " 200 201 202 203 204 205 206 207 209 210 211 212 213 214 215 216 218 219\n",
      " 220 221 222 223 224 225 227 228 229 230 231 232 233 234 235 236 237 239\n",
      " 240 242 243 244 245 246 247 248 249 251 252 253 254 255 256 257 258 259\n",
      " 260 261 262 263 264 266 267 268 269 270 271 272 273 275 276 277 278 279\n",
      " 280 281 282 284 285 286 287 288 289 290 291 292 294 295 296 297 298 299\n",
      " 300 301 302 303 305 306 307 308 309 310 311 312 313 314 315 316 317 318\n",
      " 320 321 322 323 324 325 327 328 329 330 331 332 333 334 335 337 338 339\n",
      " 340 341 342 343 344 345 346 347 349 350 351 352 353 355 356 357 358 359\n",
      " 360 361 362 363 364 365 366 367 369 370 371 372 373 374 375 377 378 379\n",
      " 380 381 382 383 384 385 387 388 389 390 391 392 393 394 395 396 398 399]\n",
      "Test index:  [  7  14  28  36  49  59  64  77  89  94 102 110 124 139 149 159 164 170\n",
      " 186 192 208 217 226 238 241 250 265 274 283 293 304 319 326 336 348 354\n",
      " 368 376 386 397]\n",
      "Fitting 5 folds for each of 8 candidates, totalling 40 fits\n"
     ]
    },
    {
     "name": "stderr",
     "output_type": "stream",
     "text": [
      "[Parallel(n_jobs=4)]: Done   1 jobs       | elapsed:    1.5s\n",
      "[Parallel(n_jobs=4)]: Done  34 out of  40 | elapsed:   16.9s remaining:    3.0s\n",
      "[Parallel(n_jobs=4)]: Done  40 out of  40 | elapsed:   20.2s finished\n"
     ]
    },
    {
     "name": "stdout",
     "output_type": "stream",
     "text": [
      "{'kernel': 'linear', 'C': 1}\n",
      "Accuracy:  0.975\n",
      "0.9875\n",
      "2408.0\n",
      "Train index:  [  1   2   3   4   5   6   7   8   9  10  11  12  13  14  15  17  18  19\n",
      "  20  21  22  23  24  25  26  27  28  30  31  32  33  34  35  36  37  39\n",
      "  40  41  42  43  45  46  47  48  49  50  51  52  54  55  56  57  58  59\n",
      "  60  61  62  64  65  66  67  68  69  70  71  73  74  75  76  77  78  79\n",
      "  80  82  83  84  85  86  87  88  89  90  91  92  93  94  95  96  97  99\n",
      " 100 101 102 103 104 105 106 108 109 110 111 112 113 115 116 117 118 119\n",
      " 120 121 122 123 124 125 126 128 129 130 131 132 134 135 136 137 138 139\n",
      " 141 142 143 144 145 146 147 148 149 150 151 153 154 155 156 157 158 159\n",
      " 160 162 163 164 165 166 167 168 169 170 171 172 173 174 176 177 178 179\n",
      " 180 181 182 183 184 185 186 187 188 190 191 192 193 194 195 196 198 199\n",
      " 200 201 202 203 204 205 206 207 208 210 211 212 214 215 216 217 218 219\n",
      " 220 221 223 224 225 226 227 228 229 230 231 232 233 234 235 236 237 238\n",
      " 240 242 243 244 245 246 247 248 249 250 251 252 253 254 255 256 257 258\n",
      " 260 261 262 263 264 265 266 267 268 270 271 272 273 274 275 276 278 279\n",
      " 280 281 282 283 285 286 287 288 289 290 291 292 293 294 295 296 297 298\n",
      " 300 301 303 304 305 306 307 308 309 310 311 313 314 315 316 317 318 319\n",
      " 321 322 323 324 325 326 327 328 329 330 331 333 334 335 336 337 338 339\n",
      " 341 342 343 344 345 346 347 348 349 350 351 352 353 354 355 356 357 358\n",
      " 360 361 362 363 364 366 367 368 369 370 371 373 374 375 376 377 378 379\n",
      " 380 381 382 383 384 385 386 387 389 390 391 393 394 395 396 397 398 399]\n",
      "Test index:  [  0  16  29  38  44  53  63  72  81  98 107 114 127 133 140 152 161 175\n",
      " 189 197 209 213 222 239 241 259 269 277 284 299 302 312 320 332 340 359\n",
      " 365 372 388 392]\n",
      "Fitting 5 folds for each of 8 candidates, totalling 40 fits\n"
     ]
    },
    {
     "name": "stderr",
     "output_type": "stream",
     "text": [
      "[Parallel(n_jobs=4)]: Done   1 jobs       | elapsed:    0.8s\n",
      "[Parallel(n_jobs=4)]: Done  34 out of  40 | elapsed:    8.6s remaining:    1.5s\n",
      "[Parallel(n_jobs=4)]: Done  40 out of  40 | elapsed:   10.5s finished\n"
     ]
    },
    {
     "name": "stdout",
     "output_type": "stream",
     "text": [
      "{'kernel': 'linear', 'C': 1}\n",
      "Accuracy:  1.0\n",
      "Train index:  [  0   1   2   3   4   5   6   8   9  10  11  12  14  15  16  17  18  19\n",
      "  20  21  22  23  24  25  26  27  28  30  32  33  34  35  36  37  38  39\n",
      "  40  41  42  43  44  46  47  48  49  50  52  53  54  55  56  57  58  59\n",
      "  61  62  63  64  65  66  67  68  69  70  71  72  73  74  76  77  78  79\n",
      "  80  82  83  84  85  86  87  88  89  90  91  92  93  94  95  96  97  98\n",
      " 100 101 102 103 105 106 107 108 109 110 111 112 113 114 115 116 117 119\n",
      " 120 122 123 124 125 126 127 128 129 130 131 132 133 134 135 137 138 139\n",
      " 140 141 142 144 145 146 147 148 149 150 151 153 154 155 156 157 158 159\n",
      " 160 162 163 164 165 166 167 168 169 170 171 172 173 175 176 177 178 179\n",
      " 180 181 182 183 184 185 186 188 189 190 191 192 193 194 195 196 198 199\n",
      " 201 202 203 204 205 206 207 208 209 210 211 212 213 215 216 217 218 219\n",
      " 220 221 223 224 225 226 227 228 229 230 231 232 233 234 235 237 238 239\n",
      " 240 241 242 243 244 245 246 248 249 251 252 253 254 255 256 257 258 259\n",
      " 260 262 263 264 265 266 267 268 269 270 271 272 274 275 276 277 278 279\n",
      " 280 281 282 283 284 285 286 287 289 290 291 292 293 294 295 296 297 298\n",
      " 300 301 303 304 305 306 307 308 309 310 312 313 314 315 316 317 318 319\n",
      " 320 321 323 324 325 326 327 328 329 330 331 332 333 334 335 337 338 339\n",
      " 340 341 342 344 345 346 347 348 349 351 352 353 354 355 356 357 358 359\n",
      " 360 361 362 364 365 366 367 368 369 370 371 372 373 374 375 377 378 379\n",
      " 381 382 383 384 385 386 387 388 389 390 391 392 393 394 395 397 398 399]\n",
      "Test index:  [  7  13  29  31  45  51  60  75  81  99 104 118 121 136 143 152 161 174\n",
      " 187 197 200 214 222 236 247 250 261 273 288 299 302 311 322 336 343 350\n",
      " 363 376 380 396]\n",
      "Fitting 5 folds for each of 8 candidates, totalling 40 fits\n"
     ]
    },
    {
     "name": "stderr",
     "output_type": "stream",
     "text": [
      "[Parallel(n_jobs=4)]: Done   1 jobs       | elapsed:    0.8s\n",
      "[Parallel(n_jobs=4)]: Done  34 out of  40 | elapsed:    8.7s remaining:    1.5s\n",
      "[Parallel(n_jobs=4)]: Done  40 out of  40 | elapsed:   10.2s finished\n"
     ]
    },
    {
     "name": "stdout",
     "output_type": "stream",
     "text": [
      "{'kernel': 'linear', 'C': 1}\n",
      "Accuracy:  0.95\n",
      "0.975\n",
      "392.0\n",
      "Train index:  [  0   1   2   3   5   6   7   8   9  10  11  13  14  15  16  17  18  19\n",
      "  20  21  22  23  24  26  27  28  29  30  31  32  33  34  35  36  37  38\n",
      "  40  41  43  44  45  46  47  48  49  50  51  52  54  55  56  57  58  59\n",
      "  60  61  62  63  64  65  67  68  69  71  72  73  74  75  76  77  78  79\n",
      "  80  81  82  83  84  85  87  88  89  90  91  93  94  95  96  97  98  99\n",
      " 100 101 103 104 105 106 107 108 109 110 112 113 114 115 116 117 118 119\n",
      " 120 121 122 123 125 126 127 128 129 130 131 132 134 135 136 137 138 139\n",
      " 140 141 142 143 144 145 146 147 148 150 151 152 153 154 155 156 157 159\n",
      " 160 161 162 163 164 165 166 168 169 170 171 172 173 174 175 177 178 179\n",
      " 180 182 183 184 185 186 187 188 189 190 191 192 193 194 196 197 198 199\n",
      " 200 201 202 203 204 205 206 207 208 210 211 212 213 214 215 217 218 219\n",
      " 221 222 223 224 225 226 227 228 229 230 231 232 233 235 236 237 238 239\n",
      " 240 241 242 243 245 246 247 248 249 250 251 252 253 254 255 256 258 259\n",
      " 260 261 262 263 264 265 266 268 269 270 271 272 274 275 276 277 278 279\n",
      " 280 282 283 284 285 286 287 288 289 290 291 292 293 294 295 297 298 299\n",
      " 300 301 303 304 305 306 307 308 309 310 311 312 313 314 315 316 317 318\n",
      " 320 321 322 323 324 325 327 328 329 330 331 332 333 334 335 336 337 338\n",
      " 340 341 343 344 345 346 347 348 349 350 351 352 353 354 355 356 358 359\n",
      " 360 361 362 363 364 365 367 368 369 370 371 372 373 374 375 376 378 379\n",
      " 380 381 382 383 384 385 387 388 389 390 392 393 394 395 396 397 398 399]\n",
      "Test index:  [  4  12  25  39  42  53  66  70  86  92 102 111 124 133 149 158 167 176\n",
      " 181 195 209 216 220 234 244 257 267 273 281 296 302 319 326 339 342 357\n",
      " 366 377 386 391]\n",
      "Fitting 5 folds for each of 8 candidates, totalling 40 fits\n"
     ]
    },
    {
     "name": "stderr",
     "output_type": "stream",
     "text": [
      "[Parallel(n_jobs=4)]: Done   1 jobs       | elapsed:    1.6s\n",
      "[Parallel(n_jobs=4)]: Done  34 out of  40 | elapsed:   17.0s remaining:    3.0s\n",
      "[Parallel(n_jobs=4)]: Done  40 out of  40 | elapsed:   20.1s finished\n"
     ]
    },
    {
     "name": "stdout",
     "output_type": "stream",
     "text": [
      "{'kernel': 'linear', 'C': 1}\n",
      "Accuracy:  1.0\n",
      "Train index:  [  0   1   2   3   4   6   7   8   9  10  11  12  13  14  15  17  18  19\n",
      "  20  21  22  23  25  26  27  28  29  30  31  33  34  35  36  37  38  39\n",
      "  40  41  42  43  44  46  47  48  49  50  52  53  54  55  56  57  58  59\n",
      "  60  61  62  63  64  65  67  68  69  70  71  73  74  75  76  77  78  79\n",
      "  80  81  82  83  84  85  87  88  89  90  91  92  93  94  95  96  97  99\n",
      " 101 102 103 104 105 106 107 108 109 110 111 112 114 115 116 117 118 119\n",
      " 121 122 123 124 125 126 127 128 129 130 131 132 133 134 135 136 138 139\n",
      " 140 141 142 144 145 146 147 148 149 150 151 152 153 154 155 157 158 159\n",
      " 160 161 162 163 164 165 166 167 168 170 171 172 173 175 176 177 178 179\n",
      " 181 182 183 184 185 186 187 188 189 190 191 192 193 194 196 197 198 199\n",
      " 200 202 203 204 205 206 207 208 209 210 211 212 214 215 216 217 218 219\n",
      " 220 221 222 223 224 225 226 228 229 230 231 232 233 234 236 237 238 239\n",
      " 240 241 242 243 244 245 246 247 248 251 252 253 254 255 256 257 258 259\n",
      " 260 261 263 264 265 266 267 268 269 270 271 272 273 274 275 276 278 279\n",
      " 280 282 283 284 285 286 287 288 289 290 292 293 294 295 296 297 298 299\n",
      " 301 302 303 304 305 306 307 308 309 310 311 312 314 315 316 317 318 319\n",
      " 321 322 323 324 325 326 327 328 329 330 331 332 333 334 336 337 338 339\n",
      " 341 342 343 344 345 346 347 348 349 350 351 352 353 354 355 356 357 359\n",
      " 360 361 362 363 364 365 366 368 369 370 371 372 373 374 375 376 377 379\n",
      " 380 381 382 384 385 386 387 388 389 390 391 392 393 394 396 397 398 399]\n",
      "Test index:  [  5  16  24  32  45  51  66  72  86  98 100 113 120 137 143 156 169 174\n",
      " 180 195 201 213 227 235 249 250 262 277 281 291 300 313 320 335 340 358\n",
      " 367 378 383 395]\n",
      "Fitting 5 folds for each of 8 candidates, totalling 40 fits\n"
     ]
    },
    {
     "name": "stderr",
     "output_type": "stream",
     "text": [
      "[Parallel(n_jobs=4)]: Done   1 jobs       | elapsed:    1.6s\n",
      "[Parallel(n_jobs=4)]: Done  34 out of  40 | elapsed:   17.1s remaining:    3.0s\n",
      "[Parallel(n_jobs=4)]: Done  40 out of  40 | elapsed:   20.4s finished\n"
     ]
    },
    {
     "name": "stdout",
     "output_type": "stream",
     "text": [
      "{'kernel': 'linear', 'C': 1}\n",
      "Accuracy:  1.0\n",
      "1.0\n",
      "2720.0\n",
      "Train index:  [  0   1   2   3   4   5   7   8   9  10  11  12  13  14  15  16  17  18\n",
      "  20  21  22  23  24  25  26  28  29  30  31  33  34  35  36  37  38  39\n",
      "  40  41  42  43  45  46  47  48  49  50  51  52  53  54  55  56  57  59\n",
      "  60  61  62  63  64  65  66  67  68  70  71  72  73  74  75  76  77  79\n",
      "  80  81  83  84  85  86  87  88  89  90  91  92  93  94  95  96  98  99\n",
      " 100 101 102 103 104 105 106 107 109 110 111 112 113 114 115 116 117 119\n",
      " 120 121 122 123 125 126 127 128 129 130 132 133 134 135 136 137 138 139\n",
      " 140 141 142 143 144 146 147 148 149 150 151 152 153 154 155 156 157 159\n",
      " 161 162 163 164 165 166 167 168 169 170 171 172 173 174 175 177 178 179\n",
      " 180 181 182 184 185 186 187 188 189 190 191 192 193 194 195 196 198 199\n",
      " 200 201 202 203 205 206 207 208 209 211 212 213 214 215 216 217 218 219\n",
      " 220 221 222 223 224 225 227 228 229 230 231 233 234 235 236 237 238 239\n",
      " 240 242 243 244 245 246 247 248 249 250 251 252 253 255 256 257 258 259\n",
      " 260 262 263 264 265 266 267 268 269 270 271 272 273 275 276 277 278 279\n",
      " 280 281 282 283 285 286 287 288 289 290 291 292 293 295 296 297 298 299\n",
      " 300 301 302 303 305 306 307 308 309 310 311 312 313 314 315 316 317 318\n",
      " 320 321 322 323 324 326 327 328 329 330 331 332 334 335 336 337 338 339\n",
      " 340 341 342 343 344 345 346 348 349 350 351 352 353 354 355 357 358 359\n",
      " 361 362 363 364 365 366 367 368 369 370 371 372 373 375 376 377 378 379\n",
      " 380 381 382 383 385 386 387 388 389 390 392 393 394 395 396 397 398 399]\n",
      "Test index:  [  6  19  27  32  44  58  69  78  82  97 108 118 124 131 145 158 160 176\n",
      " 183 197 204 210 226 232 241 254 261 274 284 294 304 319 325 333 347 356\n",
      " 360 374 384 391]\n",
      "Fitting 5 folds for each of 8 candidates, totalling 40 fits\n"
     ]
    },
    {
     "name": "stderr",
     "output_type": "stream",
     "text": [
      "[Parallel(n_jobs=4)]: Done   1 jobs       | elapsed:    0.7s\n",
      "[Parallel(n_jobs=4)]: Done  34 out of  40 | elapsed:    8.8s remaining:    1.5s\n",
      "[Parallel(n_jobs=4)]: Done  40 out of  40 | elapsed:   10.6s finished\n"
     ]
    },
    {
     "name": "stdout",
     "output_type": "stream",
     "text": [
      "{'kernel': 'linear', 'C': 1}\n",
      "Accuracy:  0.975\n",
      "Train index:  [  0   1   2   4   5   6   7   8   9  10  11  12  13  14  15  17  18  19\n",
      "  20  21  22  23  24  25  27  28  29  31  32  33  34  35  36  37  38  39\n",
      "  40  41  42  44  45  46  47  48  49  50  51  52  54  55  56  57  58  59\n",
      "  61  62  63  64  65  66  67  68  69  70  71  72  73  74  75  77  78  79\n",
      "  81  82  83  84  85  86  87  88  89  90  92  93  94  95  96  97  98  99\n",
      " 100 101 102 103 104 105 106 107 108 111 112 113 114 115 116 117 118 119\n",
      " 120 121 122 123 124 125 126 128 129 130 131 132 133 134 135 136 137 138\n",
      " 140 141 142 143 144 145 146 147 149 150 151 152 154 155 156 157 158 159\n",
      " 160 161 162 163 164 165 166 168 169 170 171 172 173 174 175 176 177 179\n",
      " 180 181 183 184 185 186 187 188 189 190 191 192 193 194 195 196 197 199\n",
      " 200 201 202 203 205 206 207 208 209 210 211 212 213 214 215 217 218 219\n",
      " 220 221 222 223 224 225 226 227 228 230 231 232 233 234 235 236 238 239\n",
      " 240 241 242 243 245 246 247 248 249 250 251 252 253 255 256 257 258 259\n",
      " 260 261 262 263 265 266 267 268 269 271 272 273 274 275 276 277 278 279\n",
      " 280 281 282 283 284 285 286 288 289 291 292 293 294 295 296 297 298 299\n",
      " 300 301 302 303 304 305 306 308 309 310 311 312 313 314 315 316 317 319\n",
      " 320 321 322 324 325 326 327 328 329 331 332 333 334 335 336 337 338 339\n",
      " 340 341 342 343 344 345 346 348 349 350 351 352 353 354 355 356 357 359\n",
      " 360 361 362 363 364 365 367 368 369 370 372 373 374 375 376 377 378 379\n",
      " 380 382 383 384 385 386 387 388 389 391 392 393 394 395 396 397 398 399]\n",
      "Test index:  [  3  16  26  30  43  53  60  76  80  91 109 110 127 139 148 153 167 178\n",
      " 182 198 204 216 229 237 244 254 264 270 287 290 307 318 323 330 347 358\n",
      " 366 371 381 390]\n",
      "Fitting 5 folds for each of 8 candidates, totalling 40 fits\n"
     ]
    },
    {
     "name": "stderr",
     "output_type": "stream",
     "text": [
      "[Parallel(n_jobs=4)]: Done   1 jobs       | elapsed:    0.8s\n",
      "[Parallel(n_jobs=4)]: Done  34 out of  40 | elapsed:    8.7s remaining:    1.5s\n",
      "[Parallel(n_jobs=4)]: Done  40 out of  40 | elapsed:   10.5s finished\n"
     ]
    },
    {
     "name": "stdout",
     "output_type": "stream",
     "text": [
      "{'kernel': 'linear', 'C': 1}\n",
      "Accuracy:  1.0\n",
      "0.9875\n",
      "704.0\n",
      "Train index:  [  0   1   2   3   4   5   6   8   9  10  11  12  13  14  15  16  17  18\n",
      "  20  21  22  23  24  25  26  27  29  30  32  33  34  35  36  37  38  39\n",
      "  40  41  42  43  44  45  46  47  49  50  51  52  53  54  55  57  58  59\n",
      "  60  61  62  63  65  66  67  68  69  70  71  72  73  74  75  76  78  79\n",
      "  80  81  82  83  84  85  86  87  89  90  91  92  93  95  96  97  98  99\n",
      " 100 102 103 104 105 106 107 108 109 111 112 113 114 115 116 117 118 119\n",
      " 120 121 122 123 124 126 127 128 129 130 132 133 134 135 136 137 138 139\n",
      " 140 141 142 143 144 145 146 148 149 150 151 152 153 154 155 157 158 159\n",
      " 160 162 163 164 165 166 167 168 169 170 172 173 174 175 176 177 178 179\n",
      " 180 181 182 183 184 185 186 187 189 190 191 192 193 194 195 196 197 198\n",
      " 200 201 202 203 204 206 207 208 209 210 211 212 213 215 216 217 218 219\n",
      " 220 221 222 223 224 225 226 228 229 230 231 232 233 234 235 236 238 239\n",
      " 240 241 242 244 245 246 247 248 249 250 251 252 253 254 255 256 257 258\n",
      " 261 262 263 264 265 266 267 268 269 270 271 272 273 274 275 276 277 278\n",
      " 280 281 282 283 285 286 287 288 289 290 291 292 293 294 295 296 297 298\n",
      " 300 301 302 303 304 305 307 308 309 310 312 313 314 315 316 317 318 319\n",
      " 320 321 322 323 324 325 327 328 329 330 331 332 334 335 336 337 338 339\n",
      " 340 341 342 343 345 346 347 348 349 350 351 352 353 354 355 356 357 358\n",
      " 360 361 362 363 364 366 367 368 369 370 372 373 374 375 376 377 378 379\n",
      " 380 381 382 383 384 385 386 387 389 390 391 392 393 394 395 396 397 398]\n",
      "Test index:  [  7  19  28  31  48  56  64  77  88  94 101 110 125 131 147 156 161 171\n",
      " 188 199 205 214 227 237 243 259 260 279 284 299 306 311 326 333 344 359\n",
      " 365 371 388 399]\n",
      "Fitting 5 folds for each of 8 candidates, totalling 40 fits\n"
     ]
    },
    {
     "name": "stderr",
     "output_type": "stream",
     "text": [
      "[Parallel(n_jobs=4)]: Done   1 jobs       | elapsed:    1.5s\n",
      "[Parallel(n_jobs=4)]: Done  34 out of  40 | elapsed:   17.3s remaining:    3.1s\n",
      "[Parallel(n_jobs=4)]: Done  40 out of  40 | elapsed:   20.7s finished\n"
     ]
    },
    {
     "name": "stdout",
     "output_type": "stream",
     "text": [
      "{'kernel': 'linear', 'C': 1}\n",
      "Accuracy:  1.0\n",
      "Train index:  [  0   1   2   3   4   5   7   8   9  10  11  12  14  15  16  17  18  19\n",
      "  20  21  23  24  25  26  27  28  29  30  31  32  34  35  36  37  38  39\n",
      "  40  41  42  43  44  45  46  48  49  50  51  52  53  54  55  57  58  59\n",
      "  60  61  62  63  64  65  66  67  68  70  72  73  74  75  76  77  78  79\n",
      "  81  82  83  84  85  86  87  88  89  90  91  93  94  95  96  97  98  99\n",
      " 100 101 102 103 104 106 107 108 109 111 112 113 114 115 116 117 118 119\n",
      " 120 121 122 123 124 125 126 127 129 130 131 132 134 135 136 137 138 139\n",
      " 140 141 142 143 144 145 146 147 148 150 151 152 154 155 156 157 158 159\n",
      " 161 162 163 164 165 166 167 168 169 170 171 172 173 174 175 176 177 178\n",
      " 180 181 182 183 184 186 187 188 189 190 191 193 194 195 196 197 198 199\n",
      " 200 202 203 204 205 206 207 208 209 210 211 212 213 214 215 217 218 219\n",
      " 221 222 223 224 225 226 227 228 229 230 231 233 234 235 236 237 238 239\n",
      " 241 242 243 244 245 246 247 248 249 250 251 252 253 254 255 256 257 259\n",
      " 260 261 262 263 264 265 267 268 269 270 271 272 274 275 276 277 278 279\n",
      " 280 281 282 283 284 285 286 287 288 290 291 292 293 294 296 297 298 299\n",
      " 300 301 302 303 304 305 307 308 309 310 311 312 313 315 316 317 318 319\n",
      " 320 321 322 323 324 325 327 328 329 330 331 332 333 334 335 337 338 339\n",
      " 340 341 342 343 344 346 347 348 349 350 351 352 353 354 355 356 357 358\n",
      " 361 362 363 364 365 366 367 368 369 370 371 372 373 374 376 377 378 379\n",
      " 380 381 382 384 385 386 387 388 389 390 391 392 393 394 395 396 398 399]\n",
      "Test index:  [  6  13  22  33  47  56  69  71  80  92 105 110 128 133 149 153 160 179\n",
      " 185 192 201 216 220 232 240 258 266 273 289 295 306 314 326 336 345 359\n",
      " 360 375 383 397]\n",
      "Fitting 5 folds for each of 8 candidates, totalling 40 fits\n"
     ]
    },
    {
     "name": "stderr",
     "output_type": "stream",
     "text": [
      "[Parallel(n_jobs=4)]: Done   1 jobs       | elapsed:    1.6s\n",
      "[Parallel(n_jobs=4)]: Done  34 out of  40 | elapsed:   17.1s remaining:    3.0s\n",
      "[Parallel(n_jobs=4)]: Done  40 out of  40 | elapsed:   20.5s finished\n"
     ]
    },
    {
     "name": "stdout",
     "output_type": "stream",
     "text": [
      "{'kernel': 'linear', 'C': 1}\n",
      "Accuracy:  0.975\n",
      "0.9875\n",
      "3040.0\n",
      "Train index:  [  0   1   2   3   5   6   7   8   9  10  11  12  13  14  16  17  18  19\n",
      "  20  21  22  23  24  26  27  28  29  30  31  32  33  34  35  36  38  39\n",
      "  40  41  42  43  44  45  46  47  48  50  51  52  53  55  56  57  58  59\n",
      "  60  61  62  63  64  65  66  67  69  71  72  73  74  75  76  77  78  79\n",
      "  80  81  82  83  84  85  86  87  89  90  92  93  94  95  96  97  98  99\n",
      " 100 101 102 103 104 105 106 107 109 110 111 112 113 114 116 117 118 119\n",
      " 120 121 122 124 125 126 127 128 129 131 132 133 134 135 136 137 138 139\n",
      " 141 142 143 144 145 146 147 148 149 150 151 152 153 155 156 157 158 159\n",
      " 160 161 162 163 164 166 167 168 169 171 172 173 174 175 176 177 178 179\n",
      " 180 181 183 184 185 186 187 188 189 190 191 192 193 194 196 197 198 199\n",
      " 200 202 203 204 205 206 207 208 209 210 211 212 213 215 216 217 218 219\n",
      " 220 221 222 223 225 226 227 228 229 230 231 232 233 234 235 236 238 239\n",
      " 241 242 243 244 245 246 247 248 249 251 252 253 254 255 256 257 258 259\n",
      " 260 261 262 263 264 266 267 268 269 270 271 272 273 275 276 277 278 279\n",
      " 280 281 282 283 284 285 286 287 288 290 291 292 294 295 296 297 298 299\n",
      " 300 301 302 303 304 305 306 307 309 310 312 313 314 315 316 317 318 319\n",
      " 320 321 322 323 325 326 327 328 329 330 331 332 333 334 335 337 338 339\n",
      " 340 341 342 343 344 346 347 348 349 351 352 353 354 355 356 357 358 359\n",
      " 360 361 363 364 365 366 367 368 369 370 371 372 373 374 375 377 378 379\n",
      " 381 382 383 384 385 386 387 388 389 390 391 392 393 394 396 397 398 399]\n",
      "Test index:  [  4  15  25  37  49  54  68  70  88  91 108 115 123 130 140 154 165 170\n",
      " 182 195 201 214 224 237 240 250 265 274 289 293 308 311 324 336 345 350\n",
      " 362 376 380 395]\n",
      "Fitting 5 folds for each of 8 candidates, totalling 40 fits\n"
     ]
    },
    {
     "name": "stderr",
     "output_type": "stream",
     "text": [
      "[Parallel(n_jobs=4)]: Done   1 jobs       | elapsed:    0.8s\n",
      "[Parallel(n_jobs=4)]: Done  34 out of  40 | elapsed:    8.7s remaining:    1.5s\n",
      "[Parallel(n_jobs=4)]: Done  40 out of  40 | elapsed:   10.4s finished\n"
     ]
    },
    {
     "name": "stdout",
     "output_type": "stream",
     "text": [
      "{'kernel': 'linear', 'C': 1}\n",
      "Accuracy:  0.975\n",
      "Train index:  [  0   1   2   4   5   6   7   8   9  10  11  12  13  15  16  17  18  19\n",
      "  20  21  22  24  25  26  27  28  29  30  31  32  33  35  36  37  38  39\n",
      "  40  41  42  43  44  45  46  47  48  51  52  53  54  55  56  57  58  59\n",
      "  60  61  62  63  64  65  67  68  69  70  71  72  73  74  76  77  78  79\n",
      "  81  82  83  84  85  86  87  88  89  90  91  92  93  95  96  97  98  99\n",
      " 100 101 102 104 105 106 107 108 109 110 112 113 114 115 116 117 118 119\n",
      " 120 121 122 123 124 125 126 128 129 130 132 133 134 135 136 137 138 139\n",
      " 140 141 143 144 145 146 147 148 149 150 151 152 153 154 155 156 158 159\n",
      " 160 162 163 164 165 166 167 168 169 170 171 173 174 175 176 177 178 179\n",
      " 181 182 183 184 185 186 187 188 189 190 191 192 193 194 195 196 197 199\n",
      " 200 201 202 203 204 206 207 208 209 210 211 213 214 215 216 217 218 219\n",
      " 220 222 223 224 225 226 227 228 229 230 231 232 233 234 235 236 238 239\n",
      " 240 241 242 243 244 246 247 248 249 250 251 253 254 255 256 257 258 259\n",
      " 260 261 262 263 264 265 266 268 269 270 271 272 273 274 275 277 278 279\n",
      " 280 281 282 283 284 285 287 288 289 291 292 293 294 295 296 297 298 299\n",
      " 300 301 303 304 305 306 307 308 309 311 312 313 314 315 316 317 318 319\n",
      " 320 321 322 323 324 325 326 327 328 331 332 333 334 335 336 337 338 339\n",
      " 340 341 342 343 344 345 346 347 349 350 351 352 353 354 355 356 358 359\n",
      " 360 361 362 363 365 366 367 368 369 370 371 372 373 374 375 376 378 379\n",
      " 380 381 382 383 384 385 386 387 388 390 391 393 394 395 396 397 398 399]\n",
      "Test index:  [  3  14  23  34  49  50  66  75  80  94 103 111 127 131 142 157 161 172\n",
      " 180 198 205 212 221 237 245 252 267 276 286 290 302 310 329 330 348 357\n",
      " 364 377 389 392]\n",
      "Fitting 5 folds for each of 8 candidates, totalling 40 fits\n"
     ]
    },
    {
     "name": "stderr",
     "output_type": "stream",
     "text": [
      "[Parallel(n_jobs=4)]: Done   1 jobs       | elapsed:    0.8s\n",
      "[Parallel(n_jobs=4)]: Done  34 out of  40 | elapsed:    8.7s remaining:    1.5s\n",
      "[Parallel(n_jobs=4)]: Done  40 out of  40 | elapsed:   10.4s finished\n"
     ]
    },
    {
     "name": "stdout",
     "output_type": "stream",
     "text": [
      "{'kernel': 'linear', 'C': 1}\n",
      "Accuracy:  0.975\n",
      "0.975\n",
      "1024.0\n",
      "Train index:  [  0   1   3   4   5   6   7   8   9  10  11  12  13  14  16  17  18  19\n",
      "  20  21  23  24  25  26  27  28  29  30  31  32  33  34  36  37  38  39\n",
      "  40  41  42  43  44  45  46  47  48  51  52  53  54  55  56  57  58  59\n",
      "  60  61  62  63  65  66  67  68  69  70  71  72  73  75  76  77  78  79\n",
      "  80  81  82  83  84  85  86  88  89  90  91  93  94  95  96  97  98  99\n",
      " 100 101 102 103 104 105 106 107 109 110 111 112 113 114 115 116 118 119\n",
      " 120 121 123 124 125 126 127 128 129 130 131 132 133 135 136 137 138 139\n",
      " 140 141 142 143 144 145 146 148 149 151 152 153 154 155 156 157 158 159\n",
      " 160 161 162 163 165 166 167 168 169 170 171 172 173 174 176 177 178 179\n",
      " 180 181 182 184 185 186 187 188 189 190 191 192 193 194 195 196 197 199\n",
      " 200 201 202 203 204 205 206 207 209 210 211 212 213 214 215 216 217 219\n",
      " 220 222 223 224 225 226 227 228 229 230 231 232 233 234 235 236 237 238\n",
      " 240 241 242 243 244 245 246 248 249 250 251 252 253 254 256 257 258 259\n",
      " 260 261 262 263 264 265 266 268 269 270 271 272 273 274 275 276 277 279\n",
      " 280 281 282 283 284 285 286 287 288 290 292 293 294 295 296 297 298 299\n",
      " 300 301 302 304 305 306 307 308 309 310 311 312 313 314 315 316 318 319\n",
      " 320 321 322 323 324 325 327 328 329 330 331 332 333 334 335 337 338 339\n",
      " 340 341 342 343 344 346 347 348 349 350 351 353 354 355 356 357 358 359\n",
      " 361 362 363 364 365 366 367 368 369 370 371 372 373 374 375 376 377 378\n",
      " 380 381 382 383 384 385 386 387 388 390 391 392 393 394 395 396 397 398]\n",
      "Test index:  [  2  15  22  35  49  50  64  74  87  92 108 117 122 134 147 150 164 175\n",
      " 183 198 208 218 221 239 247 255 267 278 289 291 303 317 326 336 345 352\n",
      " 360 379 389 399]\n",
      "Fitting 5 folds for each of 8 candidates, totalling 40 fits\n"
     ]
    },
    {
     "name": "stderr",
     "output_type": "stream",
     "text": [
      "[Parallel(n_jobs=4)]: Done   1 jobs       | elapsed:    1.5s\n",
      "[Parallel(n_jobs=4)]: Done  34 out of  40 | elapsed:   17.1s remaining:    3.0s\n",
      "[Parallel(n_jobs=4)]: Done  40 out of  40 | elapsed:   20.4s finished\n"
     ]
    },
    {
     "name": "stdout",
     "output_type": "stream",
     "text": [
      "{'kernel': 'linear', 'C': 1}\n",
      "Accuracy:  0.95\n",
      "Train index:  [  0   1   2   3   4   5   6   8   9  10  11  12  13  14  16  17  18  19\n",
      "  20  21  22  23  24  25  27  28  29  30  31  32  33  34  35  37  38  39\n",
      "  40  41  42  43  44  45  46  47  49  50  51  52  53  54  55  56  57  59\n",
      "  60  61  62  63  64  66  67  68  69  70  71  73  74  75  76  77  78  79\n",
      "  80  81  82  83  84  85  87  88  89  90  91  92  93  95  96  97  98  99\n",
      " 100 101 102 103 105 106 107 108 109 111 112 113 114 115 116 117 118 119\n",
      " 120 121 123 124 125 126 127 128 129 130 131 132 134 135 136 137 138 139\n",
      " 140 141 142 143 144 145 146 147 148 150 151 152 153 154 156 157 158 159\n",
      " 160 161 162 163 165 166 167 168 169 170 171 172 173 174 175 176 177 179\n",
      " 180 181 182 183 185 186 187 188 189 190 192 193 194 195 196 197 198 199\n",
      " 200 201 202 204 205 206 207 208 209 210 212 213 214 215 216 217 218 219\n",
      " 221 222 223 224 225 226 227 228 229 230 231 232 233 234 235 236 238 239\n",
      " 241 242 243 244 245 246 247 248 249 251 252 253 254 255 256 257 258 259\n",
      " 260 261 262 263 264 265 266 267 269 270 272 273 274 275 276 277 278 279\n",
      " 280 281 282 283 284 285 286 287 288 290 292 293 294 295 296 297 298 299\n",
      " 300 301 302 304 305 306 307 308 309 310 312 313 314 315 316 317 318 319\n",
      " 320 321 322 323 324 325 326 327 328 331 332 333 334 335 336 337 338 339\n",
      " 340 341 342 343 344 345 347 348 349 350 351 353 354 355 356 357 358 359\n",
      " 360 361 362 363 364 365 367 368 369 370 371 373 374 375 376 377 378 379\n",
      " 380 381 382 383 384 385 386 387 389 390 391 393 394 395 396 397 398 399]\n",
      "Test index:  [  7  15  26  36  48  58  65  72  86  94 104 110 122 133 149 155 164 178\n",
      " 184 191 203 211 220 237 240 250 268 271 289 291 303 311 329 330 346 352\n",
      " 366 372 388 392]\n",
      "Fitting 5 folds for each of 8 candidates, totalling 40 fits\n"
     ]
    },
    {
     "name": "stderr",
     "output_type": "stream",
     "text": [
      "[Parallel(n_jobs=4)]: Done   1 jobs       | elapsed:    1.5s\n",
      "[Parallel(n_jobs=4)]: Done  34 out of  40 | elapsed:   17.1s remaining:    3.0s\n",
      "[Parallel(n_jobs=4)]: Done  40 out of  40 | elapsed:   20.5s finished\n"
     ]
    },
    {
     "name": "stdout",
     "output_type": "stream",
     "text": [
      "{'kernel': 'linear', 'C': 1}\n",
      "Accuracy:  0.975\n",
      "0.9625\n",
      "3360.0\n",
      "Train index:  [  0   1   2   4   5   6   7   8   9  11  12  13  14  15  16  17  18  19\n",
      "  20  21  22  23  24  25  26  28  29  30  31  32  34  35  36  37  38  39\n",
      "  40  41  42  43  44  45  46  47  49  50  51  52  53  54  55  56  58  59\n",
      "  60  61  62  63  65  66  67  68  69  70  71  72  73  74  75  76  77  78\n",
      "  80  81  82  83  84  85  86  88  89  90  91  92  94  95  96  97  98  99\n",
      " 100 101 102 103 104 105 107 108 109 110 111 112 113 114 115 117 118 119\n",
      " 121 122 123 124 125 126 127 128 129 130 131 132 133 134 135 136 137 139\n",
      " 140 142 143 144 145 146 147 148 149 151 152 153 154 155 156 157 158 159\n",
      " 161 162 163 164 165 166 167 168 169 170 171 172 173 174 175 176 178 179\n",
      " 181 182 183 184 185 186 187 188 189 190 191 192 193 194 195 196 197 198\n",
      " 200 201 202 203 204 206 207 208 209 210 211 212 213 215 216 217 218 219\n",
      " 221 222 223 224 225 226 227 228 229 230 231 232 234 235 236 237 238 239\n",
      " 240 241 242 243 244 245 246 247 249 250 251 252 253 255 256 257 258 259\n",
      " 261 262 263 264 265 266 267 268 269 270 271 272 273 274 275 276 278 279\n",
      " 280 281 282 283 284 285 286 287 288 290 291 292 293 294 295 297 298 299\n",
      " 300 301 303 304 305 306 307 308 309 310 311 313 314 315 316 317 318 319\n",
      " 320 321 322 323 324 326 327 328 329 330 331 333 334 335 336 337 338 339\n",
      " 340 341 342 343 344 345 346 347 349 350 351 352 353 355 356 357 358 359\n",
      " 360 361 362 363 364 365 366 368 369 370 371 372 374 375 376 377 378 379\n",
      " 381 382 383 384 385 386 387 388 389 390 391 392 393 394 396 397 398 399]\n",
      "Test index:  [  3  10  27  33  48  57  64  79  87  93 106 116 120 138 141 150 160 177\n",
      " 180 199 205 214 220 233 248 254 260 277 289 296 302 312 325 332 348 354\n",
      " 367 373 380 395]\n",
      "Fitting 5 folds for each of 8 candidates, totalling 40 fits\n"
     ]
    },
    {
     "name": "stderr",
     "output_type": "stream",
     "text": [
      "[Parallel(n_jobs=4)]: Done   1 jobs       | elapsed:    0.8s\n",
      "[Parallel(n_jobs=4)]: Done  34 out of  40 | elapsed:    8.7s remaining:    1.5s\n",
      "[Parallel(n_jobs=4)]: Done  40 out of  40 | elapsed:   10.3s finished\n"
     ]
    },
    {
     "name": "stdout",
     "output_type": "stream",
     "text": [
      "{'kernel': 'linear', 'C': 1}\n",
      "Accuracy:  1.0\n",
      "Train index:  [  0   1   2   3   4   5   6   7   9  10  11  13  14  15  16  17  18  19\n",
      "  20  21  22  23  24  25  26  28  29  30  31  32  33  34  36  37  38  39\n",
      "  40  41  42  43  44  45  46  47  49  50  51  52  53  54  55  56  58  59\n",
      "  60  61  62  64  65  66  67  68  69  71  72  73  74  75  76  77  78  79\n",
      "  80  82  83  84  85  86  87  88  89  90  91  92  93  94  95  97  98  99\n",
      " 101 102 103 104 105 106 107 108 109 110 111 112 113 114 115 116 118 119\n",
      " 120 121 122 123 124 125 126 128 129 130 131 132 133 134 136 137 138 139\n",
      " 140 141 142 143 144 146 147 148 149 150 151 152 153 155 156 157 158 159\n",
      " 160 161 162 163 164 165 166 167 168 170 171 173 174 175 176 177 178 179\n",
      " 180 182 183 184 185 186 187 188 189 190 191 192 193 195 196 197 198 199\n",
      " 200 201 202 203 204 205 206 207 208 210 211 212 213 214 215 217 218 219\n",
      " 220 221 223 224 225 226 227 228 229 230 231 232 233 235 236 237 238 239\n",
      " 240 241 242 243 244 245 247 248 249 250 251 252 253 254 255 256 257 258\n",
      " 260 261 262 263 264 265 267 268 269 270 271 272 273 274 275 277 278 279\n",
      " 280 281 282 283 284 285 286 287 289 290 291 292 293 294 295 297 298 299\n",
      " 300 301 302 303 304 305 306 307 308 310 311 312 313 314 315 316 317 319\n",
      " 320 321 322 323 324 325 327 328 329 330 331 332 333 334 335 337 338 339\n",
      " 340 341 342 343 344 346 347 348 349 350 351 352 353 354 355 356 357 359\n",
      " 360 362 363 364 365 366 367 368 369 370 371 372 374 375 376 377 378 379\n",
      " 380 381 382 383 384 385 386 388 389 391 392 393 394 395 396 397 398 399]\n",
      "Test index:  [  8  12  27  35  48  57  63  70  81  96 100 117 127 135 145 154 169 172\n",
      " 181 194 209 216 222 234 246 259 266 276 288 296 309 318 326 336 345 358\n",
      " 361 373 387 390]\n",
      "Fitting 5 folds for each of 8 candidates, totalling 40 fits\n"
     ]
    },
    {
     "name": "stderr",
     "output_type": "stream",
     "text": [
      "[Parallel(n_jobs=4)]: Done   1 jobs       | elapsed:    0.8s\n",
      "[Parallel(n_jobs=4)]: Done  34 out of  40 | elapsed:    8.7s remaining:    1.5s\n",
      "[Parallel(n_jobs=4)]: Done  40 out of  40 | elapsed:   10.4s finished\n"
     ]
    },
    {
     "name": "stdout",
     "output_type": "stream",
     "text": [
      "{'kernel': 'linear', 'C': 1}\n",
      "Accuracy:  1.0\n",
      "1.0\n",
      "1344.0\n"
     ]
    }
   ],
   "source": [
    "# Run Classification on Filtered Data (Triangle)\n",
    "accuracy_phase = np.array([])\n",
    "dim_phase = np.array([]) \n",
    "accuracy_nophase = np.array([])\n",
    "dim_nophase = np.array([]) \n",
    "\n",
    "# load the labels \n",
    "(X,Y) = loadOlivettiData()\n",
    "\n",
    "for w in range(10, 70, 10):\n",
    "    # load filtered data \n",
    "    X = np.load(\"./Filters/FilteredData/olivettiF_T_\" + str(w) + \"_\" + str(w) + \".npy\")\n",
    "    \n",
    "    #c = makeCollage(olivettHeight, olivettWidth, 1, 1, X, randImgs, getOlivettiFFTImg)\n",
    "    #plt.imshow(c)\n",
    "    #plt.show()\n",
    "    \n",
    "    X_nophase = np.zeros([X.shape[0]/2, X.shape[1]])\n",
    "    for i in range(0,X.shape[1]):\n",
    "        X_nophase[:,i] = removePhase(X[:,i])[:]\n",
    "    \n",
    "    \n",
    "    accuracy_phase = np.append(accuracy_phase, randomSplit(np.transpose(X),Y))\n",
    "    print accuracy_phase[-1]\n",
    "    \n",
    "    dim_phase = np.append(dim_phase, np.count_nonzero(X[0:X.shape[0]/2,0]) + X.shape[0]/2)\n",
    "    print dim_phase[-1]\n",
    "    \n",
    "    accuracy_nophase = np.append(accuracy_nophase, randomSplit(np.transpose(X_nophase),Y))\n",
    "    print accuracy_nophase[-1]\n",
    "    \n",
    "    dim_nophase = np.append(dim_nophase, np.count_nonzero(X[0:X.shape[0]/2,0]))\n",
    "    print dim_nophase[-1]\n",
    "\n",
    "np.savetxt(\"O_T_acc_phase\", accuracy_phase)\n",
    "np.savetxt(\"O_T_dim_phase\", dim_phase)\n",
    "np.savetxt(\"O_T_acc_nophase\", accuracy_nophase)\n",
    "np.savetxt(\"O_T_dim_nophase\", dim_nophase)\n"
   ]
  },
  {
   "cell_type": "code",
   "execution_count": 22,
   "metadata": {
    "collapsed": false
   },
   "outputs": [],
   "source": [
    "accuracy_phase = np.loadtxt(\"Y_R_acc_phase\")\n",
    "dim_phase = np.loadtxt(\"Y_R_dim_phase\")\n",
    "accuracy_nophase = np.loadtxt(\"Y_R_acc_nophase\")\n",
    "dim_nophase = np.loadtxt(\"Y_R_dim_nophase\")\n",
    "\n",
    "plt.title(\"Yale Rectanular Filter With Phase\")\n",
    "plt.xlabel(\"Dimension\")\n",
    "plt.ylabel(\"Mean Accuracy\")\n",
    "plt.scatter(dim_phase, accuracy_phase)\n",
    "plt.show()\n",
    "\n",
    "plt.title(\"Yale Rectanular Filter Without Phase\")\n",
    "plt.xlabel(\"Dimension\")\n",
    "plt.ylabel(\"Mean Accuracy\")\n",
    "plt.scatter(dim_nophase, accuracy_nophase)\n",
    "plt.show()"
   ]
  },
  {
   "cell_type": "code",
   "execution_count": 10,
   "metadata": {
    "collapsed": false
   },
   "outputs": [
    {
     "ename": "ValueError",
     "evalue": "sample larger than population",
     "output_type": "error",
     "traceback": [
      "\u001b[1;31m---------------------------------------------------------------------------\u001b[0m",
      "\u001b[1;31mValueError\u001b[0m                                Traceback (most recent call last)",
      "\u001b[1;32m<ipython-input-10-85f4e4bdd1c5>\u001b[0m in \u001b[0;36m<module>\u001b[1;34m()\u001b[0m\n\u001b[1;32m----> 1\u001b[1;33m \u001b[1;32mprint\u001b[0m \u001b[0mrandom\u001b[0m\u001b[1;33m.\u001b[0m\u001b[0msample\u001b[0m\u001b[1;33m(\u001b[0m\u001b[0mrange\u001b[0m\u001b[1;33m(\u001b[0m\u001b[1;36m20\u001b[0m\u001b[1;33m)\u001b[0m\u001b[1;33m,\u001b[0m \u001b[1;36m100\u001b[0m\u001b[1;33m)\u001b[0m\u001b[1;33m\u001b[0m\u001b[0m\n\u001b[0m",
      "\u001b[1;32mC:\\Users\\AI\\Anaconda\\lib\\random.pyc\u001b[0m in \u001b[0;36msample\u001b[1;34m(self, population, k)\u001b[0m\n\u001b[0;32m    321\u001b[0m         \u001b[0mn\u001b[0m \u001b[1;33m=\u001b[0m \u001b[0mlen\u001b[0m\u001b[1;33m(\u001b[0m\u001b[0mpopulation\u001b[0m\u001b[1;33m)\u001b[0m\u001b[1;33m\u001b[0m\u001b[0m\n\u001b[0;32m    322\u001b[0m         \u001b[1;32mif\u001b[0m \u001b[1;32mnot\u001b[0m \u001b[1;36m0\u001b[0m \u001b[1;33m<=\u001b[0m \u001b[0mk\u001b[0m \u001b[1;33m<=\u001b[0m \u001b[0mn\u001b[0m\u001b[1;33m:\u001b[0m\u001b[1;33m\u001b[0m\u001b[0m\n\u001b[1;32m--> 323\u001b[1;33m             \u001b[1;32mraise\u001b[0m \u001b[0mValueError\u001b[0m\u001b[1;33m(\u001b[0m\u001b[1;34m\"sample larger than population\"\u001b[0m\u001b[1;33m)\u001b[0m\u001b[1;33m\u001b[0m\u001b[0m\n\u001b[0m\u001b[0;32m    324\u001b[0m         \u001b[0mrandom\u001b[0m \u001b[1;33m=\u001b[0m \u001b[0mself\u001b[0m\u001b[1;33m.\u001b[0m\u001b[0mrandom\u001b[0m\u001b[1;33m\u001b[0m\u001b[0m\n\u001b[0;32m    325\u001b[0m         \u001b[0m_int\u001b[0m \u001b[1;33m=\u001b[0m \u001b[0mint\u001b[0m\u001b[1;33m\u001b[0m\u001b[0m\n",
      "\u001b[1;31mValueError\u001b[0m: sample larger than population"
     ]
    }
   ],
   "source": []
  },
  {
   "cell_type": "code",
   "execution_count": null,
   "metadata": {
    "collapsed": true
   },
   "outputs": [],
   "source": []
  }
 ],
 "metadata": {
  "kernelspec": {
   "display_name": "Python 2",
   "language": "python",
   "name": "python2"
  },
  "language_info": {
   "codemirror_mode": {
    "name": "ipython",
    "version": 2
   },
   "file_extension": ".py",
   "mimetype": "text/x-python",
   "name": "python",
   "nbconvert_exporter": "python",
   "pygments_lexer": "ipython2",
   "version": "2.7.10"
  }
 },
 "nbformat": 4,
 "nbformat_minor": 0
}
