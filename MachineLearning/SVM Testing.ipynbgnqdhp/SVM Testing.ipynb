{
 "cells": [
  {
   "cell_type": "code",
   "execution_count": 1,
   "metadata": {
    "collapsed": false
   },
   "outputs": [],
   "source": [
    "import scipy.io\n",
    "import numpy as np\n",
    "import matplotlib.pyplot as plt\n",
    "import random\n",
    "from random import sample\n",
    "import numpy as np\n",
    "import time\n",
    "from sklearn import svm\n",
    "from sklearn import preprocessing\n",
    "from sklearn import metrics\n",
    "from sklearn import cross_validation\n",
    "from sklearn import grid_search\n",
    "import pywt"
   ]
  },
  {
   "cell_type": "code",
   "execution_count": 2,
   "metadata": {
    "collapsed": false
   },
   "outputs": [],
   "source": [
    "# SVM CLASSIFICATION FUNCTIONS\n",
    "def randomSplit(X,y):\n",
    "    \n",
    "    accuracy = np.array([])\n",
    "    # do 20 random splits\n",
    "    for i in range(100):\n",
    "        # leave 20% out for testing\n",
    "        skf = cross_validation.StratifiedKFold(y,n_folds=10,shuffle=True) \n",
    "       \n",
    "        for cv_i,test_i in skf:\n",
    "            train_X = X[cv_i]\n",
    "            train_y = y[cv_i]\n",
    "            # do training here\n",
    "            clf = gridSearchSVM(train_X,train_y)\n",
    "\n",
    "            # do testing here\n",
    "            test_X = X[test_i]\n",
    "            test_y = y[test_i]\n",
    "            prediction = clf.predict(test_X)\n",
    "            print clf.best_params_\n",
    "            # record performance\n",
    "            foo = performance(prediction, test_y)\n",
    "            print i\n",
    "            print \"Accuracy: \" , foo\n",
    "            accuracy = np.append(accuracy, foo)\n",
    "            break\n",
    "        \n",
    "    mean_acc = np.mean(accuracy)\n",
    "    return mean_acc\n",
    "\n",
    "\n",
    "def gridSearchSVM(X,y):\n",
    "    #parameters = {'kernel':('linear','rbf'), 'C':[1, 2, 3, 5, 10, 13, 15,20]}\n",
    "    parameters = {'kernel':('linear','rbf'), 'C':[1, 2]}\n",
    "    svr  = svm.SVC()\n",
    "    clf = grid_search.GridSearchCV(svr, parameters, cv = 5, n_jobs = 1, verbose=1)\n",
    "    clf.fit(X,y)\n",
    "    return clf\n",
    "\n",
    "def performance(prediction, target):\n",
    "    acc = metrics.accuracy_score(target, prediction, normalize=True)\n",
    "    return acc"
   ]
  },
  {
   "cell_type": "code",
   "execution_count": 3,
   "metadata": {
    "collapsed": false
   },
   "outputs": [],
   "source": [
    "# DATA LOADING FUNCTIONS\n",
    "def loadYaleData():\n",
    "    X = np.matrix(scipy.io.loadmat('yalefacesFFT.mat')['DATA'])\n",
    "    individuals = 15; \n",
    "    picsPerInd = 11;\n",
    "    Y = np.zeros((individuals*picsPerInd))\n",
    "    for i in range(0,individuals):\n",
    "        Y[(i)*picsPerInd:(i+1)*picsPerInd] = i;\n",
    "    return (X,Y)\n",
    "\n",
    "def loadOlivettiData():\n",
    "    X = np.matrix(scipy.io.loadmat('olivettifacesFFT.mat')['DATA'])\n",
    "    individuals = 40; \n",
    "    picsPerInd = 10;\n",
    "    Y = np.zeros((individuals*picsPerInd))\n",
    "    for i in range(0,individuals):\n",
    "        Y[(i)*picsPerInd:(i+1)*picsPerInd] = i;\n",
    "    return (X,Y)\n",
    "\n"
   ]
  },
  {
   "cell_type": "code",
   "execution_count": 4,
   "metadata": {
    "collapsed": false
   },
   "outputs": [],
   "source": [
    "# TRANFORMATION FUNCTIONS\n",
    "\n",
    "def removePhase(V):\n",
    "    return V[0:V.shape[0]/2].reshape(V.shape[0]/2);\n",
    "\n",
    "def recFilter(w,h,fw,fh):\n",
    "    h = h + 1\n",
    "    F = np.zeros((h,w));\n",
    "    for i in range((w-1)/2+1 - fw/2, (w-1)/2+1 + fw/2 - 1):\n",
    "        for j in range(h - fh - 1, h):\n",
    "            F[j,i] = 1\n",
    "    return np.reshape(F,(w*h),order='F')\n",
    "\n",
    "def triFilter(w,h,fw,fh):\n",
    "    h = h + 1\n",
    "    F = np.zeros((h,w));\n",
    "    for j in range(h - fh -1, h):\n",
    "        span = (j - (h - fh)) * (fw/2)/fh;\n",
    "        for i in range((w-1)/2+1 - span, (w-1)/2+1 + span - 1):\n",
    "            F[j,i] = 1\n",
    "    return np.reshape(F,(w*h),order='F')"
   ]
  },
  {
   "cell_type": "code",
   "execution_count": null,
   "metadata": {
    "collapsed": false
   },
   "outputs": [],
   "source": []
  },
  {
   "cell_type": "code",
   "execution_count": 5,
   "metadata": {
    "collapsed": false
   },
   "outputs": [],
   "source": [
    "# RECONSTRUCTION FUNCTIONS\n",
    "\n",
    "# for level 1 wavelet \n",
    "def getWLface(V):\n",
    "    filterLen = len(V)/4\n",
    "    sideLen = np.sqrt(filterLen)\n",
    "    \n",
    "    # set reshape to FORTRAN order since that is what matlab uses\n",
    "    cA = np.reshape(V[0:filterLen], (sideLen,sideLen),order='F')\n",
    "    cH = np.reshape(V[filterLen:2*filterLen], (sideLen,sideLen),order='F')\n",
    "    cV = np.reshape(V[2*filterLen:3*filterLen], (sideLen,sideLen),order='F')\n",
    "    cD = np.reshape(V[3*filterLen:], (sideLen,sideLen),order='F')\n",
    "    \n",
    "    plt.imshow(cH);\n",
    "    plt.gray()\n",
    "    plt.show()\n",
    "\n",
    "    print cA.shape\n",
    "    img = pywt.idwt2((cA, (cH, cV, cD)), 'db4');      \n",
    "    \n",
    "    return img\n",
    "\n",
    "\n",
    "# Reconstruct an image from the Yale database \n",
    "# based on the all frequecies and phases\n",
    "def getYaleface(V):\n",
    "    R = V[0:63*32];\n",
    "    theta = V[63*32:];\n",
    "\n",
    "    # set reshape to FORTRAN order since that is what matlab uses\n",
    "    R = np.reshape(R, (32,63),order='F')\n",
    "    theta = np.reshape(theta, (32,63),order='F')\n",
    "\n",
    "    FFTimg = np.multiply(R,np.exp(np.sqrt(-1+0j)*theta));\n",
    "    FFTimg = np.concatenate((FFTimg, np.conj(np.rot90(FFTimg[0:31,:],2))), axis=0);       \n",
    "    img = np.fft.ifft2(np.fft.ifftshift(FFTimg));\n",
    "    \n",
    "    return np.real(img)\n",
    "\n",
    "def getYaleFFTImg(V):\n",
    "    R = V[0:63*32];\n",
    "    theta = V[63*32:];\n",
    "\n",
    "    # set reshape to FORTRAN order since that is what matlab uses\n",
    "    R = np.reshape(R, (32,63),order='F')\n",
    "    theta = np.reshape(theta, (32,63),order='F')\n",
    "\n",
    "    FFTimg = np.multiply(R,np.exp(np.sqrt(-1+0j)*theta));\n",
    "    FFTimg = np.concatenate((FFTimg, np.conj(np.rot90(FFTimg[0:31,:],2))), axis=0); \n",
    "    return np.log(FFTimg + 1);\n",
    "\n",
    "# Reconstruct an image from the Olivetti database \n",
    "# based on the all frequecies and phases\n",
    "def getOlivettiface(V):\n",
    "    R = V[0:63*32];\n",
    "    theta = V[63*32:];\n",
    "\n",
    "    # set reshape to FORTRAN order since that is what matlab uses\n",
    "    R = np.reshape(R, (32,63),order='F')\n",
    "    theta = np.reshape(theta, (32,63),order='F')\n",
    "\n",
    "    FFTimg = np.multiply(R,np.exp(np.sqrt(-1+0j)*theta));\n",
    "    FFTimg = np.concatenate((FFTimg, np.conj(np.rot90(FFTimg[0:31,:],2))), axis=0);       \n",
    "    img = np.fft.ifft2(np.fft.ifftshift(FFTimg));\n",
    "    \n",
    "    return np.real(img)\n",
    "\n",
    "def getOlivettiFFTImg(V):\n",
    "    R = V[0:63*32];\n",
    "    theta = V[63*32:];\n",
    "\n",
    "    # set reshape to FORTRAN order since that is what matlab uses\n",
    "    R = np.reshape(R, (32,63),order='F')\n",
    "    theta = np.reshape(theta, (32,63),order='F')\n",
    "\n",
    "    FFTimg = np.multiply(R,np.exp(np.sqrt(-1+0j)*theta));\n",
    "    FFTimg = np.concatenate((FFTimg, np.conj(np.rot90(FFTimg[0:31,:],2))), axis=0); \n",
    "    return np.log(FFTimg + 1);\n",
    "\n",
    "def addZeroPhase(V,):\n",
    "    F = np.zeros((V.shape[0]*2))\n",
    "    # add magnitude \n",
    "    F[0:V.shape[0]] = V[0:V.shape[0]].reshape(V.shape[0]);\n",
    "    # add original phase\n",
    "    #F[V.shape[0]:] = X[V.shape[0]:, i].reshape(V.shape[0]);\n",
    "    # add zero phase\n",
    "    F[V.shape[0]:] = 0;\n",
    "    return F.reshape(F.shape[0]);"
   ]
  },
  {
   "cell_type": "code",
   "execution_count": 6,
   "metadata": {
    "collapsed": false
   },
   "outputs": [
    {
     "name": "stdout",
     "output_type": "stream",
     "text": [
      "(35L, 35L)\n"
     ]
    }
   ],
   "source": [
    "X = np.matrix(scipy.io.loadmat('yalefacesWL1.mat')['DATA_LV1'])\n",
    "img = getWLface(X[:,1])\n",
    "plt.imshow(img);\n",
    "plt.gray()\n",
    "plt.show()"
   ]
  },
  {
   "cell_type": "code",
   "execution_count": 7,
   "metadata": {
    "collapsed": false
   },
   "outputs": [],
   "source": [
    "# DISPLAY FUNCTIONS\n",
    "# h,w are height and width of the individual images, nh,nw are the dimensions of the \n",
    "# collage interms of images \n",
    "def makeCollage(h, w, nh, nw, DATA, randImg, getImage):\n",
    "    \n",
    "    border = 10\n",
    "    collage = np.zeros((h*nh+border*(nh+1),w*nw+border*(nw+1)));\n",
    "    #randImg = sample(xrange(DATA.shape[1]), nw*nh)\n",
    "\n",
    "    for i in range(0,nw):\n",
    "        for j in range(0,nh):\n",
    "            img = getImage(DATA[:,randImg[nw*i + j]])\n",
    "            collage[(i+1)*border-1+i*h:(i+1)*h+(i+1)*border-1, (j+1)*border+j*w-1:(j+1)*border-1+(j+1)*w] = img\n",
    "    \n",
    "    return collage\n",
    "    "
   ]
  },
  {
   "cell_type": "code",
   "execution_count": null,
   "metadata": {
    "collapsed": false
   },
   "outputs": [],
   "source": []
  },
  {
   "cell_type": "code",
   "execution_count": 38,
   "metadata": {
    "collapsed": false
   },
   "outputs": [
    {
     "name": "stderr",
     "output_type": "stream",
     "text": [
      "[Parallel(n_jobs=1)]: Done   1 jobs       | elapsed:    0.0s\n",
      "[Parallel(n_jobs=1)]: Done  20 out of  20 | elapsed:    2.2s finished\n"
     ]
    },
    {
     "name": "stdout",
     "output_type": "stream",
     "text": [
      "Fitting 5 folds for each of 4 candidates, totalling 20 fits\n",
      "{'kernel': 'linear', 'C': 1}"
     ]
    },
    {
     "name": "stderr",
     "output_type": "stream",
     "text": [
      "[Parallel(n_jobs=1)]: Done   1 jobs       | elapsed:    0.0s\n",
      "[Parallel(n_jobs=1)]: Done  20 out of  20 | elapsed:    2.2s finished\n"
     ]
    },
    {
     "name": "stdout",
     "output_type": "stream",
     "text": [
      "\n",
      "Accuracy:  0.8\n",
      "Fitting 5 folds for each of 4 candidates, totalling 20 fits\n",
      "{'kernel': 'linear', 'C': 1}"
     ]
    },
    {
     "name": "stderr",
     "output_type": "stream",
     "text": [
      "[Parallel(n_jobs=1)]: Done   1 jobs       | elapsed:    0.0s\n",
      "[Parallel(n_jobs=1)]: Done  20 out of  20 | elapsed:    2.2s finished\n"
     ]
    },
    {
     "name": "stdout",
     "output_type": "stream",
     "text": [
      "\n",
      "Accuracy:  0.833333333333\n",
      "Fitting 5 folds for each of 4 candidates, totalling 20 fits\n",
      "{'kernel': 'linear', 'C': 1}"
     ]
    },
    {
     "name": "stderr",
     "output_type": "stream",
     "text": [
      "[Parallel(n_jobs=1)]: Done   1 jobs       | elapsed:    0.0s\n",
      "[Parallel(n_jobs=1)]: Done  20 out of  20 | elapsed:    2.2s finished\n"
     ]
    },
    {
     "name": "stdout",
     "output_type": "stream",
     "text": [
      "\n",
      "Accuracy:  0.733333333333\n",
      "Fitting 5 folds for each of 4 candidates, totalling 20 fits\n",
      "{'kernel': 'linear', 'C': 1}"
     ]
    },
    {
     "name": "stderr",
     "output_type": "stream",
     "text": [
      "[Parallel(n_jobs=1)]: Done   1 jobs       | elapsed:    0.0s\n",
      "[Parallel(n_jobs=1)]: Done  20 out of  20 | elapsed:    2.2s finished\n"
     ]
    },
    {
     "name": "stdout",
     "output_type": "stream",
     "text": [
      "\n",
      "Accuracy:  0.733333333333\n",
      "Fitting 5 folds for each of 4 candidates, totalling 20 fits\n",
      "{'kernel': 'linear', 'C': 1}"
     ]
    },
    {
     "name": "stderr",
     "output_type": "stream",
     "text": [
      "[Parallel(n_jobs=1)]: Done   1 jobs       | elapsed:    0.0s\n",
      "[Parallel(n_jobs=1)]: Done  20 out of  20 | elapsed:    2.2s finished\n"
     ]
    },
    {
     "name": "stdout",
     "output_type": "stream",
     "text": [
      "\n",
      "Accuracy:  0.766666666667\n",
      "Fitting 5 folds for each of 4 candidates, totalling 20 fits\n",
      "{'kernel': 'linear', 'C': 1}"
     ]
    },
    {
     "name": "stderr",
     "output_type": "stream",
     "text": [
      "[Parallel(n_jobs=1)]: Done   1 jobs       | elapsed:    0.0s\n",
      "[Parallel(n_jobs=1)]: Done  20 out of  20 | elapsed:    2.2s finished\n"
     ]
    },
    {
     "name": "stdout",
     "output_type": "stream",
     "text": [
      "\n",
      "Accuracy:  0.8\n",
      "Fitting 5 folds for each of 4 candidates, totalling 20 fits\n",
      "{'kernel': 'linear', 'C': 1}"
     ]
    },
    {
     "name": "stderr",
     "output_type": "stream",
     "text": [
      "[Parallel(n_jobs=1)]: Done   1 jobs       | elapsed:    0.0s\n",
      "[Parallel(n_jobs=1)]: Done  20 out of  20 | elapsed:    2.2s finished\n"
     ]
    },
    {
     "name": "stdout",
     "output_type": "stream",
     "text": [
      "\n",
      "Accuracy:  0.666666666667\n",
      "Fitting 5 folds for each of 4 candidates, totalling 20 fits\n",
      "{'kernel': 'linear', 'C': 1}"
     ]
    },
    {
     "name": "stderr",
     "output_type": "stream",
     "text": [
      "[Parallel(n_jobs=1)]: Done   1 jobs       | elapsed:    0.0s\n",
      "[Parallel(n_jobs=1)]: Done  20 out of  20 | elapsed:    2.2s finished\n"
     ]
    },
    {
     "name": "stdout",
     "output_type": "stream",
     "text": [
      "\n",
      "Accuracy:  0.633333333333\n",
      "Fitting 5 folds for each of 4 candidates, totalling 20 fits\n",
      "{'kernel': 'linear', 'C': 1}"
     ]
    },
    {
     "name": "stderr",
     "output_type": "stream",
     "text": [
      "[Parallel(n_jobs=1)]: Done   1 jobs       | elapsed:    0.0s\n",
      "[Parallel(n_jobs=1)]: Done  20 out of  20 | elapsed:    2.1s finished\n"
     ]
    },
    {
     "name": "stdout",
     "output_type": "stream",
     "text": [
      "\n",
      "Accuracy:  0.733333333333\n",
      "Fitting 5 folds for each of 4 candidates, totalling 20 fits\n",
      "{'kernel': 'linear', 'C': 1}"
     ]
    },
    {
     "name": "stderr",
     "output_type": "stream",
     "text": [
      "[Parallel(n_jobs=1)]: Done   1 jobs       | elapsed:    0.0s\n",
      "[Parallel(n_jobs=1)]: Done  20 out of  20 | elapsed:    2.2s finished\n"
     ]
    },
    {
     "name": "stdout",
     "output_type": "stream",
     "text": [
      "\n",
      "Accuracy:  0.7\n",
      "Fitting 5 folds for each of 4 candidates, totalling 20 fits\n",
      "{'kernel': 'linear', 'C': 1}"
     ]
    },
    {
     "name": "stderr",
     "output_type": "stream",
     "text": [
      "[Parallel(n_jobs=1)]: Done   1 jobs       | elapsed:    0.0s\n",
      "[Parallel(n_jobs=1)]: Done  20 out of  20 | elapsed:    2.2s finished\n"
     ]
    },
    {
     "name": "stdout",
     "output_type": "stream",
     "text": [
      "\n",
      "Accuracy:  0.7\n",
      "Fitting 5 folds for each of 4 candidates, totalling 20 fits\n",
      "{'kernel': 'linear', 'C': 1}"
     ]
    },
    {
     "name": "stderr",
     "output_type": "stream",
     "text": [
      "[Parallel(n_jobs=1)]: Done   1 jobs       | elapsed:    0.0s\n",
      "[Parallel(n_jobs=1)]: Done  20 out of  20 | elapsed:    2.1s finished\n"
     ]
    },
    {
     "name": "stdout",
     "output_type": "stream",
     "text": [
      "\n",
      "Accuracy:  0.833333333333\n",
      "Fitting 5 folds for each of 4 candidates, totalling 20 fits\n",
      "{'kernel': 'linear', 'C': 1}"
     ]
    },
    {
     "name": "stderr",
     "output_type": "stream",
     "text": [
      "[Parallel(n_jobs=1)]: Done   1 jobs       | elapsed:    0.0s\n",
      "[Parallel(n_jobs=1)]: Done  20 out of  20 | elapsed:    2.2s finished\n"
     ]
    },
    {
     "name": "stdout",
     "output_type": "stream",
     "text": [
      "\n",
      "Accuracy:  0.666666666667\n",
      "Fitting 5 folds for each of 4 candidates, totalling 20 fits\n",
      "{'kernel': 'linear', 'C': 1}"
     ]
    },
    {
     "name": "stderr",
     "output_type": "stream",
     "text": [
      "[Parallel(n_jobs=1)]: Done   1 jobs       | elapsed:    0.0s\n",
      "[Parallel(n_jobs=1)]: Done  20 out of  20 | elapsed:    2.3s finished\n"
     ]
    },
    {
     "name": "stdout",
     "output_type": "stream",
     "text": [
      "\n",
      "Accuracy:  0.666666666667\n",
      "Fitting 5 folds for each of 4 candidates, totalling 20 fits\n",
      "{'kernel': 'linear', 'C': 1}"
     ]
    },
    {
     "name": "stderr",
     "output_type": "stream",
     "text": [
      "[Parallel(n_jobs=1)]: Done   1 jobs       | elapsed:    0.0s\n",
      "[Parallel(n_jobs=1)]: Done  20 out of  20 | elapsed:    2.2s finished\n"
     ]
    },
    {
     "name": "stdout",
     "output_type": "stream",
     "text": [
      "\n",
      "Accuracy:  0.633333333333\n",
      "Fitting 5 folds for each of 4 candidates, totalling 20 fits\n",
      "{'kernel': 'linear', 'C': 1}"
     ]
    },
    {
     "name": "stderr",
     "output_type": "stream",
     "text": [
      "[Parallel(n_jobs=1)]: Done   1 jobs       | elapsed:    0.0s\n",
      "[Parallel(n_jobs=1)]: Done  20 out of  20 | elapsed:    2.1s finished\n"
     ]
    },
    {
     "name": "stdout",
     "output_type": "stream",
     "text": [
      "\n",
      "Accuracy:  0.766666666667\n",
      "Fitting 5 folds for each of 4 candidates, totalling 20 fits\n",
      "{'kernel': 'linear', 'C': 1}"
     ]
    },
    {
     "name": "stderr",
     "output_type": "stream",
     "text": [
      "[Parallel(n_jobs=1)]: Done   1 jobs       | elapsed:    0.0s\n",
      "[Parallel(n_jobs=1)]: Done  20 out of  20 | elapsed:    2.2s finished\n"
     ]
    },
    {
     "name": "stdout",
     "output_type": "stream",
     "text": [
      "\n",
      "Accuracy:  0.6\n",
      "Fitting 5 folds for each of 4 candidates, totalling 20 fits\n",
      "{'kernel': 'linear', 'C': 1}"
     ]
    },
    {
     "name": "stderr",
     "output_type": "stream",
     "text": [
      "[Parallel(n_jobs=1)]: Done   1 jobs       | elapsed:    0.0s\n",
      "[Parallel(n_jobs=1)]: Done  20 out of  20 | elapsed:    2.2s finished\n"
     ]
    },
    {
     "name": "stdout",
     "output_type": "stream",
     "text": [
      "\n",
      "Accuracy:  0.666666666667\n",
      "Fitting 5 folds for each of 4 candidates, totalling 20 fits\n",
      "{'kernel': 'linear', 'C': 1}"
     ]
    },
    {
     "name": "stderr",
     "output_type": "stream",
     "text": [
      "[Parallel(n_jobs=1)]: Done   1 jobs       | elapsed:    0.0s\n",
      "[Parallel(n_jobs=1)]: Done  20 out of  20 | elapsed:    2.1s finished\n"
     ]
    },
    {
     "name": "stdout",
     "output_type": "stream",
     "text": [
      "\n",
      "Accuracy:  0.866666666667\n",
      "Fitting 5 folds for each of 4 candidates, totalling 20 fits\n",
      "{'kernel': 'linear', 'C': 1}"
     ]
    },
    {
     "name": "stderr",
     "output_type": "stream",
     "text": [
      "[Parallel(n_jobs=1)]: Done   1 jobs       | elapsed:    0.0s\n",
      "[Parallel(n_jobs=1)]: Done  20 out of  20 | elapsed:    2.2s finished\n"
     ]
    },
    {
     "name": "stdout",
     "output_type": "stream",
     "text": [
      "\n",
      "Accuracy:  0.733333333333\n",
      "Fitting 5 folds for each of 4 candidates, totalling 20 fits\n",
      "{'kernel': 'linear', 'C': 1}"
     ]
    },
    {
     "name": "stderr",
     "output_type": "stream",
     "text": [
      "[Parallel(n_jobs=1)]: Done   1 jobs       | elapsed:    0.0s\n",
      "[Parallel(n_jobs=1)]: Done  20 out of  20 | elapsed:    2.2s finished\n"
     ]
    },
    {
     "name": "stdout",
     "output_type": "stream",
     "text": [
      "\n",
      "Accuracy:  0.633333333333\n",
      "Fitting 5 folds for each of 4 candidates, totalling 20 fits\n",
      "{'kernel': 'linear', 'C': 1}"
     ]
    },
    {
     "name": "stderr",
     "output_type": "stream",
     "text": [
      "[Parallel(n_jobs=1)]: Done   1 jobs       | elapsed:    0.0s\n",
      "[Parallel(n_jobs=1)]: Done  20 out of  20 | elapsed:    2.1s finished\n"
     ]
    },
    {
     "name": "stdout",
     "output_type": "stream",
     "text": [
      "\n",
      "Accuracy:  0.733333333333\n",
      "Fitting 5 folds for each of 4 candidates, totalling 20 fits\n",
      "{'kernel': 'linear', 'C': 1}"
     ]
    },
    {
     "name": "stderr",
     "output_type": "stream",
     "text": [
      "[Parallel(n_jobs=1)]: Done   1 jobs       | elapsed:    0.0s\n",
      "[Parallel(n_jobs=1)]: Done  20 out of  20 | elapsed:    2.2s finished\n"
     ]
    },
    {
     "name": "stdout",
     "output_type": "stream",
     "text": [
      "\n",
      "Accuracy:  0.6\n",
      "Fitting 5 folds for each of 4 candidates, totalling 20 fits\n",
      "{'kernel': 'linear', 'C': 1}"
     ]
    },
    {
     "name": "stderr",
     "output_type": "stream",
     "text": [
      "[Parallel(n_jobs=1)]: Done   1 jobs       | elapsed:    0.0s\n",
      "[Parallel(n_jobs=1)]: Done  20 out of  20 | elapsed:    2.1s finished\n"
     ]
    },
    {
     "name": "stdout",
     "output_type": "stream",
     "text": [
      "\n",
      "Accuracy:  0.766666666667\n",
      "Fitting 5 folds for each of 4 candidates, totalling 20 fits\n",
      "{'kernel': 'linear', 'C': 1}"
     ]
    },
    {
     "name": "stderr",
     "output_type": "stream",
     "text": [
      "[Parallel(n_jobs=1)]: Done   1 jobs       | elapsed:    0.0s\n",
      "[Parallel(n_jobs=1)]: Done  20 out of  20 | elapsed:    2.2s finished\n"
     ]
    },
    {
     "name": "stdout",
     "output_type": "stream",
     "text": [
      "\n",
      "Accuracy:  0.833333333333\n",
      "Fitting 5 folds for each of 4 candidates, totalling 20 fits\n",
      "{'kernel': 'linear', 'C': 1}"
     ]
    },
    {
     "name": "stderr",
     "output_type": "stream",
     "text": [
      "[Parallel(n_jobs=1)]: Done   1 jobs       | elapsed:    0.0s\n",
      "[Parallel(n_jobs=1)]: Done  20 out of  20 | elapsed:    2.2s finished\n"
     ]
    },
    {
     "name": "stdout",
     "output_type": "stream",
     "text": [
      "\n",
      "Accuracy:  0.766666666667\n",
      "Fitting 5 folds for each of 4 candidates, totalling 20 fits\n",
      "{'kernel': 'linear', 'C': 1}"
     ]
    },
    {
     "name": "stderr",
     "output_type": "stream",
     "text": [
      "[Parallel(n_jobs=1)]: Done   1 jobs       | elapsed:    0.0s\n",
      "[Parallel(n_jobs=1)]: Done  20 out of  20 | elapsed:    2.2s finished\n"
     ]
    },
    {
     "name": "stdout",
     "output_type": "stream",
     "text": [
      "\n",
      "Accuracy:  0.8\n",
      "Fitting 5 folds for each of 4 candidates, totalling 20 fits\n",
      "{'kernel': 'linear', 'C': 1}"
     ]
    },
    {
     "name": "stderr",
     "output_type": "stream",
     "text": [
      "[Parallel(n_jobs=1)]: Done   1 jobs       | elapsed:    0.0s\n",
      "[Parallel(n_jobs=1)]: Done  20 out of  20 | elapsed:    2.2s finished\n"
     ]
    },
    {
     "name": "stdout",
     "output_type": "stream",
     "text": [
      "\n",
      "Accuracy:  0.8\n",
      "Fitting 5 folds for each of 4 candidates, totalling 20 fits\n",
      "{'kernel': 'linear', 'C': 1}"
     ]
    },
    {
     "name": "stderr",
     "output_type": "stream",
     "text": [
      "[Parallel(n_jobs=1)]: Done   1 jobs       | elapsed:    0.0s\n",
      "[Parallel(n_jobs=1)]: Done  20 out of  20 | elapsed:    2.1s finished\n"
     ]
    },
    {
     "name": "stdout",
     "output_type": "stream",
     "text": [
      "\n",
      "Accuracy:  0.666666666667\n",
      "Fitting 5 folds for each of 4 candidates, totalling 20 fits\n",
      "{'kernel': 'linear', 'C': 1}"
     ]
    },
    {
     "name": "stderr",
     "output_type": "stream",
     "text": [
      "[Parallel(n_jobs=1)]: Done   1 jobs       | elapsed:    0.0s\n",
      "[Parallel(n_jobs=1)]: Done  20 out of  20 | elapsed:    2.1s finished\n"
     ]
    },
    {
     "name": "stdout",
     "output_type": "stream",
     "text": [
      "\n",
      "Accuracy:  0.6\n",
      "Fitting 5 folds for each of 4 candidates, totalling 20 fits\n",
      "{'kernel': 'linear', 'C': 1}"
     ]
    },
    {
     "name": "stderr",
     "output_type": "stream",
     "text": [
      "[Parallel(n_jobs=1)]: Done   1 jobs       | elapsed:    0.0s\n",
      "[Parallel(n_jobs=1)]: Done  20 out of  20 | elapsed:    2.2s finished\n"
     ]
    },
    {
     "name": "stdout",
     "output_type": "stream",
     "text": [
      "\n",
      "Accuracy:  0.733333333333\n",
      "Fitting 5 folds for each of 4 candidates, totalling 20 fits\n",
      "{'kernel': 'linear', 'C': 1}"
     ]
    },
    {
     "name": "stderr",
     "output_type": "stream",
     "text": [
      "[Parallel(n_jobs=1)]: Done   1 jobs       | elapsed:    0.0s\n",
      "[Parallel(n_jobs=1)]: Done  20 out of  20 | elapsed:    2.2s finished\n"
     ]
    },
    {
     "name": "stdout",
     "output_type": "stream",
     "text": [
      "\n",
      "Accuracy:  0.866666666667\n",
      "Fitting 5 folds for each of 4 candidates, totalling 20 fits\n",
      "{'kernel': 'linear', 'C': 1}"
     ]
    },
    {
     "name": "stderr",
     "output_type": "stream",
     "text": [
      "[Parallel(n_jobs=1)]: Done   1 jobs       | elapsed:    0.0s\n",
      "[Parallel(n_jobs=1)]: Done  20 out of  20 | elapsed:    2.2s finished\n"
     ]
    },
    {
     "name": "stdout",
     "output_type": "stream",
     "text": [
      "\n",
      "Accuracy:  0.866666666667\n",
      "Fitting 5 folds for each of 4 candidates, totalling 20 fits\n",
      "{'kernel': 'linear', 'C': 1}"
     ]
    },
    {
     "name": "stderr",
     "output_type": "stream",
     "text": [
      "[Parallel(n_jobs=1)]: Done   1 jobs       | elapsed:    0.0s\n",
      "[Parallel(n_jobs=1)]: Done  20 out of  20 | elapsed:    2.1s finished\n"
     ]
    },
    {
     "name": "stdout",
     "output_type": "stream",
     "text": [
      "\n",
      "Accuracy:  0.733333333333\n",
      "Fitting 5 folds for each of 4 candidates, totalling 20 fits\n",
      "{'kernel': 'linear', 'C': 1}"
     ]
    },
    {
     "name": "stderr",
     "output_type": "stream",
     "text": [
      "[Parallel(n_jobs=1)]: Done   1 jobs       | elapsed:    0.0s\n",
      "[Parallel(n_jobs=1)]: Done  20 out of  20 | elapsed:    2.1s finished\n"
     ]
    },
    {
     "name": "stdout",
     "output_type": "stream",
     "text": [
      "\n",
      "Accuracy:  0.633333333333\n",
      "Fitting 5 folds for each of 4 candidates, totalling 20 fits\n",
      "{'kernel': 'linear', 'C': 1}"
     ]
    },
    {
     "name": "stderr",
     "output_type": "stream",
     "text": [
      "[Parallel(n_jobs=1)]: Done   1 jobs       | elapsed:    0.0s\n",
      "[Parallel(n_jobs=1)]: Done  20 out of  20 | elapsed:    2.2s finished\n"
     ]
    },
    {
     "name": "stdout",
     "output_type": "stream",
     "text": [
      "\n",
      "Accuracy:  0.733333333333\n",
      "Fitting 5 folds for each of 4 candidates, totalling 20 fits\n",
      "{'kernel': 'linear', 'C': 1}"
     ]
    },
    {
     "name": "stderr",
     "output_type": "stream",
     "text": [
      "[Parallel(n_jobs=1)]: Done   1 jobs       | elapsed:    0.0s\n",
      "[Parallel(n_jobs=1)]: Done  20 out of  20 | elapsed:    2.1s finished\n"
     ]
    },
    {
     "name": "stdout",
     "output_type": "stream",
     "text": [
      "\n",
      "Accuracy:  0.766666666667\n",
      "Fitting 5 folds for each of 4 candidates, totalling 20 fits\n",
      "{'kernel': 'linear', 'C': 1}"
     ]
    },
    {
     "name": "stderr",
     "output_type": "stream",
     "text": [
      "[Parallel(n_jobs=1)]: Done   1 jobs       | elapsed:    0.0s\n",
      "[Parallel(n_jobs=1)]: Done  20 out of  20 | elapsed:    2.1s finished\n"
     ]
    },
    {
     "name": "stdout",
     "output_type": "stream",
     "text": [
      "\n",
      "Accuracy:  0.8\n",
      "Fitting 5 folds for each of 4 candidates, totalling 20 fits\n",
      "{'kernel': 'linear', 'C': 1}"
     ]
    },
    {
     "name": "stderr",
     "output_type": "stream",
     "text": [
      "[Parallel(n_jobs=1)]: Done   1 jobs       | elapsed:    0.0s\n",
      "[Parallel(n_jobs=1)]: Done  20 out of  20 | elapsed:    2.2s finished\n"
     ]
    },
    {
     "name": "stdout",
     "output_type": "stream",
     "text": [
      "\n",
      "Accuracy:  0.766666666667\n",
      "Fitting 5 folds for each of 4 candidates, totalling 20 fits\n",
      "{'kernel': 'linear', 'C': 1}"
     ]
    },
    {
     "name": "stderr",
     "output_type": "stream",
     "text": [
      "[Parallel(n_jobs=1)]: Done   1 jobs       | elapsed:    0.0s\n",
      "[Parallel(n_jobs=1)]: Done  20 out of  20 | elapsed:    2.2s finished\n"
     ]
    },
    {
     "name": "stdout",
     "output_type": "stream",
     "text": [
      "\n",
      "Accuracy:  0.7\n",
      "Fitting 5 folds for each of 4 candidates, totalling 20 fits\n",
      "{'kernel': 'linear', 'C': 1}"
     ]
    },
    {
     "name": "stderr",
     "output_type": "stream",
     "text": [
      "[Parallel(n_jobs=1)]: Done   1 jobs       | elapsed:    0.0s\n",
      "[Parallel(n_jobs=1)]: Done  20 out of  20 | elapsed:    2.1s finished\n"
     ]
    },
    {
     "name": "stdout",
     "output_type": "stream",
     "text": [
      "\n",
      "Accuracy:  0.733333333333\n",
      "Fitting 5 folds for each of 4 candidates, totalling 20 fits\n",
      "{'kernel': 'linear', 'C': 1}"
     ]
    },
    {
     "name": "stderr",
     "output_type": "stream",
     "text": [
      "[Parallel(n_jobs=1)]: Done   1 jobs       | elapsed:    0.0s\n",
      "[Parallel(n_jobs=1)]: Done  20 out of  20 | elapsed:    2.2s finished\n"
     ]
    },
    {
     "name": "stdout",
     "output_type": "stream",
     "text": [
      "\n",
      "Accuracy:  0.733333333333\n",
      "Fitting 5 folds for each of 4 candidates, totalling 20 fits\n",
      "{'kernel': 'linear', 'C': 1}"
     ]
    },
    {
     "name": "stderr",
     "output_type": "stream",
     "text": [
      "[Parallel(n_jobs=1)]: Done   1 jobs       | elapsed:    0.0s\n",
      "[Parallel(n_jobs=1)]: Done  20 out of  20 | elapsed:    2.2s finished\n"
     ]
    },
    {
     "name": "stdout",
     "output_type": "stream",
     "text": [
      "\n",
      "Accuracy:  0.7\n",
      "Fitting 5 folds for each of 4 candidates, totalling 20 fits\n",
      "{'kernel': 'linear', 'C': 1}"
     ]
    },
    {
     "name": "stderr",
     "output_type": "stream",
     "text": [
      "[Parallel(n_jobs=1)]: Done   1 jobs       | elapsed:    0.0s\n",
      "[Parallel(n_jobs=1)]: Done  20 out of  20 | elapsed:    2.1s finished\n"
     ]
    },
    {
     "name": "stdout",
     "output_type": "stream",
     "text": [
      "\n",
      "Accuracy:  0.666666666667\n",
      "Fitting 5 folds for each of 4 candidates, totalling 20 fits\n",
      "{'kernel': 'linear', 'C': 1}"
     ]
    },
    {
     "name": "stderr",
     "output_type": "stream",
     "text": [
      "[Parallel(n_jobs=1)]: Done   1 jobs       | elapsed:    0.0s\n",
      "[Parallel(n_jobs=1)]: Done  20 out of  20 | elapsed:    2.2s finished\n"
     ]
    },
    {
     "name": "stdout",
     "output_type": "stream",
     "text": [
      "\n",
      "Accuracy:  0.766666666667\n",
      "Fitting 5 folds for each of 4 candidates, totalling 20 fits\n",
      "{'kernel': 'linear', 'C': 1}"
     ]
    },
    {
     "name": "stderr",
     "output_type": "stream",
     "text": [
      "[Parallel(n_jobs=1)]: Done   1 jobs       | elapsed:    0.0s\n",
      "[Parallel(n_jobs=1)]: Done  20 out of  20 | elapsed:    2.2s finished\n"
     ]
    },
    {
     "name": "stdout",
     "output_type": "stream",
     "text": [
      "\n",
      "Accuracy:  0.8\n",
      "Fitting 5 folds for each of 4 candidates, totalling 20 fits\n",
      "{'kernel': 'linear', 'C': 1}"
     ]
    },
    {
     "name": "stderr",
     "output_type": "stream",
     "text": [
      "[Parallel(n_jobs=1)]: Done   1 jobs       | elapsed:    0.0s\n",
      "[Parallel(n_jobs=1)]: Done  20 out of  20 | elapsed:    2.1s finished\n"
     ]
    },
    {
     "name": "stdout",
     "output_type": "stream",
     "text": [
      "\n",
      "Accuracy:  0.633333333333\n",
      "Fitting 5 folds for each of 4 candidates, totalling 20 fits\n",
      "{'kernel': 'linear', 'C': 1}"
     ]
    },
    {
     "name": "stderr",
     "output_type": "stream",
     "text": [
      "[Parallel(n_jobs=1)]: Done   1 jobs       | elapsed:    0.0s\n",
      "[Parallel(n_jobs=1)]: Done  20 out of  20 | elapsed:    2.1s finished\n"
     ]
    },
    {
     "name": "stdout",
     "output_type": "stream",
     "text": [
      "\n",
      "Accuracy:  0.7\n",
      "Fitting 5 folds for each of 4 candidates, totalling 20 fits\n",
      "{'kernel': 'linear', 'C': 1}"
     ]
    },
    {
     "name": "stderr",
     "output_type": "stream",
     "text": [
      "[Parallel(n_jobs=1)]: Done   1 jobs       | elapsed:    0.0s\n",
      "[Parallel(n_jobs=1)]: Done  20 out of  20 | elapsed:    2.2s finished\n"
     ]
    },
    {
     "name": "stdout",
     "output_type": "stream",
     "text": [
      "\n",
      "Accuracy:  0.666666666667\n",
      "Fitting 5 folds for each of 4 candidates, totalling 20 fits\n",
      "{'kernel': 'linear', 'C': 1}"
     ]
    },
    {
     "name": "stderr",
     "output_type": "stream",
     "text": [
      "[Parallel(n_jobs=1)]: Done   1 jobs       | elapsed:    0.0s\n",
      "[Parallel(n_jobs=1)]: Done  20 out of  20 | elapsed:    2.2s finished\n"
     ]
    },
    {
     "name": "stdout",
     "output_type": "stream",
     "text": [
      "\n",
      "Accuracy:  0.8\n",
      "Fitting 5 folds for each of 4 candidates, totalling 20 fits\n",
      "{'kernel': 'linear', 'C': 1}"
     ]
    },
    {
     "name": "stderr",
     "output_type": "stream",
     "text": [
      "[Parallel(n_jobs=1)]: Done   1 jobs       | elapsed:    0.0s\n",
      "[Parallel(n_jobs=1)]: Done  20 out of  20 | elapsed:    2.1s finished\n"
     ]
    },
    {
     "name": "stdout",
     "output_type": "stream",
     "text": [
      "\n",
      "Accuracy:  0.7\n",
      "Fitting 5 folds for each of 4 candidates, totalling 20 fits\n",
      "{'kernel': 'linear', 'C': 1}"
     ]
    },
    {
     "name": "stderr",
     "output_type": "stream",
     "text": [
      "[Parallel(n_jobs=1)]: Done   1 jobs       | elapsed:    0.0s\n",
      "[Parallel(n_jobs=1)]: Done  20 out of  20 | elapsed:    2.2s finished\n"
     ]
    },
    {
     "name": "stdout",
     "output_type": "stream",
     "text": [
      "\n",
      "Accuracy:  0.766666666667\n",
      "Fitting 5 folds for each of 4 candidates, totalling 20 fits\n",
      "{'kernel': 'linear', 'C': 1}"
     ]
    },
    {
     "name": "stderr",
     "output_type": "stream",
     "text": [
      "[Parallel(n_jobs=1)]: Done   1 jobs       | elapsed:    0.0s\n",
      "[Parallel(n_jobs=1)]: Done  20 out of  20 | elapsed:    2.2s finished\n"
     ]
    },
    {
     "name": "stdout",
     "output_type": "stream",
     "text": [
      "\n",
      "Accuracy:  0.833333333333\n",
      "Fitting 5 folds for each of 4 candidates, totalling 20 fits\n",
      "{'kernel': 'linear', 'C': 1}"
     ]
    },
    {
     "name": "stderr",
     "output_type": "stream",
     "text": [
      "[Parallel(n_jobs=1)]: Done   1 jobs       | elapsed:    0.0s\n",
      "[Parallel(n_jobs=1)]: Done  20 out of  20 | elapsed:    2.2s finished\n"
     ]
    },
    {
     "name": "stdout",
     "output_type": "stream",
     "text": [
      "\n",
      "Accuracy:  0.8\n",
      "Fitting 5 folds for each of 4 candidates, totalling 20 fits\n",
      "{'kernel': 'linear', 'C': 1}"
     ]
    },
    {
     "name": "stderr",
     "output_type": "stream",
     "text": [
      "[Parallel(n_jobs=1)]: Done   1 jobs       | elapsed:    0.0s\n",
      "[Parallel(n_jobs=1)]: Done  20 out of  20 | elapsed:    2.2s finished\n"
     ]
    },
    {
     "name": "stdout",
     "output_type": "stream",
     "text": [
      "\n",
      "Accuracy:  0.766666666667\n",
      "Fitting 5 folds for each of 4 candidates, totalling 20 fits\n",
      "{'kernel': 'linear', 'C': 1}"
     ]
    },
    {
     "name": "stderr",
     "output_type": "stream",
     "text": [
      "[Parallel(n_jobs=1)]: Done   1 jobs       | elapsed:    0.0s\n",
      "[Parallel(n_jobs=1)]: Done  20 out of  20 | elapsed:    2.2s finished\n"
     ]
    },
    {
     "name": "stdout",
     "output_type": "stream",
     "text": [
      "\n",
      "Accuracy:  0.833333333333\n",
      "Fitting 5 folds for each of 4 candidates, totalling 20 fits\n",
      "{'kernel': 'linear', 'C': 1}"
     ]
    },
    {
     "name": "stderr",
     "output_type": "stream",
     "text": [
      "[Parallel(n_jobs=1)]: Done   1 jobs       | elapsed:    0.0s\n",
      "[Parallel(n_jobs=1)]: Done  20 out of  20 | elapsed:    2.2s finished\n"
     ]
    },
    {
     "name": "stdout",
     "output_type": "stream",
     "text": [
      "\n",
      "Accuracy:  0.6\n",
      "Fitting 5 folds for each of 4 candidates, totalling 20 fits\n",
      "{'kernel': 'linear', 'C': 1}"
     ]
    },
    {
     "name": "stderr",
     "output_type": "stream",
     "text": [
      "[Parallel(n_jobs=1)]: Done   1 jobs       | elapsed:    0.0s\n",
      "[Parallel(n_jobs=1)]: Done  20 out of  20 | elapsed:    2.3s finished\n"
     ]
    },
    {
     "name": "stdout",
     "output_type": "stream",
     "text": [
      "\n",
      "Accuracy:  0.633333333333\n",
      "Fitting 5 folds for each of 4 candidates, totalling 20 fits\n",
      "{'kernel': 'linear', 'C': 1}"
     ]
    },
    {
     "name": "stderr",
     "output_type": "stream",
     "text": [
      "[Parallel(n_jobs=1)]: Done   1 jobs       | elapsed:    0.0s\n",
      "[Parallel(n_jobs=1)]: Done  20 out of  20 | elapsed:    2.2s finished\n"
     ]
    },
    {
     "name": "stdout",
     "output_type": "stream",
     "text": [
      "\n",
      "Accuracy:  0.733333333333\n",
      "Fitting 5 folds for each of 4 candidates, totalling 20 fits\n",
      "{'kernel': 'linear', 'C': 1}"
     ]
    },
    {
     "name": "stderr",
     "output_type": "stream",
     "text": [
      "[Parallel(n_jobs=1)]: Done   1 jobs       | elapsed:    0.0s\n",
      "[Parallel(n_jobs=1)]: Done  20 out of  20 | elapsed:    2.3s finished\n"
     ]
    },
    {
     "name": "stdout",
     "output_type": "stream",
     "text": [
      "\n",
      "Accuracy:  0.8\n",
      "Fitting 5 folds for each of 4 candidates, totalling 20 fits\n",
      "{'kernel': 'linear', 'C': 1}"
     ]
    },
    {
     "name": "stderr",
     "output_type": "stream",
     "text": [
      "[Parallel(n_jobs=1)]: Done   1 jobs       | elapsed:    0.0s\n",
      "[Parallel(n_jobs=1)]: Done  20 out of  20 | elapsed:    2.2s finished\n"
     ]
    },
    {
     "name": "stdout",
     "output_type": "stream",
     "text": [
      "\n",
      "Accuracy:  0.7\n",
      "Fitting 5 folds for each of 4 candidates, totalling 20 fits\n",
      "{'kernel': 'linear', 'C': 1}"
     ]
    },
    {
     "name": "stderr",
     "output_type": "stream",
     "text": [
      "[Parallel(n_jobs=1)]: Done   1 jobs       | elapsed:    0.0s\n",
      "[Parallel(n_jobs=1)]: Done  20 out of  20 | elapsed:    2.2s finished\n"
     ]
    },
    {
     "name": "stdout",
     "output_type": "stream",
     "text": [
      "\n",
      "Accuracy:  0.733333333333\n",
      "Fitting 5 folds for each of 4 candidates, totalling 20 fits\n",
      "{'kernel': 'linear', 'C': 1}"
     ]
    },
    {
     "name": "stderr",
     "output_type": "stream",
     "text": [
      "[Parallel(n_jobs=1)]: Done   1 jobs       | elapsed:    0.0s\n",
      "[Parallel(n_jobs=1)]: Done  20 out of  20 | elapsed:    2.3s finished\n"
     ]
    },
    {
     "name": "stdout",
     "output_type": "stream",
     "text": [
      "\n",
      "Accuracy:  0.8\n",
      "Fitting 5 folds for each of 4 candidates, totalling 20 fits\n",
      "{'kernel': 'linear', 'C': 1}"
     ]
    },
    {
     "name": "stderr",
     "output_type": "stream",
     "text": [
      "[Parallel(n_jobs=1)]: Done   1 jobs       | elapsed:    0.0s\n",
      "[Parallel(n_jobs=1)]: Done  20 out of  20 | elapsed:    2.2s finished\n"
     ]
    },
    {
     "name": "stdout",
     "output_type": "stream",
     "text": [
      "\n",
      "Accuracy:  0.8\n",
      "Fitting 5 folds for each of 4 candidates, totalling 20 fits\n",
      "{'kernel': 'linear', 'C': 1}"
     ]
    },
    {
     "name": "stderr",
     "output_type": "stream",
     "text": [
      "[Parallel(n_jobs=1)]: Done   1 jobs       | elapsed:    0.0s\n",
      "[Parallel(n_jobs=1)]: Done  20 out of  20 | elapsed:    2.2s finished\n"
     ]
    },
    {
     "name": "stdout",
     "output_type": "stream",
     "text": [
      "\n",
      "Accuracy:  0.733333333333\n",
      "Fitting 5 folds for each of 4 candidates, totalling 20 fits\n",
      "{'kernel': 'linear', 'C': 1}"
     ]
    },
    {
     "name": "stderr",
     "output_type": "stream",
     "text": [
      "[Parallel(n_jobs=1)]: Done   1 jobs       | elapsed:    0.0s\n",
      "[Parallel(n_jobs=1)]: Done  20 out of  20 | elapsed:    2.1s finished\n"
     ]
    },
    {
     "name": "stdout",
     "output_type": "stream",
     "text": [
      "\n",
      "Accuracy:  0.7\n",
      "Fitting 5 folds for each of 4 candidates, totalling 20 fits\n",
      "{'kernel': 'linear', 'C': 1}"
     ]
    },
    {
     "name": "stderr",
     "output_type": "stream",
     "text": [
      "[Parallel(n_jobs=1)]: Done   1 jobs       | elapsed:    0.0s\n",
      "[Parallel(n_jobs=1)]: Done  20 out of  20 | elapsed:    2.2s finished\n"
     ]
    },
    {
     "name": "stdout",
     "output_type": "stream",
     "text": [
      "\n",
      "Accuracy:  0.7\n",
      "Fitting 5 folds for each of 4 candidates, totalling 20 fits\n",
      "{'kernel': 'linear', 'C': 1}"
     ]
    },
    {
     "name": "stderr",
     "output_type": "stream",
     "text": [
      "[Parallel(n_jobs=1)]: Done   1 jobs       | elapsed:    0.0s\n",
      "[Parallel(n_jobs=1)]: Done  20 out of  20 | elapsed:    2.2s finished\n"
     ]
    },
    {
     "name": "stdout",
     "output_type": "stream",
     "text": [
      "\n",
      "Accuracy:  0.733333333333\n",
      "Fitting 5 folds for each of 4 candidates, totalling 20 fits\n",
      "{'kernel': 'linear', 'C': 1}"
     ]
    },
    {
     "name": "stderr",
     "output_type": "stream",
     "text": [
      "[Parallel(n_jobs=1)]: Done   1 jobs       | elapsed:    0.0s\n",
      "[Parallel(n_jobs=1)]: Done  20 out of  20 | elapsed:    2.2s finished\n"
     ]
    },
    {
     "name": "stdout",
     "output_type": "stream",
     "text": [
      "\n",
      "Accuracy:  0.733333333333\n",
      "Fitting 5 folds for each of 4 candidates, totalling 20 fits\n",
      "{'kernel': 'linear', 'C': 1}"
     ]
    },
    {
     "name": "stderr",
     "output_type": "stream",
     "text": [
      "[Parallel(n_jobs=1)]: Done   1 jobs       | elapsed:    0.0s\n",
      "[Parallel(n_jobs=1)]: Done  20 out of  20 | elapsed:    2.2s finished\n"
     ]
    },
    {
     "name": "stdout",
     "output_type": "stream",
     "text": [
      "\n",
      "Accuracy:  0.833333333333\n",
      "Fitting 5 folds for each of 4 candidates, totalling 20 fits\n",
      "{'kernel': 'linear', 'C': 1}"
     ]
    },
    {
     "name": "stderr",
     "output_type": "stream",
     "text": [
      "[Parallel(n_jobs=1)]: Done   1 jobs       | elapsed:    0.0s\n",
      "[Parallel(n_jobs=1)]: Done  20 out of  20 | elapsed:    2.2s finished\n"
     ]
    },
    {
     "name": "stdout",
     "output_type": "stream",
     "text": [
      "\n",
      "Accuracy:  0.666666666667\n",
      "Fitting 5 folds for each of 4 candidates, totalling 20 fits\n",
      "{'kernel': 'linear', 'C': 1}"
     ]
    },
    {
     "name": "stderr",
     "output_type": "stream",
     "text": [
      "[Parallel(n_jobs=1)]: Done   1 jobs       | elapsed:    0.0s\n",
      "[Parallel(n_jobs=1)]: Done  20 out of  20 | elapsed:    2.2s finished\n"
     ]
    },
    {
     "name": "stdout",
     "output_type": "stream",
     "text": [
      "\n",
      "Accuracy:  0.733333333333\n",
      "Fitting 5 folds for each of 4 candidates, totalling 20 fits\n",
      "{'kernel': 'linear', 'C': 1}"
     ]
    },
    {
     "name": "stderr",
     "output_type": "stream",
     "text": [
      "[Parallel(n_jobs=1)]: Done   1 jobs       | elapsed:    0.0s\n",
      "[Parallel(n_jobs=1)]: Done  20 out of  20 | elapsed:    2.2s finished\n"
     ]
    },
    {
     "name": "stdout",
     "output_type": "stream",
     "text": [
      "\n",
      "Accuracy:  0.7\n",
      "Fitting 5 folds for each of 4 candidates, totalling 20 fits\n",
      "{'kernel': 'linear', 'C': 1}"
     ]
    },
    {
     "name": "stderr",
     "output_type": "stream",
     "text": [
      "[Parallel(n_jobs=1)]: Done   1 jobs       | elapsed:    0.0s\n",
      "[Parallel(n_jobs=1)]: Done  20 out of  20 | elapsed:    2.2s finished\n"
     ]
    },
    {
     "name": "stdout",
     "output_type": "stream",
     "text": [
      "\n",
      "Accuracy:  0.8\n",
      "Fitting 5 folds for each of 4 candidates, totalling 20 fits\n",
      "{'kernel': 'linear', 'C': 1}"
     ]
    },
    {
     "name": "stderr",
     "output_type": "stream",
     "text": [
      "[Parallel(n_jobs=1)]: Done   1 jobs       | elapsed:    0.0s\n",
      "[Parallel(n_jobs=1)]: Done  20 out of  20 | elapsed:    2.2s finished\n"
     ]
    },
    {
     "name": "stdout",
     "output_type": "stream",
     "text": [
      "\n",
      "Accuracy:  0.666666666667\n",
      "Fitting 5 folds for each of 4 candidates, totalling 20 fits\n",
      "{'kernel': 'linear', 'C': 1}"
     ]
    },
    {
     "name": "stderr",
     "output_type": "stream",
     "text": [
      "[Parallel(n_jobs=1)]: Done   1 jobs       | elapsed:    0.0s\n",
      "[Parallel(n_jobs=1)]: Done  20 out of  20 | elapsed:    2.2s finished\n"
     ]
    },
    {
     "name": "stdout",
     "output_type": "stream",
     "text": [
      "\n",
      "Accuracy:  0.733333333333\n",
      "Fitting 5 folds for each of 4 candidates, totalling 20 fits\n",
      "{'kernel': 'linear', 'C': 1}"
     ]
    },
    {
     "name": "stderr",
     "output_type": "stream",
     "text": [
      "[Parallel(n_jobs=1)]: Done   1 jobs       | elapsed:    0.0s\n",
      "[Parallel(n_jobs=1)]: Done  20 out of  20 | elapsed:    2.2s finished\n"
     ]
    },
    {
     "name": "stdout",
     "output_type": "stream",
     "text": [
      "\n",
      "Accuracy:  0.933333333333\n",
      "Fitting 5 folds for each of 4 candidates, totalling 20 fits\n",
      "{'kernel': 'linear', 'C': 1}"
     ]
    },
    {
     "name": "stderr",
     "output_type": "stream",
     "text": [
      "[Parallel(n_jobs=1)]: Done   1 jobs       | elapsed:    0.0s\n",
      "[Parallel(n_jobs=1)]: Done  20 out of  20 | elapsed:    2.2s finished\n"
     ]
    },
    {
     "name": "stdout",
     "output_type": "stream",
     "text": [
      "\n",
      "Accuracy:  0.766666666667\n",
      "Fitting 5 folds for each of 4 candidates, totalling 20 fits\n",
      "{'kernel': 'linear', 'C': 1}"
     ]
    },
    {
     "name": "stderr",
     "output_type": "stream",
     "text": [
      "[Parallel(n_jobs=1)]: Done   1 jobs       | elapsed:    0.0s\n",
      "[Parallel(n_jobs=1)]: Done  20 out of  20 | elapsed:    2.2s finished\n"
     ]
    },
    {
     "name": "stdout",
     "output_type": "stream",
     "text": [
      "\n",
      "Accuracy:  0.9\n",
      "Fitting 5 folds for each of 4 candidates, totalling 20 fits\n",
      "{'kernel': 'linear', 'C': 1}"
     ]
    },
    {
     "name": "stderr",
     "output_type": "stream",
     "text": [
      "[Parallel(n_jobs=1)]: Done   1 jobs       | elapsed:    0.0s\n",
      "[Parallel(n_jobs=1)]: Done  20 out of  20 | elapsed:    2.2s finished\n"
     ]
    },
    {
     "name": "stdout",
     "output_type": "stream",
     "text": [
      "\n",
      "Accuracy:  0.833333333333\n",
      "Fitting 5 folds for each of 4 candidates, totalling 20 fits\n",
      "{'kernel': 'linear', 'C': 1}"
     ]
    },
    {
     "name": "stderr",
     "output_type": "stream",
     "text": [
      "[Parallel(n_jobs=1)]: Done   1 jobs       | elapsed:    0.0s\n",
      "[Parallel(n_jobs=1)]: Done  20 out of  20 | elapsed:    2.1s finished\n"
     ]
    },
    {
     "name": "stdout",
     "output_type": "stream",
     "text": [
      "\n",
      "Accuracy:  0.766666666667\n",
      "Fitting 5 folds for each of 4 candidates, totalling 20 fits\n",
      "{'kernel': 'linear', 'C': 1}"
     ]
    },
    {
     "name": "stderr",
     "output_type": "stream",
     "text": [
      "[Parallel(n_jobs=1)]: Done   1 jobs       | elapsed:    0.0s\n",
      "[Parallel(n_jobs=1)]: Done  20 out of  20 | elapsed:    2.1s finished\n"
     ]
    },
    {
     "name": "stdout",
     "output_type": "stream",
     "text": [
      "\n",
      "Accuracy:  0.766666666667\n",
      "Fitting 5 folds for each of 4 candidates, totalling 20 fits\n",
      "{'kernel': 'linear', 'C': 1}"
     ]
    },
    {
     "name": "stderr",
     "output_type": "stream",
     "text": [
      "[Parallel(n_jobs=1)]: Done   1 jobs       | elapsed:    0.0s\n",
      "[Parallel(n_jobs=1)]: Done  20 out of  20 | elapsed:    2.2s finished\n"
     ]
    },
    {
     "name": "stdout",
     "output_type": "stream",
     "text": [
      "\n",
      "Accuracy:  0.666666666667\n",
      "Fitting 5 folds for each of 4 candidates, totalling 20 fits\n",
      "{'kernel': 'linear', 'C': 1}"
     ]
    },
    {
     "name": "stderr",
     "output_type": "stream",
     "text": [
      "[Parallel(n_jobs=1)]: Done   1 jobs       | elapsed:    0.0s\n",
      "[Parallel(n_jobs=1)]: Done  20 out of  20 | elapsed:    2.2s finished\n"
     ]
    },
    {
     "name": "stdout",
     "output_type": "stream",
     "text": [
      "\n",
      "Accuracy:  0.833333333333\n",
      "Fitting 5 folds for each of 4 candidates, totalling 20 fits\n",
      "{'kernel': 'linear', 'C': 1}"
     ]
    },
    {
     "name": "stderr",
     "output_type": "stream",
     "text": [
      "[Parallel(n_jobs=1)]: Done   1 jobs       | elapsed:    0.0s\n",
      "[Parallel(n_jobs=1)]: Done  20 out of  20 | elapsed:    2.2s finished\n"
     ]
    },
    {
     "name": "stdout",
     "output_type": "stream",
     "text": [
      "\n",
      "Accuracy:  0.833333333333\n",
      "Fitting 5 folds for each of 4 candidates, totalling 20 fits\n",
      "{'kernel': 'linear', 'C': 1}"
     ]
    },
    {
     "name": "stderr",
     "output_type": "stream",
     "text": [
      "[Parallel(n_jobs=1)]: Done   1 jobs       | elapsed:    0.0s\n",
      "[Parallel(n_jobs=1)]: Done  20 out of  20 | elapsed:    2.2s finished\n"
     ]
    },
    {
     "name": "stdout",
     "output_type": "stream",
     "text": [
      "\n",
      "Accuracy:  0.733333333333\n",
      "Fitting 5 folds for each of 4 candidates, totalling 20 fits\n",
      "{'kernel': 'linear', 'C': 1}"
     ]
    },
    {
     "name": "stderr",
     "output_type": "stream",
     "text": [
      "[Parallel(n_jobs=1)]: Done   1 jobs       | elapsed:    0.0s\n",
      "[Parallel(n_jobs=1)]: Done  20 out of  20 | elapsed:    2.2s finished\n"
     ]
    },
    {
     "name": "stdout",
     "output_type": "stream",
     "text": [
      "\n",
      "Accuracy:  0.633333333333\n",
      "Fitting 5 folds for each of 4 candidates, totalling 20 fits\n",
      "{'kernel': 'linear', 'C': 1}"
     ]
    },
    {
     "name": "stderr",
     "output_type": "stream",
     "text": [
      "[Parallel(n_jobs=1)]: Done   1 jobs       | elapsed:    0.0s\n",
      "[Parallel(n_jobs=1)]: Done  20 out of  20 | elapsed:    2.2s finished\n"
     ]
    },
    {
     "name": "stdout",
     "output_type": "stream",
     "text": [
      "\n",
      "Accuracy:  0.733333333333\n",
      "Fitting 5 folds for each of 4 candidates, totalling 20 fits\n",
      "{'kernel': 'linear', 'C': 1}"
     ]
    },
    {
     "name": "stderr",
     "output_type": "stream",
     "text": [
      "[Parallel(n_jobs=1)]: Done   1 jobs       | elapsed:    0.0s\n",
      "[Parallel(n_jobs=1)]: Done  20 out of  20 | elapsed:    2.3s finished\n"
     ]
    },
    {
     "name": "stdout",
     "output_type": "stream",
     "text": [
      "\n",
      "Accuracy:  0.733333333333\n",
      "Fitting 5 folds for each of 4 candidates, totalling 20 fits\n",
      "{'kernel': 'linear', 'C': 1}"
     ]
    },
    {
     "name": "stderr",
     "output_type": "stream",
     "text": [
      "[Parallel(n_jobs=1)]: Done   1 jobs       | elapsed:    0.0s\n",
      "[Parallel(n_jobs=1)]: Done  20 out of  20 | elapsed:    2.2s finished\n"
     ]
    },
    {
     "name": "stdout",
     "output_type": "stream",
     "text": [
      "\n",
      "Accuracy:  0.766666666667\n",
      "Fitting 5 folds for each of 4 candidates, totalling 20 fits\n",
      "{'kernel': 'linear', 'C': 1}"
     ]
    },
    {
     "name": "stderr",
     "output_type": "stream",
     "text": [
      "[Parallel(n_jobs=1)]: Done   1 jobs       | elapsed:    0.0s\n",
      "[Parallel(n_jobs=1)]: Done  20 out of  20 | elapsed:    2.1s finished\n"
     ]
    },
    {
     "name": "stdout",
     "output_type": "stream",
     "text": [
      "\n",
      "Accuracy:  0.666666666667\n",
      "Fitting 5 folds for each of 4 candidates, totalling 20 fits\n",
      "{'kernel': 'linear', 'C': 1}"
     ]
    },
    {
     "name": "stderr",
     "output_type": "stream",
     "text": [
      "[Parallel(n_jobs=1)]: Done   1 jobs       | elapsed:    0.0s\n",
      "[Parallel(n_jobs=1)]: Done  20 out of  20 | elapsed:    2.1s finished\n"
     ]
    },
    {
     "name": "stdout",
     "output_type": "stream",
     "text": [
      "\n",
      "Accuracy:  0.733333333333\n",
      "Fitting 5 folds for each of 4 candidates, totalling 20 fits\n",
      "{'kernel': 'linear', 'C': 1}"
     ]
    },
    {
     "name": "stderr",
     "output_type": "stream",
     "text": [
      "[Parallel(n_jobs=1)]: Done   1 jobs       | elapsed:    0.0s\n",
      "[Parallel(n_jobs=1)]: Done  20 out of  20 | elapsed:    2.2s finished\n"
     ]
    },
    {
     "name": "stdout",
     "output_type": "stream",
     "text": [
      "\n",
      "Accuracy:  0.733333333333\n",
      "Fitting 5 folds for each of 4 candidates, totalling 20 fits\n",
      "{'kernel': 'linear', 'C': 1}"
     ]
    },
    {
     "name": "stderr",
     "output_type": "stream",
     "text": [
      "[Parallel(n_jobs=1)]: Done   1 jobs       | elapsed:    0.0s\n",
      "[Parallel(n_jobs=1)]: Done  20 out of  20 | elapsed:    2.2s finished\n"
     ]
    },
    {
     "name": "stdout",
     "output_type": "stream",
     "text": [
      "\n",
      "Accuracy:  0.766666666667\n",
      "Fitting 5 folds for each of 4 candidates, totalling 20 fits\n",
      "{'kernel': 'linear', 'C': 1}"
     ]
    },
    {
     "name": "stderr",
     "output_type": "stream",
     "text": [
      "[Parallel(n_jobs=1)]: Done   1 jobs       | elapsed:    0.0s\n",
      "[Parallel(n_jobs=1)]: Done  20 out of  20 | elapsed:    2.2s finished\n"
     ]
    },
    {
     "name": "stdout",
     "output_type": "stream",
     "text": [
      "\n",
      "Accuracy:  0.766666666667\n",
      "Fitting 5 folds for each of 4 candidates, totalling 20 fits\n",
      "{'kernel': 'linear', 'C': 1}"
     ]
    },
    {
     "name": "stderr",
     "output_type": "stream",
     "text": [
      "[Parallel(n_jobs=1)]: Done   1 jobs       | elapsed:    0.0s\n",
      "[Parallel(n_jobs=1)]: Done  20 out of  20 | elapsed:    2.2s finished\n"
     ]
    },
    {
     "name": "stdout",
     "output_type": "stream",
     "text": [
      "\n",
      "Accuracy:  0.733333333333\n",
      "Fitting 5 folds for each of 4 candidates, totalling 20 fits\n",
      "{'kernel': 'linear', 'C': 1}"
     ]
    },
    {
     "name": "stderr",
     "output_type": "stream",
     "text": [
      "[Parallel(n_jobs=1)]: Done   1 jobs       | elapsed:    0.0s\n",
      "[Parallel(n_jobs=1)]: Done  20 out of  20 | elapsed:    2.2s finished\n"
     ]
    },
    {
     "name": "stdout",
     "output_type": "stream",
     "text": [
      "\n",
      "Accuracy:  0.8\n",
      "Fitting 5 folds for each of 4 candidates, totalling 20 fits\n",
      "{'kernel': 'linear', 'C': 1}"
     ]
    },
    {
     "name": "stderr",
     "output_type": "stream",
     "text": [
      "[Parallel(n_jobs=1)]: Done   1 jobs       | elapsed:    0.0s\n",
      "[Parallel(n_jobs=1)]: Done  20 out of  20 | elapsed:    2.3s finished\n"
     ]
    },
    {
     "name": "stdout",
     "output_type": "stream",
     "text": [
      "\n",
      "Accuracy:  0.8\n",
      "Fitting 5 folds for each of 4 candidates, totalling 20 fits\n",
      "{'kernel': 'linear', 'C': 1}"
     ]
    },
    {
     "name": "stderr",
     "output_type": "stream",
     "text": [
      "[Parallel(n_jobs=1)]: Done   1 jobs       | elapsed:    0.0s\n",
      "[Parallel(n_jobs=1)]: Done  20 out of  20 | elapsed:    2.3s finished\n"
     ]
    },
    {
     "name": "stdout",
     "output_type": "stream",
     "text": [
      "\n",
      "Accuracy:  0.666666666667\n",
      "Fitting 5 folds for each of 4 candidates, totalling 20 fits\n",
      "{'kernel': 'linear', 'C': 1}\n",
      "Accuracy:  0.833333333333\n",
      "Mean acc: 0.741666666667\n"
     ]
    }
   ],
   "source": [
    "# BASELINE CLASSIFICATION\n",
    "(X,Y) = loadYaleData()\n",
    "print \"Mean acc: \" + str(randomSplit(np.transpose(X),Y))"
   ]
  },
  {
   "cell_type": "code",
   "execution_count": 25,
   "metadata": {
    "collapsed": false
   },
   "outputs": [],
   "source": [
    "(X,Y) = loadYaleData() \n",
    "plt.imshow(makeCollage(63, 63, 10, 10, X, random.sample(range(Y.shape[0]), 100), getYaleface));\n",
    "plt.gray()\n",
    "plt.show()\n",
    "\n",
    "(X,Y) = loadOlivettiData()\n",
    "plt.imshow(makeCollage(63, 63, 10, 10, X, random.sample(range(Y.shape[0]), 100), getYaleface));\n",
    "plt.gray()\n",
    "plt.show()"
   ]
  },
  {
   "cell_type": "code",
   "execution_count": 40,
   "metadata": {
    "collapsed": false
   },
   "outputs": [
    {
     "name": "stderr",
     "output_type": "stream",
     "text": [
      "[Parallel(n_jobs=1)]: Done   1 jobs       | elapsed:    0.0s\n",
      "[Parallel(n_jobs=1)]: Done  20 out of  20 | elapsed:    1.1s finished\n"
     ]
    },
    {
     "name": "stdout",
     "output_type": "stream",
     "text": [
      "(4032L, 165L)\n",
      "(2016L, 165L)\n",
      "(4032L, 165L)\n",
      "Fitting 5 folds for each of 4 candidates, totalling 20 fits\n",
      "{'kernel': 'linear', 'C': 1}"
     ]
    },
    {
     "name": "stderr",
     "output_type": "stream",
     "text": [
      "[Parallel(n_jobs=1)]: Done   1 jobs       | elapsed:    0.0s\n",
      "[Parallel(n_jobs=1)]: Done  20 out of  20 | elapsed:    1.1s finished\n"
     ]
    },
    {
     "name": "stdout",
     "output_type": "stream",
     "text": [
      "\n",
      "0\n",
      "Accuracy:  0.766666666667\n",
      "Fitting 5 folds for each of 4 candidates, totalling 20 fits\n",
      "{'kernel': 'linear', 'C': 1}"
     ]
    },
    {
     "name": "stderr",
     "output_type": "stream",
     "text": [
      "[Parallel(n_jobs=1)]: Done   1 jobs       | elapsed:    0.0s\n",
      "[Parallel(n_jobs=1)]: Done  20 out of  20 | elapsed:    1.0s finished\n"
     ]
    },
    {
     "name": "stdout",
     "output_type": "stream",
     "text": [
      "\n",
      "1\n",
      "Accuracy:  0.8\n",
      "Fitting 5 folds for each of 4 candidates, totalling 20 fits\n",
      "{'kernel': 'linear', 'C': 1}"
     ]
    },
    {
     "name": "stderr",
     "output_type": "stream",
     "text": [
      "[Parallel(n_jobs=1)]: Done   1 jobs       | elapsed:    0.0s\n",
      "[Parallel(n_jobs=1)]: Done  20 out of  20 | elapsed:    1.1s finished\n"
     ]
    },
    {
     "name": "stdout",
     "output_type": "stream",
     "text": [
      "\n",
      "2\n",
      "Accuracy:  0.666666666667\n",
      "Fitting 5 folds for each of 4 candidates, totalling 20 fits\n",
      "{'kernel': 'linear', 'C': 1}"
     ]
    },
    {
     "name": "stderr",
     "output_type": "stream",
     "text": [
      "[Parallel(n_jobs=1)]: Done   1 jobs       | elapsed:    0.0s\n",
      "[Parallel(n_jobs=1)]: Done  20 out of  20 | elapsed:    1.0s finished\n"
     ]
    },
    {
     "name": "stdout",
     "output_type": "stream",
     "text": [
      "\n",
      "3\n",
      "Accuracy:  0.666666666667\n",
      "Fitting 5 folds for each of 4 candidates, totalling 20 fits\n",
      "{'kernel': 'linear', 'C': 1}"
     ]
    },
    {
     "name": "stderr",
     "output_type": "stream",
     "text": [
      "[Parallel(n_jobs=1)]: Done   1 jobs       | elapsed:    0.0s\n",
      "[Parallel(n_jobs=1)]: Done  20 out of  20 | elapsed:    1.1s finished\n"
     ]
    },
    {
     "name": "stdout",
     "output_type": "stream",
     "text": [
      "\n",
      "4\n",
      "Accuracy:  0.766666666667\n",
      "Fitting 5 folds for each of 4 candidates, totalling 20 fits\n",
      "{'kernel': 'linear', 'C': 1}"
     ]
    },
    {
     "name": "stderr",
     "output_type": "stream",
     "text": [
      "[Parallel(n_jobs=1)]: Done   1 jobs       | elapsed:    0.0s\n",
      "[Parallel(n_jobs=1)]: Done  20 out of  20 | elapsed:    1.0s finished\n"
     ]
    },
    {
     "name": "stdout",
     "output_type": "stream",
     "text": [
      "\n",
      "5\n",
      "Accuracy:  0.833333333333\n",
      "Fitting 5 folds for each of 4 candidates, totalling 20 fits\n",
      "{'kernel': 'linear', 'C': 1}"
     ]
    },
    {
     "name": "stderr",
     "output_type": "stream",
     "text": [
      "[Parallel(n_jobs=1)]: Done   1 jobs       | elapsed:    0.0s\n",
      "[Parallel(n_jobs=1)]: Done  20 out of  20 | elapsed:    1.0s finished\n"
     ]
    },
    {
     "name": "stdout",
     "output_type": "stream",
     "text": [
      "\n",
      "6\n",
      "Accuracy:  0.8\n",
      "Fitting 5 folds for each of 4 candidates, totalling 20 fits\n",
      "{'kernel': 'linear', 'C': 1}"
     ]
    },
    {
     "name": "stderr",
     "output_type": "stream",
     "text": [
      "[Parallel(n_jobs=1)]: Done   1 jobs       | elapsed:    0.0s\n",
      "[Parallel(n_jobs=1)]: Done  20 out of  20 | elapsed:    1.0s finished\n"
     ]
    },
    {
     "name": "stdout",
     "output_type": "stream",
     "text": [
      "\n",
      "7\n",
      "Accuracy:  0.533333333333\n",
      "Fitting 5 folds for each of 4 candidates, totalling 20 fits\n",
      "{'kernel': 'linear', 'C': 1}"
     ]
    },
    {
     "name": "stderr",
     "output_type": "stream",
     "text": [
      "[Parallel(n_jobs=1)]: Done   1 jobs       | elapsed:    0.0s\n",
      "[Parallel(n_jobs=1)]: Done  20 out of  20 | elapsed:    1.1s finished\n"
     ]
    },
    {
     "name": "stdout",
     "output_type": "stream",
     "text": [
      "\n",
      "8\n",
      "Accuracy:  0.7\n",
      "Fitting 5 folds for each of 4 candidates, totalling 20 fits\n",
      "{'kernel': 'linear', 'C': 1}"
     ]
    },
    {
     "name": "stderr",
     "output_type": "stream",
     "text": [
      "[Parallel(n_jobs=1)]: Done   1 jobs       | elapsed:    0.0s\n",
      "[Parallel(n_jobs=1)]: Done  20 out of  20 | elapsed:    1.1s finished\n"
     ]
    },
    {
     "name": "stdout",
     "output_type": "stream",
     "text": [
      "\n",
      "9\n",
      "Accuracy:  0.633333333333\n",
      "Fitting 5 folds for each of 4 candidates, totalling 20 fits\n",
      "{'kernel': 'linear', 'C': 1}"
     ]
    },
    {
     "name": "stderr",
     "output_type": "stream",
     "text": [
      "[Parallel(n_jobs=1)]: Done   1 jobs       | elapsed:    0.0s\n",
      "[Parallel(n_jobs=1)]: Done  20 out of  20 | elapsed:    1.1s finished\n"
     ]
    },
    {
     "name": "stdout",
     "output_type": "stream",
     "text": [
      "\n",
      "10\n",
      "Accuracy:  0.666666666667\n",
      "Fitting 5 folds for each of 4 candidates, totalling 20 fits\n",
      "{'kernel': 'linear', 'C': 1}"
     ]
    },
    {
     "name": "stderr",
     "output_type": "stream",
     "text": [
      "[Parallel(n_jobs=1)]: Done   1 jobs       | elapsed:    0.0s\n",
      "[Parallel(n_jobs=1)]: Done  20 out of  20 | elapsed:    1.1s finished\n"
     ]
    },
    {
     "name": "stdout",
     "output_type": "stream",
     "text": [
      "\n",
      "11\n",
      "Accuracy:  0.733333333333\n",
      "Fitting 5 folds for each of 4 candidates, totalling 20 fits\n",
      "{'kernel': 'linear', 'C': 1}"
     ]
    },
    {
     "name": "stderr",
     "output_type": "stream",
     "text": [
      "[Parallel(n_jobs=1)]: Done   1 jobs       | elapsed:    0.0s\n",
      "[Parallel(n_jobs=1)]: Done  20 out of  20 | elapsed:    1.1s finished\n"
     ]
    },
    {
     "name": "stdout",
     "output_type": "stream",
     "text": [
      "\n",
      "12\n",
      "Accuracy:  0.8\n",
      "Fitting 5 folds for each of 4 candidates, totalling 20 fits\n",
      "{'kernel': 'linear', 'C': 1}"
     ]
    },
    {
     "name": "stderr",
     "output_type": "stream",
     "text": [
      "[Parallel(n_jobs=1)]: Done   1 jobs       | elapsed:    0.0s\n",
      "[Parallel(n_jobs=1)]: Done  20 out of  20 | elapsed:    1.1s finished\n"
     ]
    },
    {
     "name": "stdout",
     "output_type": "stream",
     "text": [
      "\n",
      "13\n",
      "Accuracy:  0.666666666667\n",
      "Fitting 5 folds for each of 4 candidates, totalling 20 fits\n",
      "{'kernel': 'linear', 'C': 1}"
     ]
    },
    {
     "name": "stderr",
     "output_type": "stream",
     "text": [
      "[Parallel(n_jobs=1)]: Done   1 jobs       | elapsed:    0.0s\n",
      "[Parallel(n_jobs=1)]: Done  20 out of  20 | elapsed:    1.1s finished\n"
     ]
    },
    {
     "name": "stdout",
     "output_type": "stream",
     "text": [
      "\n",
      "14\n",
      "Accuracy:  0.633333333333\n",
      "Fitting 5 folds for each of 4 candidates, totalling 20 fits\n",
      "{'kernel': 'linear', 'C': 1}"
     ]
    },
    {
     "name": "stderr",
     "output_type": "stream",
     "text": [
      "[Parallel(n_jobs=1)]: Done   1 jobs       | elapsed:    0.0s\n",
      "[Parallel(n_jobs=1)]: Done  20 out of  20 | elapsed:    1.1s finished\n"
     ]
    },
    {
     "name": "stdout",
     "output_type": "stream",
     "text": [
      "\n",
      "15\n",
      "Accuracy:  0.7\n",
      "Fitting 5 folds for each of 4 candidates, totalling 20 fits\n",
      "{'kernel': 'linear', 'C': 1}"
     ]
    },
    {
     "name": "stderr",
     "output_type": "stream",
     "text": [
      "[Parallel(n_jobs=1)]: Done   1 jobs       | elapsed:    0.0s\n",
      "[Parallel(n_jobs=1)]: Done  20 out of  20 | elapsed:    1.1s finished\n"
     ]
    },
    {
     "name": "stdout",
     "output_type": "stream",
     "text": [
      "\n",
      "16\n",
      "Accuracy:  0.666666666667\n",
      "Fitting 5 folds for each of 4 candidates, totalling 20 fits\n",
      "{'kernel': 'linear', 'C': 1}"
     ]
    },
    {
     "name": "stderr",
     "output_type": "stream",
     "text": [
      "[Parallel(n_jobs=1)]: Done   1 jobs       | elapsed:    0.0s\n",
      "[Parallel(n_jobs=1)]: Done  20 out of  20 | elapsed:    1.1s finished\n"
     ]
    },
    {
     "name": "stdout",
     "output_type": "stream",
     "text": [
      "\n",
      "17\n",
      "Accuracy:  0.866666666667\n",
      "Fitting 5 folds for each of 4 candidates, totalling 20 fits\n",
      "{'kernel': 'linear', 'C': 1}"
     ]
    },
    {
     "name": "stderr",
     "output_type": "stream",
     "text": [
      "[Parallel(n_jobs=1)]: Done   1 jobs       | elapsed:    0.0s\n",
      "[Parallel(n_jobs=1)]: Done  20 out of  20 | elapsed:    1.1s finished\n"
     ]
    },
    {
     "name": "stdout",
     "output_type": "stream",
     "text": [
      "\n",
      "18\n",
      "Accuracy:  0.733333333333\n",
      "Fitting 5 folds for each of 4 candidates, totalling 20 fits\n",
      "{'kernel': 'linear', 'C': 1}"
     ]
    },
    {
     "name": "stderr",
     "output_type": "stream",
     "text": [
      "[Parallel(n_jobs=1)]: Done   1 jobs       | elapsed:    0.0s\n",
      "[Parallel(n_jobs=1)]: Done  20 out of  20 | elapsed:    1.1s finished\n"
     ]
    },
    {
     "name": "stdout",
     "output_type": "stream",
     "text": [
      "\n",
      "19\n",
      "Accuracy:  0.7\n",
      "Fitting 5 folds for each of 4 candidates, totalling 20 fits\n",
      "{'kernel': 'linear', 'C': 1}"
     ]
    },
    {
     "name": "stderr",
     "output_type": "stream",
     "text": [
      "[Parallel(n_jobs=1)]: Done   1 jobs       | elapsed:    0.0s\n",
      "[Parallel(n_jobs=1)]: Done  20 out of  20 | elapsed:    1.1s finished\n"
     ]
    },
    {
     "name": "stdout",
     "output_type": "stream",
     "text": [
      "\n",
      "20\n",
      "Accuracy:  0.8\n",
      "Fitting 5 folds for each of 4 candidates, totalling 20 fits\n",
      "{'kernel': 'linear', 'C': 1}"
     ]
    },
    {
     "name": "stderr",
     "output_type": "stream",
     "text": [
      "[Parallel(n_jobs=1)]: Done   1 jobs       | elapsed:    0.0s\n",
      "[Parallel(n_jobs=1)]: Done  20 out of  20 | elapsed:    1.1s finished\n"
     ]
    },
    {
     "name": "stdout",
     "output_type": "stream",
     "text": [
      "\n",
      "21\n",
      "Accuracy:  0.833333333333\n",
      "Fitting 5 folds for each of 4 candidates, totalling 20 fits\n",
      "{'kernel': 'linear', 'C': 1}"
     ]
    },
    {
     "name": "stderr",
     "output_type": "stream",
     "text": [
      "[Parallel(n_jobs=1)]: Done   1 jobs       | elapsed:    0.0s\n",
      "[Parallel(n_jobs=1)]: Done  20 out of  20 | elapsed:    1.1s finished\n"
     ]
    },
    {
     "name": "stdout",
     "output_type": "stream",
     "text": [
      "\n",
      "22\n",
      "Accuracy:  0.766666666667\n",
      "Fitting 5 folds for each of 4 candidates, totalling 20 fits\n",
      "{'kernel': 'linear', 'C': 1}"
     ]
    },
    {
     "name": "stderr",
     "output_type": "stream",
     "text": [
      "[Parallel(n_jobs=1)]: Done   1 jobs       | elapsed:    0.0s\n",
      "[Parallel(n_jobs=1)]: Done  20 out of  20 | elapsed:    1.1s finished\n"
     ]
    },
    {
     "name": "stdout",
     "output_type": "stream",
     "text": [
      "\n",
      "23\n",
      "Accuracy:  0.7\n",
      "Fitting 5 folds for each of 4 candidates, totalling 20 fits\n",
      "{'kernel': 'linear', 'C': 1}"
     ]
    },
    {
     "name": "stderr",
     "output_type": "stream",
     "text": [
      "[Parallel(n_jobs=1)]: Done   1 jobs       | elapsed:    0.0s\n",
      "[Parallel(n_jobs=1)]: Done  20 out of  20 | elapsed:    1.1s finished\n"
     ]
    },
    {
     "name": "stdout",
     "output_type": "stream",
     "text": [
      "\n",
      "24\n",
      "Accuracy:  0.666666666667\n",
      "Fitting 5 folds for each of 4 candidates, totalling 20 fits\n",
      "{'kernel': 'linear', 'C': 1}"
     ]
    },
    {
     "name": "stderr",
     "output_type": "stream",
     "text": [
      "[Parallel(n_jobs=1)]: Done   1 jobs       | elapsed:    0.0s\n",
      "[Parallel(n_jobs=1)]: Done  20 out of  20 | elapsed:    1.1s finished\n"
     ]
    },
    {
     "name": "stdout",
     "output_type": "stream",
     "text": [
      "\n",
      "25\n",
      "Accuracy:  0.8\n",
      "Fitting 5 folds for each of 4 candidates, totalling 20 fits\n",
      "{'kernel': 'linear', 'C': 1}"
     ]
    },
    {
     "name": "stderr",
     "output_type": "stream",
     "text": [
      "[Parallel(n_jobs=1)]: Done   1 jobs       | elapsed:    0.0s\n",
      "[Parallel(n_jobs=1)]: Done  20 out of  20 | elapsed:    1.1s finished\n"
     ]
    },
    {
     "name": "stdout",
     "output_type": "stream",
     "text": [
      "\n",
      "26\n",
      "Accuracy:  0.733333333333\n",
      "Fitting 5 folds for each of 4 candidates, totalling 20 fits\n",
      "{'kernel': 'linear', 'C': 1}"
     ]
    },
    {
     "name": "stderr",
     "output_type": "stream",
     "text": [
      "[Parallel(n_jobs=1)]: Done   1 jobs       | elapsed:    0.0s\n",
      "[Parallel(n_jobs=1)]: Done  20 out of  20 | elapsed:    1.1s finished\n"
     ]
    },
    {
     "name": "stdout",
     "output_type": "stream",
     "text": [
      "\n",
      "27\n",
      "Accuracy:  0.766666666667\n",
      "Fitting 5 folds for each of 4 candidates, totalling 20 fits\n",
      "{'kernel': 'linear', 'C': 1}"
     ]
    },
    {
     "name": "stderr",
     "output_type": "stream",
     "text": [
      "[Parallel(n_jobs=1)]: Done   1 jobs       | elapsed:    0.0s\n",
      "[Parallel(n_jobs=1)]: Done  20 out of  20 | elapsed:    1.1s finished\n"
     ]
    },
    {
     "name": "stdout",
     "output_type": "stream",
     "text": [
      "\n",
      "28\n",
      "Accuracy:  0.666666666667\n",
      "Fitting 5 folds for each of 4 candidates, totalling 20 fits\n",
      "{'kernel': 'linear', 'C': 1}"
     ]
    },
    {
     "name": "stderr",
     "output_type": "stream",
     "text": [
      "[Parallel(n_jobs=1)]: Done   1 jobs       | elapsed:    0.0s\n",
      "[Parallel(n_jobs=1)]: Done  20 out of  20 | elapsed:    1.1s finished\n"
     ]
    },
    {
     "name": "stdout",
     "output_type": "stream",
     "text": [
      "\n",
      "29\n",
      "Accuracy:  0.7\n",
      "Fitting 5 folds for each of 4 candidates, totalling 20 fits\n",
      "{'kernel': 'linear', 'C': 1}"
     ]
    },
    {
     "name": "stderr",
     "output_type": "stream",
     "text": [
      "[Parallel(n_jobs=1)]: Done   1 jobs       | elapsed:    0.0s\n",
      "[Parallel(n_jobs=1)]: Done  20 out of  20 | elapsed:    1.1s finished\n"
     ]
    },
    {
     "name": "stdout",
     "output_type": "stream",
     "text": [
      "\n",
      "30\n",
      "Accuracy:  0.733333333333\n",
      "Fitting 5 folds for each of 4 candidates, totalling 20 fits\n",
      "{'kernel': 'linear', 'C': 1}"
     ]
    },
    {
     "name": "stderr",
     "output_type": "stream",
     "text": [
      "[Parallel(n_jobs=1)]: Done   1 jobs       | elapsed:    0.0s\n",
      "[Parallel(n_jobs=1)]: Done  20 out of  20 | elapsed:    1.1s finished\n"
     ]
    },
    {
     "name": "stdout",
     "output_type": "stream",
     "text": [
      "\n",
      "31\n",
      "Accuracy:  0.733333333333\n",
      "Fitting 5 folds for each of 4 candidates, totalling 20 fits\n",
      "{'kernel': 'linear', 'C': 1}"
     ]
    },
    {
     "name": "stderr",
     "output_type": "stream",
     "text": [
      "[Parallel(n_jobs=1)]: Done   1 jobs       | elapsed:    0.0s\n",
      "[Parallel(n_jobs=1)]: Done  20 out of  20 | elapsed:    1.1s finished\n"
     ]
    },
    {
     "name": "stdout",
     "output_type": "stream",
     "text": [
      "\n",
      "32\n",
      "Accuracy:  0.666666666667\n",
      "Fitting 5 folds for each of 4 candidates, totalling 20 fits\n",
      "{'kernel': 'linear', 'C': 1}"
     ]
    },
    {
     "name": "stderr",
     "output_type": "stream",
     "text": [
      "[Parallel(n_jobs=1)]: Done   1 jobs       | elapsed:    0.0s\n",
      "[Parallel(n_jobs=1)]: Done  20 out of  20 | elapsed:    1.1s finished\n"
     ]
    },
    {
     "name": "stdout",
     "output_type": "stream",
     "text": [
      "\n",
      "33\n",
      "Accuracy:  0.766666666667\n",
      "Fitting 5 folds for each of 4 candidates, totalling 20 fits\n",
      "{'kernel': 'linear', 'C': 1}"
     ]
    },
    {
     "name": "stderr",
     "output_type": "stream",
     "text": [
      "[Parallel(n_jobs=1)]: Done   1 jobs       | elapsed:    0.0s\n",
      "[Parallel(n_jobs=1)]: Done  20 out of  20 | elapsed:    1.1s finished\n"
     ]
    },
    {
     "name": "stdout",
     "output_type": "stream",
     "text": [
      "\n",
      "34\n",
      "Accuracy:  0.6\n",
      "Fitting 5 folds for each of 4 candidates, totalling 20 fits\n",
      "{'kernel': 'linear', 'C': 1}"
     ]
    },
    {
     "name": "stderr",
     "output_type": "stream",
     "text": [
      "[Parallel(n_jobs=1)]: Done   1 jobs       | elapsed:    0.0s\n",
      "[Parallel(n_jobs=1)]: Done  20 out of  20 | elapsed:    1.1s finished\n"
     ]
    },
    {
     "name": "stdout",
     "output_type": "stream",
     "text": [
      "\n",
      "35\n",
      "Accuracy:  0.8\n",
      "Fitting 5 folds for each of 4 candidates, totalling 20 fits\n",
      "{'kernel': 'linear', 'C': 1}"
     ]
    },
    {
     "name": "stderr",
     "output_type": "stream",
     "text": [
      "[Parallel(n_jobs=1)]: Done   1 jobs       | elapsed:    0.0s\n",
      "[Parallel(n_jobs=1)]: Done  20 out of  20 | elapsed:    1.1s finished\n"
     ]
    },
    {
     "name": "stdout",
     "output_type": "stream",
     "text": [
      "\n",
      "36\n",
      "Accuracy:  0.7\n",
      "Fitting 5 folds for each of 4 candidates, totalling 20 fits\n",
      "{'kernel': 'linear', 'C': 1}"
     ]
    },
    {
     "name": "stderr",
     "output_type": "stream",
     "text": [
      "[Parallel(n_jobs=1)]: Done   1 jobs       | elapsed:    0.0s\n",
      "[Parallel(n_jobs=1)]: Done  20 out of  20 | elapsed:    1.1s finished\n"
     ]
    },
    {
     "name": "stdout",
     "output_type": "stream",
     "text": [
      "\n",
      "37\n",
      "Accuracy:  0.766666666667\n",
      "Fitting 5 folds for each of 4 candidates, totalling 20 fits\n",
      "{'kernel': 'linear', 'C': 1}"
     ]
    },
    {
     "name": "stderr",
     "output_type": "stream",
     "text": [
      "[Parallel(n_jobs=1)]: Done   1 jobs       | elapsed:    0.0s\n",
      "[Parallel(n_jobs=1)]: Done  20 out of  20 | elapsed:    1.1s finished\n"
     ]
    },
    {
     "name": "stdout",
     "output_type": "stream",
     "text": [
      "\n",
      "38\n",
      "Accuracy:  0.7\n",
      "Fitting 5 folds for each of 4 candidates, totalling 20 fits\n",
      "{'kernel': 'linear', 'C': 1}"
     ]
    },
    {
     "name": "stderr",
     "output_type": "stream",
     "text": [
      "[Parallel(n_jobs=1)]: Done   1 jobs       | elapsed:    0.0s\n",
      "[Parallel(n_jobs=1)]: Done  20 out of  20 | elapsed:    1.1s finished\n"
     ]
    },
    {
     "name": "stdout",
     "output_type": "stream",
     "text": [
      "\n",
      "39\n",
      "Accuracy:  0.666666666667\n",
      "Fitting 5 folds for each of 4 candidates, totalling 20 fits\n",
      "{'kernel': 'linear', 'C': 1}"
     ]
    },
    {
     "name": "stderr",
     "output_type": "stream",
     "text": [
      "[Parallel(n_jobs=1)]: Done   1 jobs       | elapsed:    0.0s\n",
      "[Parallel(n_jobs=1)]: Done  20 out of  20 | elapsed:    1.1s finished\n"
     ]
    },
    {
     "name": "stdout",
     "output_type": "stream",
     "text": [
      "\n",
      "40\n",
      "Accuracy:  0.7\n",
      "Fitting 5 folds for each of 4 candidates, totalling 20 fits\n",
      "{'kernel': 'linear', 'C': 1}"
     ]
    },
    {
     "name": "stderr",
     "output_type": "stream",
     "text": [
      "[Parallel(n_jobs=1)]: Done   1 jobs       | elapsed:    0.0s\n",
      "[Parallel(n_jobs=1)]: Done  20 out of  20 | elapsed:    1.1s finished\n"
     ]
    },
    {
     "name": "stdout",
     "output_type": "stream",
     "text": [
      "\n",
      "41\n",
      "Accuracy:  0.766666666667\n",
      "Fitting 5 folds for each of 4 candidates, totalling 20 fits\n",
      "{'kernel': 'linear', 'C': 1}"
     ]
    },
    {
     "name": "stderr",
     "output_type": "stream",
     "text": [
      "[Parallel(n_jobs=1)]: Done   1 jobs       | elapsed:    0.0s\n",
      "[Parallel(n_jobs=1)]: Done  20 out of  20 | elapsed:    1.1s finished\n"
     ]
    },
    {
     "name": "stdout",
     "output_type": "stream",
     "text": [
      "\n",
      "42\n",
      "Accuracy:  0.733333333333\n",
      "Fitting 5 folds for each of 4 candidates, totalling 20 fits\n",
      "{'kernel': 'linear', 'C': 1}"
     ]
    },
    {
     "name": "stderr",
     "output_type": "stream",
     "text": [
      "[Parallel(n_jobs=1)]: Done   1 jobs       | elapsed:    0.0s\n",
      "[Parallel(n_jobs=1)]: Done  20 out of  20 | elapsed:    1.0s finished\n"
     ]
    },
    {
     "name": "stdout",
     "output_type": "stream",
     "text": [
      "\n",
      "43\n",
      "Accuracy:  0.833333333333\n",
      "Fitting 5 folds for each of 4 candidates, totalling 20 fits\n",
      "{'kernel': 'linear', 'C': 1}"
     ]
    },
    {
     "name": "stderr",
     "output_type": "stream",
     "text": [
      "[Parallel(n_jobs=1)]: Done   1 jobs       | elapsed:    0.0s\n",
      "[Parallel(n_jobs=1)]: Done  20 out of  20 | elapsed:    1.1s finished\n"
     ]
    },
    {
     "name": "stdout",
     "output_type": "stream",
     "text": [
      "\n",
      "44\n",
      "Accuracy:  0.666666666667\n",
      "Fitting 5 folds for each of 4 candidates, totalling 20 fits\n",
      "{'kernel': 'linear', 'C': 1}"
     ]
    },
    {
     "name": "stderr",
     "output_type": "stream",
     "text": [
      "[Parallel(n_jobs=1)]: Done   1 jobs       | elapsed:    0.0s\n",
      "[Parallel(n_jobs=1)]: Done  20 out of  20 | elapsed:    1.1s finished\n"
     ]
    },
    {
     "name": "stdout",
     "output_type": "stream",
     "text": [
      "\n",
      "45\n",
      "Accuracy:  0.7\n",
      "Fitting 5 folds for each of 4 candidates, totalling 20 fits\n",
      "{'kernel': 'linear', 'C': 1}"
     ]
    },
    {
     "name": "stderr",
     "output_type": "stream",
     "text": [
      "[Parallel(n_jobs=1)]: Done   1 jobs       | elapsed:    0.0s\n",
      "[Parallel(n_jobs=1)]: Done  20 out of  20 | elapsed:    1.0s finished\n"
     ]
    },
    {
     "name": "stdout",
     "output_type": "stream",
     "text": [
      "\n",
      "46\n",
      "Accuracy:  0.666666666667\n",
      "Fitting 5 folds for each of 4 candidates, totalling 20 fits\n",
      "{'kernel': 'linear', 'C': 1}"
     ]
    },
    {
     "name": "stderr",
     "output_type": "stream",
     "text": [
      "[Parallel(n_jobs=1)]: Done   1 jobs       | elapsed:    0.0s\n",
      "[Parallel(n_jobs=1)]: Done  20 out of  20 | elapsed:    1.0s finished\n"
     ]
    },
    {
     "name": "stdout",
     "output_type": "stream",
     "text": [
      "\n",
      "47\n",
      "Accuracy:  0.766666666667\n",
      "Fitting 5 folds for each of 4 candidates, totalling 20 fits\n",
      "{'kernel': 'linear', 'C': 1}"
     ]
    },
    {
     "name": "stderr",
     "output_type": "stream",
     "text": [
      "[Parallel(n_jobs=1)]: Done   1 jobs       | elapsed:    0.0s\n",
      "[Parallel(n_jobs=1)]: Done  20 out of  20 | elapsed:    1.1s finished\n"
     ]
    },
    {
     "name": "stdout",
     "output_type": "stream",
     "text": [
      "\n",
      "48\n",
      "Accuracy:  0.6\n",
      "Fitting 5 folds for each of 4 candidates, totalling 20 fits\n",
      "{'kernel': 'linear', 'C': 1}"
     ]
    },
    {
     "name": "stderr",
     "output_type": "stream",
     "text": [
      "[Parallel(n_jobs=1)]: Done   1 jobs       | elapsed:    0.0s\n",
      "[Parallel(n_jobs=1)]: Done  20 out of  20 | elapsed:    1.1s finished\n"
     ]
    },
    {
     "name": "stdout",
     "output_type": "stream",
     "text": [
      "\n",
      "49\n",
      "Accuracy:  0.8\n",
      "Fitting 5 folds for each of 4 candidates, totalling 20 fits\n",
      "{'kernel': 'linear', 'C': 1}"
     ]
    },
    {
     "name": "stderr",
     "output_type": "stream",
     "text": [
      "[Parallel(n_jobs=1)]: Done   1 jobs       | elapsed:    0.0s\n",
      "[Parallel(n_jobs=1)]: Done  20 out of  20 | elapsed:    1.1s finished\n"
     ]
    },
    {
     "name": "stdout",
     "output_type": "stream",
     "text": [
      "\n",
      "50\n",
      "Accuracy:  0.733333333333\n",
      "Fitting 5 folds for each of 4 candidates, totalling 20 fits\n",
      "{'kernel': 'linear', 'C': 1}"
     ]
    },
    {
     "name": "stderr",
     "output_type": "stream",
     "text": [
      "[Parallel(n_jobs=1)]: Done   1 jobs       | elapsed:    0.0s\n",
      "[Parallel(n_jobs=1)]: Done  20 out of  20 | elapsed:    1.0s finished\n"
     ]
    },
    {
     "name": "stdout",
     "output_type": "stream",
     "text": [
      "\n",
      "51\n",
      "Accuracy:  0.7\n",
      "Fitting 5 folds for each of 4 candidates, totalling 20 fits\n",
      "{'kernel': 'linear', 'C': 1}"
     ]
    },
    {
     "name": "stderr",
     "output_type": "stream",
     "text": [
      "[Parallel(n_jobs=1)]: Done   1 jobs       | elapsed:    0.0s\n",
      "[Parallel(n_jobs=1)]: Done  20 out of  20 | elapsed:    1.0s finished\n"
     ]
    },
    {
     "name": "stdout",
     "output_type": "stream",
     "text": [
      "\n",
      "52\n",
      "Accuracy:  0.7\n",
      "Fitting 5 folds for each of 4 candidates, totalling 20 fits\n",
      "{'kernel': 'linear', 'C': 1}"
     ]
    },
    {
     "name": "stderr",
     "output_type": "stream",
     "text": [
      "[Parallel(n_jobs=1)]: Done   1 jobs       | elapsed:    0.0s\n",
      "[Parallel(n_jobs=1)]: Done  20 out of  20 | elapsed:    1.1s finished\n"
     ]
    },
    {
     "name": "stdout",
     "output_type": "stream",
     "text": [
      "\n",
      "53\n",
      "Accuracy:  0.6\n",
      "Fitting 5 folds for each of 4 candidates, totalling 20 fits\n",
      "{'kernel': 'linear', 'C': 1}"
     ]
    },
    {
     "name": "stderr",
     "output_type": "stream",
     "text": [
      "[Parallel(n_jobs=1)]: Done   1 jobs       | elapsed:    0.0s\n",
      "[Parallel(n_jobs=1)]: Done  20 out of  20 | elapsed:    1.0s finished\n"
     ]
    },
    {
     "name": "stdout",
     "output_type": "stream",
     "text": [
      "\n",
      "54\n",
      "Accuracy:  0.666666666667\n",
      "Fitting 5 folds for each of 4 candidates, totalling 20 fits\n",
      "{'kernel': 'linear', 'C': 1}"
     ]
    },
    {
     "name": "stderr",
     "output_type": "stream",
     "text": [
      "[Parallel(n_jobs=1)]: Done   1 jobs       | elapsed:    0.0s\n",
      "[Parallel(n_jobs=1)]: Done  20 out of  20 | elapsed:    1.1s finished\n"
     ]
    },
    {
     "name": "stdout",
     "output_type": "stream",
     "text": [
      "\n",
      "55\n",
      "Accuracy:  0.7\n",
      "Fitting 5 folds for each of 4 candidates, totalling 20 fits\n",
      "{'kernel': 'linear', 'C': 1}"
     ]
    },
    {
     "name": "stderr",
     "output_type": "stream",
     "text": [
      "[Parallel(n_jobs=1)]: Done   1 jobs       | elapsed:    0.0s\n",
      "[Parallel(n_jobs=1)]: Done  20 out of  20 | elapsed:    1.0s finished\n"
     ]
    },
    {
     "name": "stdout",
     "output_type": "stream",
     "text": [
      "\n",
      "56\n",
      "Accuracy:  0.833333333333\n",
      "Fitting 5 folds for each of 4 candidates, totalling 20 fits\n",
      "{'kernel': 'linear', 'C': 1}"
     ]
    },
    {
     "name": "stderr",
     "output_type": "stream",
     "text": [
      "[Parallel(n_jobs=1)]: Done   1 jobs       | elapsed:    0.0s\n",
      "[Parallel(n_jobs=1)]: Done  20 out of  20 | elapsed:    1.1s finished\n"
     ]
    },
    {
     "name": "stdout",
     "output_type": "stream",
     "text": [
      "\n",
      "57\n",
      "Accuracy:  0.666666666667\n",
      "Fitting 5 folds for each of 4 candidates, totalling 20 fits\n",
      "{'kernel': 'linear', 'C': 1}"
     ]
    },
    {
     "name": "stderr",
     "output_type": "stream",
     "text": [
      "[Parallel(n_jobs=1)]: Done   1 jobs       | elapsed:    0.0s\n",
      "[Parallel(n_jobs=1)]: Done  20 out of  20 | elapsed:    1.1s finished\n"
     ]
    },
    {
     "name": "stdout",
     "output_type": "stream",
     "text": [
      "\n",
      "58\n",
      "Accuracy:  0.833333333333\n",
      "Fitting 5 folds for each of 4 candidates, totalling 20 fits\n",
      "{'kernel': 'linear', 'C': 1}"
     ]
    },
    {
     "name": "stderr",
     "output_type": "stream",
     "text": [
      "[Parallel(n_jobs=1)]: Done   1 jobs       | elapsed:    0.0s\n",
      "[Parallel(n_jobs=1)]: Done  20 out of  20 | elapsed:    1.0s finished\n"
     ]
    },
    {
     "name": "stdout",
     "output_type": "stream",
     "text": [
      "\n",
      "59\n",
      "Accuracy:  0.8\n",
      "Fitting 5 folds for each of 4 candidates, totalling 20 fits\n",
      "{'kernel': 'linear', 'C': 1}"
     ]
    },
    {
     "name": "stderr",
     "output_type": "stream",
     "text": [
      "[Parallel(n_jobs=1)]: Done   1 jobs       | elapsed:    0.0s\n",
      "[Parallel(n_jobs=1)]: Done  20 out of  20 | elapsed:    1.0s finished\n"
     ]
    },
    {
     "name": "stdout",
     "output_type": "stream",
     "text": [
      "\n",
      "60\n",
      "Accuracy:  0.833333333333\n",
      "Fitting 5 folds for each of 4 candidates, totalling 20 fits\n",
      "{'kernel': 'linear', 'C': 1}"
     ]
    },
    {
     "name": "stderr",
     "output_type": "stream",
     "text": [
      "[Parallel(n_jobs=1)]: Done   1 jobs       | elapsed:    0.0s\n",
      "[Parallel(n_jobs=1)]: Done  20 out of  20 | elapsed:    1.0s finished\n"
     ]
    },
    {
     "name": "stdout",
     "output_type": "stream",
     "text": [
      "\n",
      "61\n",
      "Accuracy:  0.766666666667\n",
      "Fitting 5 folds for each of 4 candidates, totalling 20 fits\n",
      "{'kernel': 'linear', 'C': 1}"
     ]
    },
    {
     "name": "stderr",
     "output_type": "stream",
     "text": [
      "[Parallel(n_jobs=1)]: Done   1 jobs       | elapsed:    0.0s\n",
      "[Parallel(n_jobs=1)]: Done  20 out of  20 | elapsed:    1.1s finished\n"
     ]
    },
    {
     "name": "stdout",
     "output_type": "stream",
     "text": [
      "\n",
      "62\n",
      "Accuracy:  0.833333333333\n",
      "Fitting 5 folds for each of 4 candidates, totalling 20 fits\n",
      "{'kernel': 'linear', 'C': 1}"
     ]
    },
    {
     "name": "stderr",
     "output_type": "stream",
     "text": [
      "[Parallel(n_jobs=1)]: Done   1 jobs       | elapsed:    0.0s\n",
      "[Parallel(n_jobs=1)]: Done  20 out of  20 | elapsed:    1.1s finished\n"
     ]
    },
    {
     "name": "stdout",
     "output_type": "stream",
     "text": [
      "\n",
      "63\n",
      "Accuracy:  0.766666666667\n",
      "Fitting 5 folds for each of 4 candidates, totalling 20 fits\n",
      "{'kernel': 'linear', 'C': 1}"
     ]
    },
    {
     "name": "stderr",
     "output_type": "stream",
     "text": [
      "[Parallel(n_jobs=1)]: Done   1 jobs       | elapsed:    0.0s\n",
      "[Parallel(n_jobs=1)]: Done  20 out of  20 | elapsed:    1.1s finished\n"
     ]
    },
    {
     "name": "stdout",
     "output_type": "stream",
     "text": [
      "\n",
      "64\n",
      "Accuracy:  0.833333333333\n",
      "Fitting 5 folds for each of 4 candidates, totalling 20 fits\n",
      "{'kernel': 'linear', 'C': 1}"
     ]
    },
    {
     "name": "stderr",
     "output_type": "stream",
     "text": [
      "[Parallel(n_jobs=1)]: Done   1 jobs       | elapsed:    0.0s\n",
      "[Parallel(n_jobs=1)]: Done  20 out of  20 | elapsed:    1.1s finished\n"
     ]
    },
    {
     "name": "stdout",
     "output_type": "stream",
     "text": [
      "\n",
      "65\n",
      "Accuracy:  0.666666666667\n",
      "Fitting 5 folds for each of 4 candidates, totalling 20 fits\n",
      "{'kernel': 'linear', 'C': 1}"
     ]
    },
    {
     "name": "stderr",
     "output_type": "stream",
     "text": [
      "[Parallel(n_jobs=1)]: Done   1 jobs       | elapsed:    0.0s\n",
      "[Parallel(n_jobs=1)]: Done  20 out of  20 | elapsed:    1.1s finished\n"
     ]
    },
    {
     "name": "stdout",
     "output_type": "stream",
     "text": [
      "\n",
      "66\n",
      "Accuracy:  0.8\n",
      "Fitting 5 folds for each of 4 candidates, totalling 20 fits\n",
      "{'kernel': 'linear', 'C': 1}"
     ]
    },
    {
     "name": "stderr",
     "output_type": "stream",
     "text": [
      "[Parallel(n_jobs=1)]: Done   1 jobs       | elapsed:    0.0s\n",
      "[Parallel(n_jobs=1)]: Done  20 out of  20 | elapsed:    1.1s finished\n"
     ]
    },
    {
     "name": "stdout",
     "output_type": "stream",
     "text": [
      "\n",
      "67\n",
      "Accuracy:  0.7\n",
      "Fitting 5 folds for each of 4 candidates, totalling 20 fits\n",
      "{'kernel': 'linear', 'C': 1}"
     ]
    },
    {
     "name": "stderr",
     "output_type": "stream",
     "text": [
      "[Parallel(n_jobs=1)]: Done   1 jobs       | elapsed:    0.0s\n",
      "[Parallel(n_jobs=1)]: Done  20 out of  20 | elapsed:    1.0s finished\n"
     ]
    },
    {
     "name": "stdout",
     "output_type": "stream",
     "text": [
      "\n",
      "68\n",
      "Accuracy:  0.766666666667\n",
      "Fitting 5 folds for each of 4 candidates, totalling 20 fits\n",
      "{'kernel': 'linear', 'C': 1}"
     ]
    },
    {
     "name": "stderr",
     "output_type": "stream",
     "text": [
      "[Parallel(n_jobs=1)]: Done   1 jobs       | elapsed:    0.0s\n",
      "[Parallel(n_jobs=1)]: Done  20 out of  20 | elapsed:    1.0s finished\n"
     ]
    },
    {
     "name": "stdout",
     "output_type": "stream",
     "text": [
      "\n",
      "69\n",
      "Accuracy:  0.733333333333\n",
      "Fitting 5 folds for each of 4 candidates, totalling 20 fits\n",
      "{'kernel': 'linear', 'C': 1}"
     ]
    },
    {
     "name": "stderr",
     "output_type": "stream",
     "text": [
      "[Parallel(n_jobs=1)]: Done   1 jobs       | elapsed:    0.0s\n",
      "[Parallel(n_jobs=1)]: Done  20 out of  20 | elapsed:    1.0s finished\n"
     ]
    },
    {
     "name": "stdout",
     "output_type": "stream",
     "text": [
      "\n",
      "70\n",
      "Accuracy:  0.7\n",
      "Fitting 5 folds for each of 4 candidates, totalling 20 fits\n",
      "{'kernel': 'linear', 'C': 1}"
     ]
    },
    {
     "name": "stderr",
     "output_type": "stream",
     "text": [
      "[Parallel(n_jobs=1)]: Done   1 jobs       | elapsed:    0.0s\n",
      "[Parallel(n_jobs=1)]: Done  20 out of  20 | elapsed:    1.1s finished\n"
     ]
    },
    {
     "name": "stdout",
     "output_type": "stream",
     "text": [
      "\n",
      "71\n",
      "Accuracy:  0.7\n",
      "Fitting 5 folds for each of 4 candidates, totalling 20 fits\n",
      "{'kernel': 'linear', 'C': 1}"
     ]
    },
    {
     "name": "stderr",
     "output_type": "stream",
     "text": [
      "[Parallel(n_jobs=1)]: Done   1 jobs       | elapsed:    0.0s\n",
      "[Parallel(n_jobs=1)]: Done  20 out of  20 | elapsed:    1.0s finished\n"
     ]
    },
    {
     "name": "stdout",
     "output_type": "stream",
     "text": [
      "\n",
      "72\n",
      "Accuracy:  0.8\n",
      "Fitting 5 folds for each of 4 candidates, totalling 20 fits\n",
      "{'kernel': 'linear', 'C': 1}"
     ]
    },
    {
     "name": "stderr",
     "output_type": "stream",
     "text": [
      "[Parallel(n_jobs=1)]: Done   1 jobs       | elapsed:    0.0s\n",
      "[Parallel(n_jobs=1)]: Done  20 out of  20 | elapsed:    1.1s finished\n"
     ]
    },
    {
     "name": "stdout",
     "output_type": "stream",
     "text": [
      "\n",
      "73\n",
      "Accuracy:  0.7\n",
      "Fitting 5 folds for each of 4 candidates, totalling 20 fits\n",
      "{'kernel': 'linear', 'C': 1}"
     ]
    },
    {
     "name": "stderr",
     "output_type": "stream",
     "text": [
      "[Parallel(n_jobs=1)]: Done   1 jobs       | elapsed:    0.0s\n",
      "[Parallel(n_jobs=1)]: Done  20 out of  20 | elapsed:    1.0s finished\n"
     ]
    },
    {
     "name": "stdout",
     "output_type": "stream",
     "text": [
      "\n",
      "74\n",
      "Accuracy:  0.9\n",
      "Fitting 5 folds for each of 4 candidates, totalling 20 fits\n",
      "{'kernel': 'linear', 'C': 1}"
     ]
    },
    {
     "name": "stderr",
     "output_type": "stream",
     "text": [
      "[Parallel(n_jobs=1)]: Done   1 jobs       | elapsed:    0.0s\n",
      "[Parallel(n_jobs=1)]: Done  20 out of  20 | elapsed:    1.0s finished\n"
     ]
    },
    {
     "name": "stdout",
     "output_type": "stream",
     "text": [
      "\n",
      "75\n",
      "Accuracy:  0.8\n",
      "Fitting 5 folds for each of 4 candidates, totalling 20 fits\n",
      "{'kernel': 'linear', 'C': 1}"
     ]
    },
    {
     "name": "stderr",
     "output_type": "stream",
     "text": [
      "[Parallel(n_jobs=1)]: Done   1 jobs       | elapsed:    0.0s\n",
      "[Parallel(n_jobs=1)]: Done  20 out of  20 | elapsed:    1.0s finished\n"
     ]
    },
    {
     "name": "stdout",
     "output_type": "stream",
     "text": [
      "\n",
      "76\n",
      "Accuracy:  0.666666666667\n",
      "Fitting 5 folds for each of 4 candidates, totalling 20 fits\n",
      "{'kernel': 'linear', 'C': 1}"
     ]
    },
    {
     "name": "stderr",
     "output_type": "stream",
     "text": [
      "[Parallel(n_jobs=1)]: Done   1 jobs       | elapsed:    0.0s\n",
      "[Parallel(n_jobs=1)]: Done  20 out of  20 | elapsed:    1.1s finished\n"
     ]
    },
    {
     "name": "stdout",
     "output_type": "stream",
     "text": [
      "\n",
      "77\n",
      "Accuracy:  0.766666666667\n",
      "Fitting 5 folds for each of 4 candidates, totalling 20 fits\n",
      "{'kernel': 'linear', 'C': 1}"
     ]
    },
    {
     "name": "stderr",
     "output_type": "stream",
     "text": [
      "[Parallel(n_jobs=1)]: Done   1 jobs       | elapsed:    0.0s\n",
      "[Parallel(n_jobs=1)]: Done  20 out of  20 | elapsed:    1.0s finished\n"
     ]
    },
    {
     "name": "stdout",
     "output_type": "stream",
     "text": [
      "\n",
      "78\n",
      "Accuracy:  0.7\n",
      "Fitting 5 folds for each of 4 candidates, totalling 20 fits\n",
      "{'kernel': 'linear', 'C': 1}"
     ]
    },
    {
     "name": "stderr",
     "output_type": "stream",
     "text": [
      "[Parallel(n_jobs=1)]: Done   1 jobs       | elapsed:    0.0s\n",
      "[Parallel(n_jobs=1)]: Done  20 out of  20 | elapsed:    1.1s finished\n"
     ]
    },
    {
     "name": "stdout",
     "output_type": "stream",
     "text": [
      "\n",
      "79\n",
      "Accuracy:  0.766666666667\n",
      "Fitting 5 folds for each of 4 candidates, totalling 20 fits\n",
      "{'kernel': 'linear', 'C': 1}"
     ]
    },
    {
     "name": "stderr",
     "output_type": "stream",
     "text": [
      "[Parallel(n_jobs=1)]: Done   1 jobs       | elapsed:    0.0s\n",
      "[Parallel(n_jobs=1)]: Done  20 out of  20 | elapsed:    1.1s finished\n"
     ]
    },
    {
     "name": "stdout",
     "output_type": "stream",
     "text": [
      "\n",
      "80\n",
      "Accuracy:  0.833333333333\n",
      "Fitting 5 folds for each of 4 candidates, totalling 20 fits\n",
      "{'kernel': 'linear', 'C': 1}"
     ]
    },
    {
     "name": "stderr",
     "output_type": "stream",
     "text": [
      "[Parallel(n_jobs=1)]: Done   1 jobs       | elapsed:    0.0s\n",
      "[Parallel(n_jobs=1)]: Done  20 out of  20 | elapsed:    1.0s finished\n"
     ]
    },
    {
     "name": "stdout",
     "output_type": "stream",
     "text": [
      "\n",
      "81\n",
      "Accuracy:  0.666666666667\n",
      "Fitting 5 folds for each of 4 candidates, totalling 20 fits\n",
      "{'kernel': 'linear', 'C': 1}"
     ]
    },
    {
     "name": "stderr",
     "output_type": "stream",
     "text": [
      "[Parallel(n_jobs=1)]: Done   1 jobs       | elapsed:    0.0s\n",
      "[Parallel(n_jobs=1)]: Done  20 out of  20 | elapsed:    1.1s finished\n"
     ]
    },
    {
     "name": "stdout",
     "output_type": "stream",
     "text": [
      "\n",
      "82\n",
      "Accuracy:  0.766666666667\n",
      "Fitting 5 folds for each of 4 candidates, totalling 20 fits\n",
      "{'kernel': 'linear', 'C': 1}"
     ]
    },
    {
     "name": "stderr",
     "output_type": "stream",
     "text": [
      "[Parallel(n_jobs=1)]: Done   1 jobs       | elapsed:    0.0s\n",
      "[Parallel(n_jobs=1)]: Done  20 out of  20 | elapsed:    1.1s finished\n"
     ]
    },
    {
     "name": "stdout",
     "output_type": "stream",
     "text": [
      "\n",
      "83\n",
      "Accuracy:  0.833333333333\n",
      "Fitting 5 folds for each of 4 candidates, totalling 20 fits\n",
      "{'kernel': 'linear', 'C': 1}"
     ]
    },
    {
     "name": "stderr",
     "output_type": "stream",
     "text": [
      "[Parallel(n_jobs=1)]: Done   1 jobs       | elapsed:    0.0s\n",
      "[Parallel(n_jobs=1)]: Done  20 out of  20 | elapsed:    1.1s finished\n"
     ]
    },
    {
     "name": "stdout",
     "output_type": "stream",
     "text": [
      "\n",
      "84\n",
      "Accuracy:  0.7\n",
      "Fitting 5 folds for each of 4 candidates, totalling 20 fits\n",
      "{'kernel': 'linear', 'C': 1}"
     ]
    },
    {
     "name": "stderr",
     "output_type": "stream",
     "text": [
      "[Parallel(n_jobs=1)]: Done   1 jobs       | elapsed:    0.0s\n",
      "[Parallel(n_jobs=1)]: Done  20 out of  20 | elapsed:    1.0s finished\n"
     ]
    },
    {
     "name": "stdout",
     "output_type": "stream",
     "text": [
      "\n",
      "85\n",
      "Accuracy:  0.866666666667\n",
      "Fitting 5 folds for each of 4 candidates, totalling 20 fits\n",
      "{'kernel': 'linear', 'C': 1}"
     ]
    },
    {
     "name": "stderr",
     "output_type": "stream",
     "text": [
      "[Parallel(n_jobs=1)]: Done   1 jobs       | elapsed:    0.0s\n",
      "[Parallel(n_jobs=1)]: Done  20 out of  20 | elapsed:    1.0s finished\n"
     ]
    },
    {
     "name": "stdout",
     "output_type": "stream",
     "text": [
      "\n",
      "86\n",
      "Accuracy:  0.8\n",
      "Fitting 5 folds for each of 4 candidates, totalling 20 fits\n",
      "{'kernel': 'linear', 'C': 1}"
     ]
    },
    {
     "name": "stderr",
     "output_type": "stream",
     "text": [
      "[Parallel(n_jobs=1)]: Done   1 jobs       | elapsed:    0.0s\n",
      "[Parallel(n_jobs=1)]: Done  20 out of  20 | elapsed:    1.0s finished\n"
     ]
    },
    {
     "name": "stdout",
     "output_type": "stream",
     "text": [
      "\n",
      "87\n",
      "Accuracy:  0.733333333333\n",
      "Fitting 5 folds for each of 4 candidates, totalling 20 fits\n",
      "{'kernel': 'linear', 'C': 1}"
     ]
    },
    {
     "name": "stderr",
     "output_type": "stream",
     "text": [
      "[Parallel(n_jobs=1)]: Done   1 jobs       | elapsed:    0.0s\n",
      "[Parallel(n_jobs=1)]: Done  20 out of  20 | elapsed:    1.1s finished\n"
     ]
    },
    {
     "name": "stdout",
     "output_type": "stream",
     "text": [
      "\n",
      "88\n",
      "Accuracy:  0.733333333333\n",
      "Fitting 5 folds for each of 4 candidates, totalling 20 fits\n",
      "{'kernel': 'linear', 'C': 1}"
     ]
    },
    {
     "name": "stderr",
     "output_type": "stream",
     "text": [
      "[Parallel(n_jobs=1)]: Done   1 jobs       | elapsed:    0.0s\n",
      "[Parallel(n_jobs=1)]: Done  20 out of  20 | elapsed:    1.1s finished\n"
     ]
    },
    {
     "name": "stdout",
     "output_type": "stream",
     "text": [
      "\n",
      "89\n",
      "Accuracy:  0.666666666667\n",
      "Fitting 5 folds for each of 4 candidates, totalling 20 fits\n",
      "{'kernel': 'linear', 'C': 1}"
     ]
    },
    {
     "name": "stderr",
     "output_type": "stream",
     "text": [
      "[Parallel(n_jobs=1)]: Done   1 jobs       | elapsed:    0.0s\n",
      "[Parallel(n_jobs=1)]: Done  20 out of  20 | elapsed:    1.0s finished\n"
     ]
    },
    {
     "name": "stdout",
     "output_type": "stream",
     "text": [
      "\n",
      "90\n",
      "Accuracy:  0.766666666667\n",
      "Fitting 5 folds for each of 4 candidates, totalling 20 fits\n",
      "{'kernel': 'linear', 'C': 1}"
     ]
    },
    {
     "name": "stderr",
     "output_type": "stream",
     "text": [
      "[Parallel(n_jobs=1)]: Done   1 jobs       | elapsed:    0.0s\n",
      "[Parallel(n_jobs=1)]: Done  20 out of  20 | elapsed:    1.1s finished\n"
     ]
    },
    {
     "name": "stdout",
     "output_type": "stream",
     "text": [
      "\n",
      "91\n",
      "Accuracy:  0.666666666667\n",
      "Fitting 5 folds for each of 4 candidates, totalling 20 fits\n",
      "{'kernel': 'linear', 'C': 1}"
     ]
    },
    {
     "name": "stderr",
     "output_type": "stream",
     "text": [
      "[Parallel(n_jobs=1)]: Done   1 jobs       | elapsed:    0.0s\n",
      "[Parallel(n_jobs=1)]: Done  20 out of  20 | elapsed:    1.0s finished\n"
     ]
    },
    {
     "name": "stdout",
     "output_type": "stream",
     "text": [
      "\n",
      "92\n",
      "Accuracy:  0.733333333333\n",
      "Fitting 5 folds for each of 4 candidates, totalling 20 fits\n",
      "{'kernel': 'linear', 'C': 1}"
     ]
    },
    {
     "name": "stderr",
     "output_type": "stream",
     "text": [
      "[Parallel(n_jobs=1)]: Done   1 jobs       | elapsed:    0.0s\n",
      "[Parallel(n_jobs=1)]: Done  20 out of  20 | elapsed:    1.0s finished\n"
     ]
    },
    {
     "name": "stdout",
     "output_type": "stream",
     "text": [
      "\n",
      "93\n",
      "Accuracy:  0.6\n",
      "Fitting 5 folds for each of 4 candidates, totalling 20 fits\n",
      "{'kernel': 'linear', 'C': 1}"
     ]
    },
    {
     "name": "stderr",
     "output_type": "stream",
     "text": [
      "[Parallel(n_jobs=1)]: Done   1 jobs       | elapsed:    0.0s\n",
      "[Parallel(n_jobs=1)]: Done  20 out of  20 | elapsed:    1.1s finished\n"
     ]
    },
    {
     "name": "stdout",
     "output_type": "stream",
     "text": [
      "\n",
      "94\n",
      "Accuracy:  0.733333333333\n",
      "Fitting 5 folds for each of 4 candidates, totalling 20 fits\n",
      "{'kernel': 'linear', 'C': 1}"
     ]
    },
    {
     "name": "stderr",
     "output_type": "stream",
     "text": [
      "[Parallel(n_jobs=1)]: Done   1 jobs       | elapsed:    0.0s\n",
      "[Parallel(n_jobs=1)]: Done  20 out of  20 | elapsed:    1.1s finished\n"
     ]
    },
    {
     "name": "stdout",
     "output_type": "stream",
     "text": [
      "\n",
      "95\n",
      "Accuracy:  0.766666666667\n",
      "Fitting 5 folds for each of 4 candidates, totalling 20 fits\n",
      "{'kernel': 'linear', 'C': 1}"
     ]
    },
    {
     "name": "stderr",
     "output_type": "stream",
     "text": [
      "[Parallel(n_jobs=1)]: Done   1 jobs       | elapsed:    0.0s\n",
      "[Parallel(n_jobs=1)]: Done  20 out of  20 | elapsed:    1.0s finished\n"
     ]
    },
    {
     "name": "stdout",
     "output_type": "stream",
     "text": [
      "\n",
      "96\n",
      "Accuracy:  0.766666666667\n",
      "Fitting 5 folds for each of 4 candidates, totalling 20 fits\n",
      "{'kernel': 'linear', 'C': 1}"
     ]
    },
    {
     "name": "stderr",
     "output_type": "stream",
     "text": [
      "[Parallel(n_jobs=1)]: Done   1 jobs       | elapsed:    0.0s\n",
      "[Parallel(n_jobs=1)]: Done  20 out of  20 | elapsed:    1.1s finished\n"
     ]
    },
    {
     "name": "stdout",
     "output_type": "stream",
     "text": [
      "\n",
      "97\n",
      "Accuracy:  0.766666666667\n",
      "Fitting 5 folds for each of 4 candidates, totalling 20 fits\n",
      "{'kernel': 'linear', 'C': 1}"
     ]
    },
    {
     "name": "stderr",
     "output_type": "stream",
     "text": [
      "[Parallel(n_jobs=1)]: Done   1 jobs       | elapsed:    0.0s\n",
      "[Parallel(n_jobs=1)]: Done  20 out of  20 | elapsed:    1.0s finished\n"
     ]
    },
    {
     "name": "stdout",
     "output_type": "stream",
     "text": [
      "\n",
      "98\n",
      "Accuracy:  0.866666666667\n",
      "Fitting 5 folds for each of 4 candidates, totalling 20 fits\n",
      "{'kernel': 'linear', 'C': 1}\n",
      "99\n",
      "Accuracy:  0.666666666667\n",
      "Mean acc: 0.735\n"
     ]
    }
   ],
   "source": [
    "# NO PHASE CLASSIFICATION\n",
    "yaleHeight = 63\n",
    "yaleWidth = 63\n",
    "olivettHeight = 63\n",
    "olivettWidth = 63\n",
    "\n",
    "(X,Y) = loadYaleData()\n",
    "\n",
    "\n",
    "xNoPhase = np.zeros([X.shape[0]/2, X.shape[1]])\n",
    "\n",
    "for i in range(0,X.shape[1]):\n",
    "    xNoPhase[:,i] = removePhase(X[:,i])[:]\n",
    "\n",
    "xZeroPhase = np.zeros([X.shape[0], X.shape[1]])\n",
    "for i in range(0,X.shape[1]):\n",
    "    xZeroPhase[:,i] = addZeroPhase(xNoPhase[:,i])[:]\n",
    "\n",
    "print X.shape\n",
    "print xNoPhase.shape\n",
    "print xZeroPhase.shape\n",
    "\n",
    "randImgs = sample(xrange(X.shape[1]), 4)\n",
    "makeCollage(olivettHeight, olivettWidth, 1, 1, X, randImgs, getOlivettiface)\n",
    "makeCollage(olivettHeight, olivettWidth, 1, 1, xZeroPhase, randImgs, getOlivettiface)\n",
    "\n",
    "print \"Mean acc: \" + str(randomSplit(np.transpose(xNoPhase),Y))"
   ]
  },
  {
   "cell_type": "code",
   "execution_count": 32,
   "metadata": {
    "collapsed": false
   },
   "outputs": [
    {
     "name": "stderr",
     "output_type": "stream",
     "text": [
      "C:\\Users\\AI\\Anaconda\\lib\\site-packages\\IPython\\kernel\\__main__.py:13: ComplexWarning: Casting complex values to real discards the imaginary part\n"
     ]
    }
   ],
   "source": [
    "# Make Filtered Datasets\n",
    "height = 63\n",
    "width = 63\n",
    "\n",
    "for w in range(5, 40, 5):\n",
    "    (X,Y) = loadOlivettiData()\n",
    "    F = recFilter(width, (height-1)/2, w, w)\n",
    "    randImgs = [0, 72, 84, 9, 111]\n",
    "\n",
    "    for i in range(0, X.shape[1]):\n",
    "        for j in range(0, F.shape[0]):\n",
    "            X[j,i] = X[j,i] * F[j]\n",
    "\n",
    "    #print np.count_nonzero(X[0:F.shape[0]+1,0])\n",
    "    np.save(\"olivettiF_R_\" + str(w) + \"_\" + str(w), X)\n",
    "    c = makeCollage(height, width, 1, 1, X, randImgs, getOlivettiFFTImg)\n",
    "    scipy.misc.imsave('oFFT_R_' + str(w) + \"_\" + str(w) + '.jpg', c)\n",
    "    c = makeCollage(height, width, 1, 1, X, randImgs, getOlivettiface)\n",
    "    scipy.misc.imsave('oRecon_R_' + str(w) + \"_\" + str(w) + '.jpg', c)"
   ]
  },
  {
   "cell_type": "code",
   "execution_count": 112,
   "metadata": {
    "collapsed": false,
    "scrolled": true
   },
   "outputs": [],
   "source": [
    "# Run Classification on Filtered Data (Rectangle)\n",
    "accuracy_phase = np.array([])\n",
    "dim_phase = np.array([]) \n",
    "accuracy_nophase = np.array([])\n",
    "dim_nophase = np.array([]) \n",
    "\n",
    "# load the labels \n",
    "(X,Y) = loadYaleData()\n",
    "\n",
    "for w in range(10, 130, 10):\n",
    "    # load filtered data \n",
    "    X = np.load(\"./Filters/FilteredData/yaleF_R_\" + str(w) + \"_\" + str(w) + \".npy\")\n",
    "        \n",
    "    X_nophase = np.zeros([X.shape[0]/2, X.shape[1]])\n",
    "    for i in range(0,X.shape[1]):\n",
    "        X_nophase[:,i] = removePhase(X[:,i])[:]\n",
    "    \n",
    "    \n",
    "    accuracy_phase = np.append(accuracy_phase, randomSplit(np.transpose(X),Y))\n",
    "    print accuracy_phase[-1]\n",
    "    \n",
    "    dim_phase = np.append(dim_phase, w*w + X.shape[0]/2) \n",
    "    print dim_phase[-1]\n",
    "    \n",
    "    accuracy_nophase = np.append(accuracy_nophase, randomSplit(np.transpose(X_nophase),Y))\n",
    "    print accuracy_nophase[-1]\n",
    "    \n",
    "    dim_nophase = np.append(dim_nophase, w*w)\n",
    "    print dim_nophase[-1]\n",
    "\n",
    "np.savetxt(\"Y_R_acc_phase\", accuracy_phase)\n",
    "np.savetxt(\"Y_R_dim_phase\", dim_phase)\n",
    "np.savetxt(\"Y_R_acc_nophase\", accuracy_nophase)\n",
    "np.savetxt(\"Y_R_dim_phase\", dim_nophase)\n"
   ]
  },
  {
   "cell_type": "code",
   "execution_count": null,
   "metadata": {
    "collapsed": false,
    "scrolled": true
   },
   "outputs": [],
   "source": [
    "# Run Classification on Filtered Data (Triangle)\n",
    "accuracy_phase = np.array([])\n",
    "dim_phase = np.array([]) \n",
    "accuracy_nophase = np.array([])\n",
    "dim_nophase = np.array([]) \n",
    "\n",
    "# load the labels \n",
    "(X,Y) = loadOlivettiData()\n",
    "\n",
    "for w in range(5, 40, 5):\n",
    "    # load filtered data \n",
    "    X = np.load(\"./Filters/FilteredData/olivettiF_T_\" + str(w) + \"_\" + str(w) + \".npy\")\n",
    "    \n",
    "    #c = makeCollage(olivettHeight, olivettWidth, 1, 1, X, randImgs, getOlivettiFFTImg)\n",
    "    #plt.imshow(c)\n",
    "    #plt.show()\n",
    "    \n",
    "    X_nophase = np.zeros([X.shape[0]/2, X.shape[1]])\n",
    "    for i in range(0,X.shape[1]):\n",
    "        X_nophase[:,i] = removePhase(X[:,i])[:]\n",
    "    \n",
    "    \n",
    "    accuracy_phase = np.append(accuracy_phase, randomSplit(np.transpose(X),Y))\n",
    "    print accuracy_phase[-1]\n",
    "    \n",
    "    dim_phase = np.append(dim_phase, np.count_nonzero(X[0:X.shape[0]/2,0]) + X.shape[0]/2)\n",
    "    print dim_phase[-1]\n",
    "    \n",
    "    accuracy_nophase = np.append(accuracy_nophase, randomSplit(np.transpose(X_nophase),Y))\n",
    "    print accuracy_nophase[-1]\n",
    "    \n",
    "    dim_nophase = np.append(dim_nophase, np.count_nonzero(X[0:X.shape[0]/2,0]))\n",
    "    print dim_nophase[-1]\n",
    "\n",
    "np.savetxt(\"O_T_acc_phase\", accuracy_phase)\n",
    "np.savetxt(\"O_T_dim_phase\", dim_phase)\n",
    "np.savetxt(\"O_T_acc_nophase\", accuracy_nophase)\n",
    "np.savetxt(\"O_T_dim_nophase\", dim_nophase)\n"
   ]
  },
  {
   "cell_type": "code",
   "execution_count": null,
   "metadata": {
    "collapsed": false,
    "scrolled": false
   },
   "outputs": [],
   "source": [
    "# Run Classification Testing\n",
    "\n",
    "numExperiments = 14\n",
    "\n",
    "accuracy_phase = np.zeros(numExperiments)\n",
    "dim_phase = np.zeros(numExperiments)\n",
    "accuracy_nophase = np.zeros(numExperiments)\n",
    "dim_nophase = np.zeros(numExperiments) \n",
    "\n",
    "accuracy = np.array([])\n",
    "numTests = 5\n",
    "\n",
    "height = 63\n",
    "width = 63\n",
    "     \n",
    "# load the labels \n",
    "(X,Y) = loadOlivettiData()\n",
    "\n",
    "for i in range(numTests):\n",
    "    # leave 10% out for testing\n",
    "    skf = cross_validation.StratifiedKFold(Y,n_folds=10,shuffle=True) \n",
    "\n",
    "    for cv_i,test_i in skf:\n",
    "        exp = 0\n",
    "        \n",
    "        for w in range(5, 40, 5):\n",
    "            # load filtered data \n",
    "            X = np.load(\"./Filters/FilteredData/olivettiF_R_\" + str(w) + \"_\" + str(w) + \".npy\")\n",
    "\n",
    "            X_nophase = np.zeros([X.shape[0]/2, X.shape[1]])\n",
    "            for i in range(0,X.shape[1]):\n",
    "                X_nophase[:,i] = removePhase(X[:,i])[:]\n",
    "            \n",
    "            # feature engineering and selection \n",
    "            F = recFilter(width, (height-1)/2, w, w)\n",
    "            X_nophase = X_nophase[F == 1]\n",
    "            X = X[np.append(F, np.ones(X.shape[0]/2), axis=0) == 1]\n",
    "            \n",
    "            test_y = Y[test_i]\n",
    "            train_y = Y[cv_i]\n",
    "\n",
    "            # full dim test \n",
    "            train_X = np.transpose(X)[cv_i]           \n",
    "            test_X = np.transpose(X)[test_i]\n",
    "            accuracy = trainTestSVM(train_X, train_y, test_X, test_y)\n",
    "            accuracy_phase[exp] = accuracy_phase[exp] + accuracy\n",
    "            dim_phase[exp] = sum(F) + X.shape[0]/2\n",
    "            \n",
    "            # no phase test \n",
    "            train_X = np.transpose(X_nophase)[cv_i]  \n",
    "            test_X = np.transpose(X_nophase)[test_i]\n",
    "            accuracy = trainTestSVM(train_X, train_y, test_X, test_y)\n",
    "            accuracy_nophase[exp] = accuracy_nophase[exp] + accuracy\n",
    "            dim_nophase[exp] = sum(F)\n",
    "            \n",
    "            exp = exp + 1\n",
    "        \n",
    "        for w in range(5, 40, 5):\n",
    "            # load filtered data \n",
    "            X = np.load(\"./Filters/FilteredData/olivettiF_T_\" + str(w) + \"_\" + str(w) + \".npy\")\n",
    "\n",
    "            X_nophase = np.zeros([X.shape[0]/2, X.shape[1]])\n",
    "            for i in range(0,X.shape[1]):\n",
    "                X_nophase[:,i] = removePhase(X[:,i])[:]\n",
    "            \n",
    "            # feature engineering and selection \n",
    "            F = triFilter(width, (height-1)/2, w, w)\n",
    "            X_nophase = X_nophase[F == 1]\n",
    "            X = X[np.append(F, np.ones(X.shape[0]/2), axis=0) == 1]\n",
    "            \n",
    "            test_y = Y[test_i]\n",
    "            train_y = Y[cv_i]\n",
    "\n",
    "            # full dim test \n",
    "            train_X = np.transpose(X)[cv_i]           \n",
    "            test_X = np.transpose(X)[test_i]\n",
    "            accuracy = trainTestSVM(train_X, train_y, test_X, test_y)\n",
    "            accuracy_phase[exp] = accuracy_phase[exp] + accuracy\n",
    "            dim_phase[exp] = sum(F) + X.shape[0]/2\n",
    "            \n",
    "            # no phase test \n",
    "            train_X = np.transpose(X_nophase)[cv_i]  \n",
    "            test_X = np.transpose(X_nophase)[test_i]\n",
    "            accuracy = trainTestSVM(train_X, train_y, test_X, test_y)\n",
    "            accuracy_nophase[exp] = accuracy_nophase[exp] + accuracy\n",
    "            dim_nophase[exp] = sum(F)\n",
    "            \n",
    "            exp = exp + 1\n",
    "                     \n",
    "        break\n",
    "    \n",
    "    print \"Iterations \" + str(i)\n",
    "\n",
    "print accuracy_phase/numTests\n",
    "print accuracy_nophase/numTests\n",
    "print dim_phase\n",
    "print dim_nophase"
   ]
  },
  {
   "cell_type": "code",
   "execution_count": 45,
   "metadata": {
    "collapsed": false
   },
   "outputs": [],
   "source": [
    "def varFilter(train_X, numFeatures):\n",
    "    F = np.zeros(train_X.shape[1])\n",
    "    \n",
    "    var = np.var(train_X, axis=0)\n",
    "    varSorted = np.sort(var)[::-1]\n",
    "    \n",
    "    F[var >= varSorted[numFeatures]] = 1\n",
    "    \n",
    "    img = np.reshape(F, (32, 63),order='F')\n",
    "    plt.imshow(img)\n",
    "    plt.gray()\n",
    "    plt.show()\n",
    "    \n",
    "    return 0\n",
    "\n",
    "(X,Y) = loadYaleData()\n",
    "X_nophase = np.zeros([X.shape[0]/2, X.shape[1]])\n",
    "for i in range(0,X.shape[1]):\n",
    "    X_nophase[:,i] = removePhase(X[:,i])[:]\n",
    "\n",
    "train_X = np.transpose(X_nophase);\n",
    "varFilter(train_X, 200);           \n"
   ]
  },
  {
   "cell_type": "code",
   "execution_count": 56,
   "metadata": {
    "collapsed": false
   },
   "outputs": [],
   "source": [
    "def snrFilter(train_X, train_Y, numFeatures):\n",
    "    F = np.zeros(train_X.shape[1])\n",
    "    SNRsum = np.zeros(train_X.shape[1])\n",
    "    numClasses = np.unique(train_Y).shape[0]\n",
    "    \n",
    "    for j in range(numClasses):\n",
    "        pos = train_X[train_Y == j,:]\n",
    "        neg = train_X[train_Y != j,:]\n",
    "        mu_pos = np.mean(pos, axis = 0)\n",
    "        mu_neg = np.mean(neg, axis = 0)\n",
    "        sd_pos = np.std(pos, axis = 0)\n",
    "        sd_neg = np.std(neg, axis = 0)\n",
    "        SNRsum = SNRsum + np.abs((mu_pos - mu_neg)/(sd_pos + sd_neg))\n",
    "        \n",
    "    SNRavg = SNRsum/numClasses\n",
    "    SNRavgSorted = np.sort(SNRavg)[::-1]\n",
    "    \n",
    "    F[SNRavg >= SNRavgSorted[numFeatures]] = 1\n",
    "    \n",
    "    img = np.reshape(F, (32, 63),order='F')\n",
    "    plt.imshow(img)\n",
    "    plt.gray()\n",
    "    plt.show()\n",
    "    \n",
    "    return 0\n",
    "\n",
    "(X,Y) = loadYaleData()\n",
    "X_nophase = np.zeros([X.shape[0]/2, X.shape[1]])\n",
    "for i in range(0,X.shape[1]):\n",
    "    X_nophase[:,i] = removePhase(X[:,i])[:]\n",
    "\n",
    "train_X = np.transpose(X_nophase);\n",
    "snrFilter(train_X, Y, 200); "
   ]
  },
  {
   "cell_type": "code",
   "execution_count": 58,
   "metadata": {
    "collapsed": false
   },
   "outputs": [],
   "source": [
    "def fdrFilter(train_X, train_Y, numFeatures):\n",
    "    F = np.zeros(train_X.shape[1])\n",
    "    FDRsum = np.zeros(train_X.shape[1])\n",
    "    numClasses = np.unique(train_Y).shape[0]\n",
    "    \n",
    "    for j in range(numClasses):\n",
    "        pos = train_X[train_Y == j,:]\n",
    "        neg = train_X[train_Y != j,:]\n",
    "        mu_pos = np.mean(pos, axis = 0)\n",
    "        mu_neg = np.mean(neg, axis = 0)\n",
    "        sd_pos = np.std(pos, axis = 0)\n",
    "        sd_neg = np.std(neg, axis = 0)\n",
    "        FDRsum = FDRsum + np.square(mu_pos - mu_neg)/(np.square(sd_pos) + np.square(sd_neg))\n",
    "        \n",
    "    FDRavg = FDRsum/numClasses\n",
    "    FDRavgSorted = np.sort(FDRavg)[::-1]\n",
    "    \n",
    "    F[FDRavg >= FDRavgSorted[numFeatures]] = 1\n",
    "    \n",
    "    img = np.reshape(F, (32, 63),order='F')\n",
    "    plt.imshow(img)\n",
    "    plt.gray()\n",
    "    plt.show()\n",
    "    \n",
    "    return 0\n",
    "\n",
    "(X,Y) = loadYaleData()\n",
    "X_nophase = np.zeros([X.shape[0]/2, X.shape[1]])\n",
    "for i in range(0,X.shape[1]):\n",
    "    X_nophase[:,i] = removePhase(X[:,i])[:]\n",
    "\n",
    "train_X = np.transpose(X_nophase);\n",
    "fdrFilter(train_X, Y, 200); "
   ]
  },
  {
   "cell_type": "code",
   "execution_count": 69,
   "metadata": {
    "collapsed": false
   },
   "outputs": [],
   "source": [
    "def sdFilter(train_X, train_Y, numFeatures):\n",
    "    F = np.zeros(train_X.shape[1])\n",
    "    SDsum = np.zeros(train_X.shape[1])\n",
    "    numClasses = np.unique(train_Y).shape[0]\n",
    "    \n",
    "    for j in range(numClasses):\n",
    "        pos = train_X[train_Y == j,:]\n",
    "        neg = train_X[train_Y != j,:]\n",
    "        mu_pos = np.mean(pos, axis = 0)\n",
    "        mu_neg = np.mean(neg, axis = 0)\n",
    "        var_pos = np.var(pos, axis = 0)\n",
    "        var_neg = np.var(neg, axis = 0)\n",
    "        SDsum = SDsum + 0.5 * (var_pos/var_neg + var_neg/var_pos) + 0.5 * (np.square(mu_pos - mu_neg)/(var_pos + var_neg)) - 1\n",
    "        \n",
    "    SDavg = SDsum/numClasses\n",
    "    SDavgSorted = np.sort(SDavg)[::-1]\n",
    "    \n",
    "    F[SDavg >= SDavgSorted[numFeatures]] = 1\n",
    "    \n",
    "    img = np.reshape(F, (32, 63),order='F')\n",
    "    plt.imshow(img)\n",
    "    plt.gray()\n",
    "    plt.show()\n",
    "    \n",
    "    return 0\n",
    "\n",
    "(X,Y) = loadYaleData()\n",
    "X_nophase = np.zeros([X.shape[0]/2, X.shape[1]])\n",
    "for i in range(0,X.shape[1]):\n",
    "    X_nophase[:,i] = removePhase(X[:,i])[:]\n",
    "\n",
    "train_X = np.transpose(X_nophase);\n",
    "sdFilter(train_X, Y, 200);"
   ]
  },
  {
   "cell_type": "code",
   "execution_count": null,
   "metadata": {
    "collapsed": true
   },
   "outputs": [],
   "source": [
    "def tFilter(train_X, train_Y, numFeatures):\n",
    "    F = np.zeros(train_X.shape[1])\n",
    "    SDsum = np.zeros(train_X.shape[1])\n",
    "    numClasses = np.unique(train_Y).shape[0]\n",
    "    \n",
    "    for j in range(numClasses):\n",
    "        pos = train_X[train_Y == j,:]\n",
    "        neg = train_X[train_Y != j,:]\n",
    "        N_pos = pos.shape[0]\n",
    "        N_neg = neg.shape[0]\n",
    "        print pos.shape\n",
    "        mu_pos = np.mean(pos, axis = 0)\n",
    "        mu_neg = np.mean(neg, axis = 0)\n",
    "        var_pos = np.var(pos, axis = 0)\n",
    "        var_neg = np.var(neg, axis = 0)\n",
    "        Tsum = Tsum + 0.5 * (var_pos/var_neg + var_neg/var_pos) + 0.5 * (np.square(mu_pos - mu_neg)/(var_pos + var_neg)) - 1\n",
    "        \n",
    "    Tavg = Tsum/numClasses\n",
    "    TavgSorted = np.sort(Tavg)[::-1]\n",
    "    \n",
    "    F[Tavg >= TavgSorted[numFeatures]] = 1\n",
    "    \n",
    "    img = np.reshape(F, (32, 63),order='F')\n",
    "    plt.imshow(img)\n",
    "    plt.gray()\n",
    "    plt.show()\n",
    "    \n",
    "    return 0\n",
    "\n",
    "(X,Y) = loadYaleData()\n",
    "X_nophase = np.zeros([X.shape[0]/2, X.shape[1]])\n",
    "for i in range(0,X.shape[1]):\n",
    "    X_nophase[:,i] = removePhase(X[:,i])[:]\n",
    "\n",
    "train_X = np.transpose(X_nophase);\n",
    "tFilter(train_X, Y, 200);"
   ]
  },
  {
   "cell_type": "code",
   "execution_count": 42,
   "metadata": {
    "collapsed": false
   },
   "outputs": [],
   "source": [
    "def trainTestSVM(train_X, train_y, test_X, test_y):\n",
    "\n",
    "    clf = gridSearchSVM(train_X,train_y)\n",
    "\n",
    "    prediction = clf.predict(test_X)\n",
    "    print clf.best_params_\n",
    "    # record performance\n",
    "    accuracy = performance(prediction, test_y)\n",
    "    print \"Accuracy: \" , accuracy\n",
    "    \n",
    "    return accuracy"
   ]
  },
  {
   "cell_type": "code",
   "execution_count": null,
   "metadata": {
    "collapsed": true
   },
   "outputs": [],
   "source": [
    "accuracy_phase = np.loadtxt(\"Y_R_acc_phase\")\n",
    "dim_phase = np.loadtxt(\"Y_R_dim_phase\")\n",
    "accuracy_nophase = np.loadtxt(\"Y_R_acc_nophase\")\n",
    "dim_nophase = np.loadtxt(\"Y_R_dim_nophase\")\n",
    "\n",
    "plt.title(\"Yale Rectanular Filter With Phase\")\n",
    "plt.xlabel(\"Dimension\")\n",
    "plt.ylabel(\"Mean Accuracy\")\n",
    "plt.scatter(dim_phase, accuracy_phase)\n",
    "plt.show()\n",
    "\n",
    "plt.title(\"Yale Rectanular Filter Without Phase\")\n",
    "plt.xlabel(\"Dimension\")\n",
    "plt.ylabel(\"Mean Accuracy\")\n",
    "plt.scatter(dim_nophase, accuracy_nophase)\n",
    "plt.show()"
   ]
  }
 ],
 "metadata": {
  "kernelspec": {
   "display_name": "Python 2",
   "language": "python",
   "name": "python2"
  },
  "language_info": {
   "codemirror_mode": {
    "name": "ipython",
    "version": 2
   },
   "file_extension": ".py",
   "mimetype": "text/x-python",
   "name": "python",
   "nbconvert_exporter": "python",
   "pygments_lexer": "ipython2",
   "version": "2.7.10"
  }
 },
 "nbformat": 4,
 "nbformat_minor": 0
}
