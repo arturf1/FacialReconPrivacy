{
 "cells": [
  {
   "cell_type": "code",
   "execution_count": 2,
   "metadata": {
    "collapsed": false
   },
   "outputs": [],
   "source": [
    "import scipy.io\n",
    "import numpy as np\n",
    "import matplotlib.pyplot as plt\n",
    "import random\n",
    "from random import sample\n",
    "import numpy as np\n",
    "import time\n",
    "from sklearn import svm\n",
    "from sklearn import preprocessing\n",
    "from sklearn import metrics\n",
    "from sklearn import cross_validation\n",
    "from sklearn import grid_search"
   ]
  },
  {
   "cell_type": "code",
   "execution_count": 20,
   "metadata": {
    "collapsed": false
   },
   "outputs": [],
   "source": [
    "# SVM CLASSIFICATION FUNCTIONS\n",
    "def randomSplit(X,y):\n",
    "    random.seed(100)\n",
    "    \n",
    "    accuracy = np.array([])\n",
    "    # do 20 random splits\n",
    "    for i in range(20):\n",
    "        # leave 20% out for testing\n",
    "        skf = cross_validation.StratifiedKFold(y,n_folds=10,shuffle=True) \n",
    "        \n",
    "        for cv_i,test_i in skf:\n",
    "            train_X = X[cv_i]\n",
    "            train_y = y[cv_i]\n",
    "            print train_X\n",
    "            # do training here\n",
    "            clf = gridSearchSVM(train_X,train_y)\n",
    "\n",
    "            # do testing here\n",
    "            test_X = X[test_i]\n",
    "            test_y = y[test_i]\n",
    "            prediction = clf.predict(test_X)\n",
    "            print clf.best_params_\n",
    "            # record performance\n",
    "            foo = performance(prediction, test_y)\n",
    "            print \"Accuracy: \" , foo\n",
    "            accuracy = np.append(accuracy, foo)\n",
    "            break\n",
    "        \n",
    "    mean_acc = np.mean(accuracy)\n",
    "    return mean_acc\n",
    "\n",
    "\n",
    "def gridSearchSVM(X,y):\n",
    "    #parameters = {'kernel':('linear','rbf'), 'C':[1, 2, 3, 5, 10, 13, 15,20]}\n",
    "    parameters = {'kernel':('linear','rbf'), 'C':[1, 2, 3, 5]}\n",
    "    svr  = svm.SVC()\n",
    "    clf = grid_search.GridSearchCV(svr, parameters, cv = 5, n_jobs = 1, verbose=1)\n",
    "    clf.fit(X,y)\n",
    "    return clf\n",
    "\n",
    "def performance(prediction, target):\n",
    "    acc = metrics.accuracy_score(target, prediction, normalize=True)\n",
    "    return acc"
   ]
  },
  {
   "cell_type": "code",
   "execution_count": 4,
   "metadata": {
    "collapsed": true
   },
   "outputs": [],
   "source": [
    "# DATA LOADING FUNCTIONS\n",
    "def loadYaleData():\n",
    "    X = np.matrix(scipy.io.loadmat('yalefacesFFT.mat')['DATA'])\n",
    "    individuals = 15; \n",
    "    picsPerInd = 11;\n",
    "    Y = np.zeros((individuals*picsPerInd))\n",
    "    for i in range(0,individuals):\n",
    "        Y[(i)*picsPerInd:(i+1)*picsPerInd] = i;\n",
    "    return (X,Y)\n",
    "\n",
    "def loadOlivettiData():\n",
    "    X = np.matrix(scipy.io.loadmat('olivettifacesFFT.mat')['DATA'])\n",
    "    individuals = 40; \n",
    "    picsPerInd = 10;\n",
    "    Y = np.zeros((individuals*picsPerInd))\n",
    "    for i in range(0,individuals):\n",
    "        Y[(i)*picsPerInd:(i+1)*picsPerInd] = i;\n",
    "    return (X,Y)"
   ]
  },
  {
   "cell_type": "code",
   "execution_count": 5,
   "metadata": {
    "collapsed": false
   },
   "outputs": [],
   "source": [
    "# TRANFORMATION FUNCTIONS\n",
    "\n",
    "def removePhase(V):\n",
    "    return V[0:V.shape[0]/2].reshape(V.shape[0]/2);\n",
    "\n",
    "def recFilter(w,h,fw,fh):\n",
    "    h = h + 1\n",
    "    F = np.zeros((h,w));\n",
    "    for i in range((w-1)/2+1 - fw/2, (w-1)/2+1 + fw/2 - 1):\n",
    "        for j in range(h - fh - 1, h):\n",
    "            F[j,i] = 1\n",
    "    return np.reshape(F,(w*h),order='F')\n",
    "\n",
    "def triFilter(w,h,fw,fh):\n",
    "    h = h + 1\n",
    "    F = np.zeros((h,w));\n",
    "    for j in range(h - fh -1, h):\n",
    "        span = (j - (h - fh)) * (fw/2)/fh;\n",
    "        for i in range((w-1)/2+1 - span, (w-1)/2+1 + span - 1):\n",
    "            F[j,i] = 1\n",
    "    return np.reshape(F,(w*h),order='F')"
   ]
  },
  {
   "cell_type": "code",
   "execution_count": null,
   "metadata": {
    "collapsed": false
   },
   "outputs": [],
   "source": []
  },
  {
   "cell_type": "code",
   "execution_count": 6,
   "metadata": {
    "collapsed": false
   },
   "outputs": [],
   "source": [
    "# RECONSTRUCTION FUNCTIONS\n",
    "\n",
    "# Reconstruct an image from the Yale database \n",
    "# based on the all frequecies and phases\n",
    "def getYaleface(V):\n",
    "    R = V[0:63*32];\n",
    "    theta = V[63*32:];\n",
    "\n",
    "    # set reshape to FORTRAN order since that is what matlab uses\n",
    "    R = np.reshape(R, (32,63),order='F')\n",
    "    theta = np.reshape(theta, (32,63),order='F')\n",
    "\n",
    "    FFTimg = np.multiply(R,np.exp(np.sqrt(-1+0j)*theta));\n",
    "    FFTimg = np.concatenate((FFTimg, np.conj(np.rot90(FFTimg[0:31,:],2))), axis=0);       \n",
    "    img = np.fft.ifft2(np.fft.ifftshift(FFTimg));\n",
    "    \n",
    "    return np.real(img)\n",
    "\n",
    "def getYaleFFTImg(V):\n",
    "    R = V[0:63*32];\n",
    "    theta = V[63*32:];\n",
    "\n",
    "    # set reshape to FORTRAN order since that is what matlab uses\n",
    "    R = np.reshape(R, (32,63),order='F')\n",
    "    theta = np.reshape(theta, (32,63),order='F')\n",
    "\n",
    "    FFTimg = np.multiply(R,np.exp(np.sqrt(-1+0j)*theta));\n",
    "    FFTimg = np.concatenate((FFTimg, np.conj(np.rot90(FFTimg[0:31,:],2))), axis=0); \n",
    "    return np.log(FFTimg + 1);\n",
    "\n",
    "# Reconstruct an image from the Olivetti database \n",
    "# based on the all frequecies and phases\n",
    "def getOlivettiface(V):\n",
    "    R = V[0:63*32];\n",
    "    theta = V[63*32:];\n",
    "\n",
    "    # set reshape to FORTRAN order since that is what matlab uses\n",
    "    R = np.reshape(R, (32,63),order='F')\n",
    "    theta = np.reshape(theta, (32,63),order='F')\n",
    "\n",
    "    FFTimg = np.multiply(R,np.exp(np.sqrt(-1+0j)*theta));\n",
    "    FFTimg = np.concatenate((FFTimg, np.conj(np.rot90(FFTimg[0:31,:],2))), axis=0);       \n",
    "    img = np.fft.ifft2(np.fft.ifftshift(FFTimg));\n",
    "    \n",
    "    return np.real(img)\n",
    "\n",
    "def getOlivettiFFTImg(V):\n",
    "    R = V[0:63*32];\n",
    "    theta = V[63*32:];\n",
    "\n",
    "    # set reshape to FORTRAN order since that is what matlab uses\n",
    "    R = np.reshape(R, (32,63),order='F')\n",
    "    theta = np.reshape(theta, (32,63),order='F')\n",
    "\n",
    "    FFTimg = np.multiply(R,np.exp(np.sqrt(-1+0j)*theta));\n",
    "    FFTimg = np.concatenate((FFTimg, np.conj(np.rot90(FFTimg[0:31,:],2))), axis=0); \n",
    "    return np.log(FFTimg + 1);\n",
    "\n",
    "def addZeroPhase(V,):\n",
    "    F = np.zeros((V.shape[0]*2))\n",
    "    # add magnitude \n",
    "    F[0:V.shape[0]] = V[0:V.shape[0]].reshape(V.shape[0]);\n",
    "    # add original phase\n",
    "    #F[V.shape[0]:] = X[V.shape[0]:, i].reshape(V.shape[0]);\n",
    "    # add zero phase\n",
    "    F[V.shape[0]:] = 0;\n",
    "    return F.reshape(F.shape[0]);"
   ]
  },
  {
   "cell_type": "code",
   "execution_count": 7,
   "metadata": {
    "collapsed": false
   },
   "outputs": [],
   "source": [
    "# DISPLAY FUNCTIONS\n",
    "# h,w are height and width of the individual images, nh,nw are the dimensions of the \n",
    "# collage interms of images \n",
    "def makeCollage(h, w, nh, nw, DATA, randImg, getImage):\n",
    "    \n",
    "    border = 10\n",
    "    collage = np.zeros((h*nh+border*(nh+1),w*nw+border*(nw+1)));\n",
    "    #randImg = sample(xrange(DATA.shape[1]), nw*nh)\n",
    "\n",
    "    for i in range(0,nw):\n",
    "        for j in range(0,nh):\n",
    "            img = getImage(DATA[:,randImg[nw*i + j]])\n",
    "            collage[(i+1)*border-1+i*h:(i+1)*h+(i+1)*border-1, (j+1)*border+j*w-1:(j+1)*border-1+(j+1)*w] = img\n",
    "    \n",
    "    return collage\n",
    "    "
   ]
  },
  {
   "cell_type": "code",
   "execution_count": null,
   "metadata": {
    "collapsed": false
   },
   "outputs": [],
   "source": []
  },
  {
   "cell_type": "code",
   "execution_count": 19,
   "metadata": {
    "collapsed": false
   },
   "outputs": [
    {
     "name": "stderr",
     "output_type": "stream",
     "text": [
      "[Parallel(n_jobs=1)]: Done   1 jobs       | elapsed:    0.5s\n",
      "[Parallel(n_jobs=1)]: Done  40 out of  40 | elapsed:   30.7s finished\n"
     ]
    },
    {
     "name": "stdout",
     "output_type": "stream",
     "text": [
      "Fitting 5 folds for each of 8 candidates, totalling 40 fits\n",
      "{'kernel': 'linear', 'C': 1}"
     ]
    },
    {
     "name": "stderr",
     "output_type": "stream",
     "text": [
      "[Parallel(n_jobs=1)]: Done   1 jobs       | elapsed:    0.5s\n",
      "[Parallel(n_jobs=1)]: Done  40 out of  40 | elapsed:   30.9s finished\n"
     ]
    },
    {
     "name": "stdout",
     "output_type": "stream",
     "text": [
      "\n",
      "Accuracy:  0.975\n",
      "Fitting 5 folds for each of 8 candidates, totalling 40 fits\n",
      "{'kernel': 'linear', 'C': 1}"
     ]
    },
    {
     "name": "stderr",
     "output_type": "stream",
     "text": [
      "[Parallel(n_jobs=1)]: Done   1 jobs       | elapsed:    0.5s\n",
      "[Parallel(n_jobs=1)]: Done  40 out of  40 | elapsed:   30.5s finished\n"
     ]
    },
    {
     "name": "stdout",
     "output_type": "stream",
     "text": [
      "\n",
      "Accuracy:  0.975\n",
      "Fitting 5 folds for each of 8 candidates, totalling 40 fits\n",
      "{'kernel': 'linear', 'C': 1}"
     ]
    },
    {
     "name": "stderr",
     "output_type": "stream",
     "text": [
      "[Parallel(n_jobs=1)]: Done   1 jobs       | elapsed:    0.5s\n",
      "[Parallel(n_jobs=1)]: Done  40 out of  40 | elapsed:   30.5s finished\n"
     ]
    },
    {
     "name": "stdout",
     "output_type": "stream",
     "text": [
      "\n",
      "Accuracy:  1.0\n",
      "Fitting 5 folds for each of 8 candidates, totalling 40 fits\n",
      "{'kernel': 'linear', 'C': 1}"
     ]
    },
    {
     "name": "stderr",
     "output_type": "stream",
     "text": [
      "[Parallel(n_jobs=1)]: Done   1 jobs       | elapsed:    0.5s\n",
      "[Parallel(n_jobs=1)]: Done  40 out of  40 | elapsed:   30.6s finished\n"
     ]
    },
    {
     "name": "stdout",
     "output_type": "stream",
     "text": [
      "\n",
      "Accuracy:  1.0\n",
      "Fitting 5 folds for each of 8 candidates, totalling 40 fits\n",
      "{'kernel': 'linear', 'C': 1}"
     ]
    },
    {
     "name": "stderr",
     "output_type": "stream",
     "text": [
      "[Parallel(n_jobs=1)]: Done   1 jobs       | elapsed:    0.5s\n",
      "[Parallel(n_jobs=1)]: Done  40 out of  40 | elapsed:   30.5s finished\n"
     ]
    },
    {
     "name": "stdout",
     "output_type": "stream",
     "text": [
      "\n",
      "Accuracy:  0.975\n",
      "Fitting 5 folds for each of 8 candidates, totalling 40 fits\n",
      "{'kernel': 'linear', 'C': 1}"
     ]
    },
    {
     "name": "stderr",
     "output_type": "stream",
     "text": [
      "[Parallel(n_jobs=1)]: Done   1 jobs       | elapsed:    0.5s\n",
      "[Parallel(n_jobs=1)]: Done  40 out of  40 | elapsed:   30.8s finished\n"
     ]
    },
    {
     "name": "stdout",
     "output_type": "stream",
     "text": [
      "\n",
      "Accuracy:  0.975\n",
      "Fitting 5 folds for each of 8 candidates, totalling 40 fits\n",
      "{'kernel': 'linear', 'C': 1}"
     ]
    },
    {
     "name": "stderr",
     "output_type": "stream",
     "text": [
      "[Parallel(n_jobs=1)]: Done   1 jobs       | elapsed:    0.5s\n",
      "[Parallel(n_jobs=1)]: Done  40 out of  40 | elapsed:   30.6s finished\n"
     ]
    },
    {
     "name": "stdout",
     "output_type": "stream",
     "text": [
      "\n",
      "Accuracy:  0.95\n",
      "Fitting 5 folds for each of 8 candidates, totalling 40 fits\n",
      "{'kernel': 'linear', 'C': 1}"
     ]
    },
    {
     "name": "stderr",
     "output_type": "stream",
     "text": [
      "[Parallel(n_jobs=1)]: Done   1 jobs       | elapsed:    0.5s\n",
      "[Parallel(n_jobs=1)]: Done  40 out of  40 | elapsed:   31.0s finished\n"
     ]
    },
    {
     "name": "stdout",
     "output_type": "stream",
     "text": [
      "\n",
      "Accuracy:  0.975\n",
      "Fitting 5 folds for each of 8 candidates, totalling 40 fits\n",
      "{'kernel': 'linear', 'C': 1}"
     ]
    },
    {
     "name": "stderr",
     "output_type": "stream",
     "text": [
      "[Parallel(n_jobs=1)]: Done   1 jobs       | elapsed:    0.5s\n",
      "[Parallel(n_jobs=1)]: Done  40 out of  40 | elapsed:   30.7s finished\n"
     ]
    },
    {
     "name": "stdout",
     "output_type": "stream",
     "text": [
      "\n",
      "Accuracy:  1.0\n",
      "Fitting 5 folds for each of 8 candidates, totalling 40 fits\n",
      "{'kernel': 'linear', 'C': 1}"
     ]
    },
    {
     "name": "stderr",
     "output_type": "stream",
     "text": [
      "[Parallel(n_jobs=1)]: Done   1 jobs       | elapsed:    0.5s\n",
      "[Parallel(n_jobs=1)]: Done  40 out of  40 | elapsed:   31.0s finished\n"
     ]
    },
    {
     "name": "stdout",
     "output_type": "stream",
     "text": [
      "\n",
      "Accuracy:  0.975\n",
      "Fitting 5 folds for each of 8 candidates, totalling 40 fits\n",
      "{'kernel': 'linear', 'C': 1}"
     ]
    },
    {
     "name": "stderr",
     "output_type": "stream",
     "text": [
      "[Parallel(n_jobs=1)]: Done   1 jobs       | elapsed:    0.5s\n",
      "[Parallel(n_jobs=1)]: Done  40 out of  40 | elapsed:   30.8s finished\n"
     ]
    },
    {
     "name": "stdout",
     "output_type": "stream",
     "text": [
      "\n",
      "Accuracy:  0.975\n",
      "Fitting 5 folds for each of 8 candidates, totalling 40 fits\n",
      "{'kernel': 'linear', 'C': 1}"
     ]
    },
    {
     "name": "stderr",
     "output_type": "stream",
     "text": [
      "[Parallel(n_jobs=1)]: Done   1 jobs       | elapsed:    0.5s\n",
      "[Parallel(n_jobs=1)]: Done  40 out of  40 | elapsed:   30.6s finished\n"
     ]
    },
    {
     "name": "stdout",
     "output_type": "stream",
     "text": [
      "\n",
      "Accuracy:  0.975\n",
      "Fitting 5 folds for each of 8 candidates, totalling 40 fits\n",
      "{'kernel': 'linear', 'C': 1}"
     ]
    },
    {
     "name": "stderr",
     "output_type": "stream",
     "text": [
      "[Parallel(n_jobs=1)]: Done   1 jobs       | elapsed:    0.5s\n",
      "[Parallel(n_jobs=1)]: Done  40 out of  40 | elapsed:   30.5s finished\n"
     ]
    },
    {
     "name": "stdout",
     "output_type": "stream",
     "text": [
      "\n",
      "Accuracy:  0.875\n",
      "Fitting 5 folds for each of 8 candidates, totalling 40 fits\n",
      "{'kernel': 'linear', 'C': 1}"
     ]
    },
    {
     "name": "stderr",
     "output_type": "stream",
     "text": [
      "[Parallel(n_jobs=1)]: Done   1 jobs       | elapsed:    0.5s\n",
      "[Parallel(n_jobs=1)]: Done  40 out of  40 | elapsed:   30.5s finished\n"
     ]
    },
    {
     "name": "stdout",
     "output_type": "stream",
     "text": [
      "\n",
      "Accuracy:  1.0\n",
      "Fitting 5 folds for each of 8 candidates, totalling 40 fits\n",
      "{'kernel': 'linear', 'C': 1}"
     ]
    },
    {
     "name": "stderr",
     "output_type": "stream",
     "text": [
      "[Parallel(n_jobs=1)]: Done   1 jobs       | elapsed:    0.5s\n",
      "[Parallel(n_jobs=1)]: Done  40 out of  40 | elapsed:   31.1s finished\n"
     ]
    },
    {
     "name": "stdout",
     "output_type": "stream",
     "text": [
      "\n",
      "Accuracy:  0.95\n",
      "Fitting 5 folds for each of 8 candidates, totalling 40 fits\n",
      "{'kernel': 'linear', 'C': 1}"
     ]
    },
    {
     "name": "stderr",
     "output_type": "stream",
     "text": [
      "[Parallel(n_jobs=1)]: Done   1 jobs       | elapsed:    0.5s\n",
      "[Parallel(n_jobs=1)]: Done  40 out of  40 | elapsed:   30.8s finished\n"
     ]
    },
    {
     "name": "stdout",
     "output_type": "stream",
     "text": [
      "\n",
      "Accuracy:  0.975\n",
      "Fitting 5 folds for each of 8 candidates, totalling 40 fits\n",
      "{'kernel': 'linear', 'C': 1}"
     ]
    },
    {
     "name": "stderr",
     "output_type": "stream",
     "text": [
      "[Parallel(n_jobs=1)]: Done   1 jobs       | elapsed:    0.5s\n",
      "[Parallel(n_jobs=1)]: Done  40 out of  40 | elapsed:   30.6s finished\n"
     ]
    },
    {
     "name": "stdout",
     "output_type": "stream",
     "text": [
      "\n",
      "Accuracy:  0.975\n",
      "Fitting 5 folds for each of 8 candidates, totalling 40 fits\n",
      "{'kernel': 'linear', 'C': 1}"
     ]
    },
    {
     "name": "stderr",
     "output_type": "stream",
     "text": [
      "[Parallel(n_jobs=1)]: Done   1 jobs       | elapsed:    0.5s\n",
      "[Parallel(n_jobs=1)]: Done  40 out of  40 | elapsed:   30.7s finished\n"
     ]
    },
    {
     "name": "stdout",
     "output_type": "stream",
     "text": [
      "\n",
      "Accuracy:  0.975\n",
      "Fitting 5 folds for each of 8 candidates, totalling 40 fits\n",
      "{'kernel': 'linear', 'C': 1}"
     ]
    },
    {
     "name": "stderr",
     "output_type": "stream",
     "text": [
      "[Parallel(n_jobs=1)]: Done   1 jobs       | elapsed:    0.5s\n",
      "[Parallel(n_jobs=1)]: Done  40 out of  40 | elapsed:   31.1s finished\n"
     ]
    },
    {
     "name": "stdout",
     "output_type": "stream",
     "text": [
      "\n",
      "Accuracy:  0.975\n",
      "Fitting 5 folds for each of 8 candidates, totalling 40 fits\n",
      "{'kernel': 'linear', 'C': 1}\n",
      "Accuracy:  0.975\n",
      "Mean acc:0.9725\n"
     ]
    }
   ],
   "source": [
    "# BASELINE CLASSIFICATION\n",
    "(X,Y) = loadOlivettiData()\n",
    "print \"Mean acc:\" + str(randomSplit(np.transpose(X),Y))"
   ]
  },
  {
   "cell_type": "code",
   "execution_count": 25,
   "metadata": {
    "collapsed": false
   },
   "outputs": [],
   "source": [
    "(X,Y) = loadYaleData() \n",
    "plt.imshow(makeCollage(63, 63, 10, 10, X, random.sample(range(Y.shape[0]), 100), getYaleface));\n",
    "plt.gray()\n",
    "plt.show()\n",
    "\n",
    "(X,Y) = loadOlivettiData()\n",
    "plt.imshow(makeCollage(63, 63, 10, 10, X, random.sample(range(Y.shape[0]), 100), getYaleface));\n",
    "plt.gray()\n",
    "plt.show()"
   ]
  },
  {
   "cell_type": "code",
   "execution_count": 7,
   "metadata": {
    "collapsed": false
   },
   "outputs": [
    {
     "name": "stdout",
     "output_type": "stream",
     "text": [
      "(4032, 400)\n",
      "(2016, 400)\n",
      "(4032, 400)\n"
     ]
    },
    {
     "data": {
      "text/plain": [
       "array([[ 0.,  0.,  0., ...,  0.,  0.,  0.],\n",
       "       [ 0.,  0.,  0., ...,  0.,  0.,  0.],\n",
       "       [ 0.,  0.,  0., ...,  0.,  0.,  0.],\n",
       "       ..., \n",
       "       [ 0.,  0.,  0., ...,  0.,  0.,  0.],\n",
       "       [ 0.,  0.,  0., ...,  0.,  0.,  0.],\n",
       "       [ 0.,  0.,  0., ...,  0.,  0.,  0.]])"
      ]
     },
     "execution_count": 7,
     "metadata": {},
     "output_type": "execute_result"
    }
   ],
   "source": [
    "# NO PHASE CLASSIFICATION\n",
    "yaleHeight = 243\n",
    "yaleWidth = 319\n",
    "olivettHeight = 63\n",
    "olivettWidth = 63\n",
    "\n",
    "(X,Y) = loadOlivettiData()\n",
    "\n",
    "\n",
    "xNoPhase = np.zeros([X.shape[0]/2, X.shape[1]])\n",
    "\n",
    "for i in range(0,X.shape[1]):\n",
    "    xNoPhase[:,i] = removePhase(X[:,i])[:]\n",
    "\n",
    "xZeroPhase = np.zeros([X.shape[0], X.shape[1]])\n",
    "for i in range(0,X.shape[1]):\n",
    "    xZeroPhase[:,i] = addZeroPhase(xNoPhase[:,i])[:]\n",
    "\n",
    "print X.shape\n",
    "print xNoPhase.shape\n",
    "print xZeroPhase.shape\n",
    "\n",
    "randImgs = sample(xrange(X.shape[1]), 4)\n",
    "makeCollage(olivettHeight, olivettWidth, 1, 1, X, randImgs, getOlivettiface)\n",
    "makeCollage(olivettHeight, olivettWidth, 1, 1, xZeroPhase, randImgs, getOlivettiface)\n",
    "\n",
    "print \"Mean acc:\" + str(randomSplit(np.transpose(xNoPhase),Y))"
   ]
  },
  {
   "cell_type": "code",
   "execution_count": 32,
   "metadata": {
    "collapsed": false
   },
   "outputs": [
    {
     "name": "stderr",
     "output_type": "stream",
     "text": [
      "C:\\Users\\AI\\Anaconda\\lib\\site-packages\\IPython\\kernel\\__main__.py:13: ComplexWarning: Casting complex values to real discards the imaginary part\n"
     ]
    }
   ],
   "source": [
    "# Make Filtered Datasets\n",
    "height = 63\n",
    "width = 63\n",
    "\n",
    "for w in range(5, 40, 5):\n",
    "    (X,Y) = loadOlivettiData()\n",
    "    F = recFilter(width, (height-1)/2, w, w)\n",
    "    randImgs = [0, 72, 84, 9, 111]\n",
    "\n",
    "    for i in range(0, X.shape[1]):\n",
    "        for j in range(0, F.shape[0]):\n",
    "            X[j,i] = X[j,i] * F[j]\n",
    "\n",
    "    #print np.count_nonzero(X[0:F.shape[0]+1,0])\n",
    "    np.save(\"olivettiF_R_\" + str(w) + \"_\" + str(w), X)\n",
    "    c = makeCollage(height, width, 1, 1, X, randImgs, getOlivettiFFTImg)\n",
    "    scipy.misc.imsave('oFFT_R_' + str(w) + \"_\" + str(w) + '.jpg', c)\n",
    "    c = makeCollage(height, width, 1, 1, X, randImgs, getOlivettiface)\n",
    "    scipy.misc.imsave('oRecon_R_' + str(w) + \"_\" + str(w) + '.jpg', c)"
   ]
  },
  {
   "cell_type": "code",
   "execution_count": 112,
   "metadata": {
    "collapsed": false,
    "scrolled": true
   },
   "outputs": [],
   "source": [
    "# Run Classification on Filtered Data (Rectangle)\n",
    "accuracy_phase = np.array([])\n",
    "dim_phase = np.array([]) \n",
    "accuracy_nophase = np.array([])\n",
    "dim_nophase = np.array([]) \n",
    "\n",
    "# load the labels \n",
    "(X,Y) = loadYaleData()\n",
    "\n",
    "for w in range(10, 130, 10):\n",
    "    # load filtered data \n",
    "    X = np.load(\"./Filters/FilteredData/yaleF_R_\" + str(w) + \"_\" + str(w) + \".npy\")\n",
    "        \n",
    "    X_nophase = np.zeros([X.shape[0]/2, X.shape[1]])\n",
    "    for i in range(0,X.shape[1]):\n",
    "        X_nophase[:,i] = removePhase(X[:,i])[:]\n",
    "    \n",
    "    \n",
    "    accuracy_phase = np.append(accuracy_phase, randomSplit(np.transpose(X),Y))\n",
    "    print accuracy_phase[-1]\n",
    "    \n",
    "    dim_phase = np.append(dim_phase, w*w + X.shape[0]/2) \n",
    "    print dim_phase[-1]\n",
    "    \n",
    "    accuracy_nophase = np.append(accuracy_nophase, randomSplit(np.transpose(X_nophase),Y))\n",
    "    print accuracy_nophase[-1]\n",
    "    \n",
    "    dim_nophase = np.append(dim_nophase, w*w)\n",
    "    print dim_nophase[-1]\n",
    "\n",
    "np.savetxt(\"Y_R_acc_phase\", accuracy_phase)\n",
    "np.savetxt(\"Y_R_dim_phase\", dim_phase)\n",
    "np.savetxt(\"Y_R_acc_nophase\", accuracy_nophase)\n",
    "np.savetxt(\"Y_R_dim_phase\", dim_nophase)\n"
   ]
  },
  {
   "cell_type": "code",
   "execution_count": null,
   "metadata": {
    "collapsed": false,
    "scrolled": true
   },
   "outputs": [],
   "source": [
    "# Run Classification on Filtered Data (Triangle)\n",
    "accuracy_phase = np.array([])\n",
    "dim_phase = np.array([]) \n",
    "accuracy_nophase = np.array([])\n",
    "dim_nophase = np.array([]) \n",
    "\n",
    "# load the labels \n",
    "(X,Y) = loadOlivettiData()\n",
    "\n",
    "for w in range(5, 40, 5):\n",
    "    # load filtered data \n",
    "    X = np.load(\"./Filters/FilteredData/olivettiF_T_\" + str(w) + \"_\" + str(w) + \".npy\")\n",
    "    \n",
    "    #c = makeCollage(olivettHeight, olivettWidth, 1, 1, X, randImgs, getOlivettiFFTImg)\n",
    "    #plt.imshow(c)\n",
    "    #plt.show()\n",
    "    \n",
    "    X_nophase = np.zeros([X.shape[0]/2, X.shape[1]])\n",
    "    for i in range(0,X.shape[1]):\n",
    "        X_nophase[:,i] = removePhase(X[:,i])[:]\n",
    "    \n",
    "    \n",
    "    accuracy_phase = np.append(accuracy_phase, randomSplit(np.transpose(X),Y))\n",
    "    print accuracy_phase[-1]\n",
    "    \n",
    "    dim_phase = np.append(dim_phase, np.count_nonzero(X[0:X.shape[0]/2,0]) + X.shape[0]/2)\n",
    "    print dim_phase[-1]\n",
    "    \n",
    "    accuracy_nophase = np.append(accuracy_nophase, randomSplit(np.transpose(X_nophase),Y))\n",
    "    print accuracy_nophase[-1]\n",
    "    \n",
    "    dim_nophase = np.append(dim_nophase, np.count_nonzero(X[0:X.shape[0]/2,0]))\n",
    "    print dim_nophase[-1]\n",
    "\n",
    "np.savetxt(\"O_T_acc_phase\", accuracy_phase)\n",
    "np.savetxt(\"O_T_dim_phase\", dim_phase)\n",
    "np.savetxt(\"O_T_acc_nophase\", accuracy_nophase)\n",
    "np.savetxt(\"O_T_dim_nophase\", dim_nophase)\n"
   ]
  },
  {
   "cell_type": "code",
   "execution_count": 22,
   "metadata": {
    "collapsed": false
   },
   "outputs": [],
   "source": [
    "accuracy_phase = np.loadtxt(\"Y_R_acc_phase\")\n",
    "dim_phase = np.loadtxt(\"Y_R_dim_phase\")\n",
    "accuracy_nophase = np.loadtxt(\"Y_R_acc_nophase\")\n",
    "dim_nophase = np.loadtxt(\"Y_R_dim_nophase\")\n",
    "\n",
    "plt.title(\"Yale Rectanular Filter With Phase\")\n",
    "plt.xlabel(\"Dimension\")\n",
    "plt.ylabel(\"Mean Accuracy\")\n",
    "plt.scatter(dim_phase, accuracy_phase)\n",
    "plt.show()\n",
    "\n",
    "plt.title(\"Yale Rectanular Filter Without Phase\")\n",
    "plt.xlabel(\"Dimension\")\n",
    "plt.ylabel(\"Mean Accuracy\")\n",
    "plt.scatter(dim_nophase, accuracy_nophase)\n",
    "plt.show()"
   ]
  },
  {
   "cell_type": "code",
   "execution_count": 10,
   "metadata": {
    "collapsed": false
   },
   "outputs": [
    {
     "ename": "ValueError",
     "evalue": "sample larger than population",
     "output_type": "error",
     "traceback": [
      "\u001b[1;31m---------------------------------------------------------------------------\u001b[0m",
      "\u001b[1;31mValueError\u001b[0m                                Traceback (most recent call last)",
      "\u001b[1;32m<ipython-input-10-85f4e4bdd1c5>\u001b[0m in \u001b[0;36m<module>\u001b[1;34m()\u001b[0m\n\u001b[1;32m----> 1\u001b[1;33m \u001b[1;32mprint\u001b[0m \u001b[0mrandom\u001b[0m\u001b[1;33m.\u001b[0m\u001b[0msample\u001b[0m\u001b[1;33m(\u001b[0m\u001b[0mrange\u001b[0m\u001b[1;33m(\u001b[0m\u001b[1;36m20\u001b[0m\u001b[1;33m)\u001b[0m\u001b[1;33m,\u001b[0m \u001b[1;36m100\u001b[0m\u001b[1;33m)\u001b[0m\u001b[1;33m\u001b[0m\u001b[0m\n\u001b[0m",
      "\u001b[1;32mC:\\Users\\AI\\Anaconda\\lib\\random.pyc\u001b[0m in \u001b[0;36msample\u001b[1;34m(self, population, k)\u001b[0m\n\u001b[0;32m    321\u001b[0m         \u001b[0mn\u001b[0m \u001b[1;33m=\u001b[0m \u001b[0mlen\u001b[0m\u001b[1;33m(\u001b[0m\u001b[0mpopulation\u001b[0m\u001b[1;33m)\u001b[0m\u001b[1;33m\u001b[0m\u001b[0m\n\u001b[0;32m    322\u001b[0m         \u001b[1;32mif\u001b[0m \u001b[1;32mnot\u001b[0m \u001b[1;36m0\u001b[0m \u001b[1;33m<=\u001b[0m \u001b[0mk\u001b[0m \u001b[1;33m<=\u001b[0m \u001b[0mn\u001b[0m\u001b[1;33m:\u001b[0m\u001b[1;33m\u001b[0m\u001b[0m\n\u001b[1;32m--> 323\u001b[1;33m             \u001b[1;32mraise\u001b[0m \u001b[0mValueError\u001b[0m\u001b[1;33m(\u001b[0m\u001b[1;34m\"sample larger than population\"\u001b[0m\u001b[1;33m)\u001b[0m\u001b[1;33m\u001b[0m\u001b[0m\n\u001b[0m\u001b[0;32m    324\u001b[0m         \u001b[0mrandom\u001b[0m \u001b[1;33m=\u001b[0m \u001b[0mself\u001b[0m\u001b[1;33m.\u001b[0m\u001b[0mrandom\u001b[0m\u001b[1;33m\u001b[0m\u001b[0m\n\u001b[0;32m    325\u001b[0m         \u001b[0m_int\u001b[0m \u001b[1;33m=\u001b[0m \u001b[0mint\u001b[0m\u001b[1;33m\u001b[0m\u001b[0m\n",
      "\u001b[1;31mValueError\u001b[0m: sample larger than population"
     ]
    }
   ],
   "source": []
  },
  {
   "cell_type": "code",
   "execution_count": null,
   "metadata": {
    "collapsed": true
   },
   "outputs": [],
   "source": []
  }
 ],
 "metadata": {
  "kernelspec": {
   "display_name": "Python 2",
   "language": "python",
   "name": "python2"
  },
  "language_info": {
   "codemirror_mode": {
    "name": "ipython",
    "version": 2
   },
   "file_extension": ".py",
   "mimetype": "text/x-python",
   "name": "python",
   "nbconvert_exporter": "python",
   "pygments_lexer": "ipython2",
   "version": "2.7.10"
  }
 },
 "nbformat": 4,
 "nbformat_minor": 0
}
