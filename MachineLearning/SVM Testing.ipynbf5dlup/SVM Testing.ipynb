{
 "cells": [
  {
   "cell_type": "code",
   "execution_count": 1,
   "metadata": {
    "collapsed": false
   },
   "outputs": [],
   "source": [
    "import scipy.io\n",
    "import numpy as np\n",
    "import matplotlib.pyplot as plt\n",
    "from random import sample\n",
    "import numpy as np\n",
    "from sklearn import svm\n",
    "from sklearn import preprocessing\n",
    "from sklearn import metrics\n",
    "from sklearn import cross_validation\n",
    "from sklearn import grid_search"
   ]
  },
  {
   "cell_type": "code",
   "execution_count": 2,
   "metadata": {
    "collapsed": false
   },
   "outputs": [],
   "source": [
    "# SVM CLASSIFICATION FUNCTIONS\n",
    "def randomSplit(X,y):\n",
    "    accuracy = np.array([])\n",
    "    # do 20 random splits\n",
    "    for i in range(20):\n",
    "        # leave 20% out for testing\n",
    "        skf = cross_validation.StratifiedKFold(y,n_folds=5,shuffle=True)\n",
    "    \n",
    "    for cv_i,test_i in skf:\n",
    "        train_X = X[cv_i]\n",
    "        train_y = y[cv_i]\n",
    "        # do training here\n",
    "        clf = gridSearchSVM(train_X,train_y)\n",
    "\n",
    "    # do testing here\n",
    "    test_X = X[test_i]\n",
    "    test_y = y[test_i]\n",
    "    prediction = clf.predict(test_X)\n",
    "    # record performance\n",
    "    foo = performance(prediction, test_y)\n",
    "    accuracy = np.append(accuracy, foo)\n",
    "    mean_acc = np.mean(accuracy)\n",
    "    return mean_acc\n",
    "\n",
    "\n",
    "def gridSearchSVM(X,y):\n",
    "    parameters = {'kernel':('linear','rbf'), 'C':[1,20]}\n",
    "    svr  = svm.SVC()\n",
    "    clf = grid_search.GridSearchCV(svr, parameters, cv = 5, n_jobs = 4, verbose=1)\n",
    "    clf.fit(X,y)\n",
    "    return clf\n",
    "\n",
    "def performance(prediction, target):\n",
    "    acc = metrics.accuracy_score(target, prediction, normalize=True)\n",
    "    return acc"
   ]
  },
  {
   "cell_type": "code",
   "execution_count": null,
   "metadata": {
    "collapsed": true
   },
   "outputs": [],
   "source": [
    "# DATA LOADING FUNCTIONS\n",
    "def loadYaleData():\n",
    "    X = np.matrix(scipy.io.loadmat('yalefacesFFT.mat')['DATA'])\n",
    "    individuals = 15; \n",
    "    picsPerInd = 11;\n",
    "    Y = np.zeros((individuals*picsPerInd))\n",
    "    for i in range(0,individuals):\n",
    "        Y[(i)*picsPerInd:(i+1)*picsPerInd] = i;\n",
    "    return (X,Y)\n",
    "\n",
    "def loadOlivettiData():\n",
    "    X = np.matrix(scipy.io.loadmat('olivettifacesFFT.mat')['DATA'])\n",
    "    individuals = 40; \n",
    "    picsPerInd = 10;\n",
    "    Y = np.zeros((individuals*picsPerInd))\n",
    "    for i in range(0,individuals):\n",
    "        Y[(i)*picsPerInd:(i+1)*picsPerInd] = i;\n",
    "    return (X,Y)"
   ]
  },
  {
   "cell_type": "code",
   "execution_count": null,
   "metadata": {
    "collapsed": true
   },
   "outputs": [],
   "source": [
    "# TRANFORMATION FUNCTIONS\n",
    "\n",
    "def removePhase(h, w, V):\n",
    "    return V[0:w*(h-1)/2];"
   ]
  },
  {
   "cell_type": "code",
   "execution_count": 3,
   "metadata": {
    "collapsed": false
   },
   "outputs": [],
   "source": [
    "# RECONSTRUCTION FUNCTIONS\n",
    "\n",
    "# Reconstruct an image from the Yale database \n",
    "# based on the all frequecies and phases\n",
    "def getYaleface(V):\n",
    "    R = V[0:319*122];\n",
    "    theta = V[319*122:];\n",
    "\n",
    "    # set reshape to FORTRAN order since that is what matlab uses\n",
    "    R = np.reshape(R, (122,319),order='F')\n",
    "    theta = np.reshape(theta, (122,319),order='F')\n",
    "\n",
    "    FFTimg = np.multiply(R,np.exp(np.sqrt(-1+0j)*theta));\n",
    "    FFTimg = np.concatenate((FFTimg, np.conj(np.rot90(FFTimg[0:121,:],2))), axis=0);       \n",
    "    img = np.fft.ifft2(np.fft.ifftshift(FFTimg));\n",
    "    \n",
    "    return np.real(img)\n",
    "\n",
    "# Reconstruct an image from the Olivetti database \n",
    "# based on the all frequecies and phases\n",
    "def getOlivettiface(V):\n",
    "    R = V[0:63*32];\n",
    "    theta = V[63*32:];\n",
    "\n",
    "    # set reshape to FORTRAN order since that is what matlab uses\n",
    "    R = np.reshape(R, (32,63),order='F')\n",
    "    theta = np.reshape(theta, (32,63),order='F')\n",
    "\n",
    "    FFTimg = np.multiply(R,np.exp(np.sqrt(-1+0j)*theta));\n",
    "    FFTimg = np.concatenate((FFTimg, np.conj(np.rot90(FFTimg[0:31,:],2))), axis=0);       \n",
    "    img = np.fft.ifft2(np.fft.ifftshift(FFTimg));\n",
    "    \n",
    "    return np.real(img)\n",
    "\n",
    "def removePhase(h, w, V):\n",
    "    return V[0:w*(h-1)/2];"
   ]
  },
  {
   "cell_type": "code",
   "execution_count": 4,
   "metadata": {
    "collapsed": false
   },
   "outputs": [],
   "source": [
    "# DISPLAY FUNCTIONS\n",
    "# h,w are height and width of the individual images, nh,nw are the dimensions of the \n",
    "# collage interms of images \n",
    "def makeCollage(h, w, nh, nw, DATA, getImage):\n",
    "    border = 10\n",
    "    collage = np.zeros((h*nh+border*(nh+1),w*nw+border*(nw+1)))\n",
    "    randImg = sample(xrange(DATA.shape[1]), nw*nh)\n",
    "    \n",
    "    for i in range(0,nw):\n",
    "        for j in range(0,nh):\n",
    "            img = getImage(DATA[:,randImg[nw*i + j]])\n",
    "            collage[(i+1)*border-1+i*h:(i+1)*h+(i+1)*border-1, (j+1)*border+j*w-1:(j+1)*border-1+(j+1)*w] = img\n",
    "\n",
    "    plt.imshow(collage);\n",
    "    plt.gray()\n",
    "    plt.show()\n",
    "    "
   ]
  },
  {
   "cell_type": "code",
   "execution_count": 6,
   "metadata": {
    "collapsed": false
   },
   "outputs": [],
   "source": []
  },
  {
   "cell_type": "code",
   "execution_count": null,
   "metadata": {
    "collapsed": false
   },
   "outputs": [],
   "source": []
  },
  {
   "cell_type": "code",
   "execution_count": null,
   "metadata": {
    "collapsed": false
   },
   "outputs": [],
   "source": [
    "(X,Y) = loadYaleData()\n",
    "makeCollage(243, 319, 10, 10, X, getYaleface)\n",
    "(X,Y) = loadOlivettiData()\n",
    "makeCollage(63, 63, 10, 10, X, getOlivettiface)"
   ]
  },
  {
   "cell_type": "code",
   "execution_count": null,
   "metadata": {
    "collapsed": true
   },
   "outputs": [],
   "source": [
    "(X,Y) = loadOlivettiData()\n",
    "print randomSplit(np.transpose(X),Y)"
   ]
  }
 ],
 "metadata": {
  "kernelspec": {
   "display_name": "Python 2",
   "language": "python",
   "name": "python2"
  },
  "language_info": {
   "codemirror_mode": {
    "name": "ipython",
    "version": 2
   },
   "file_extension": ".py",
   "mimetype": "text/x-python",
   "name": "python",
   "nbconvert_exporter": "python",
   "pygments_lexer": "ipython2",
   "version": "2.7.10"
  }
 },
 "nbformat": 4,
 "nbformat_minor": 0
}
